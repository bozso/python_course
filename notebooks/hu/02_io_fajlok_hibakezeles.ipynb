{
 "cells": [
  {
   "cell_type": "markdown",
   "metadata": {},
   "source": [
    "# Fájlok olvasása, bevitel, kivitel\n",
    "\n",
    "Az egyik alapvető műveletek közé tartozik a programozásban a bemenet és kimenet kezelése. Adatot elsősorban az ún. standard bemenetről (standard input - stdin) és standard kimenetre (standard output - stdout) írhatunk. Természetesen az írás és olvasás műveletek elérhetőek fájlok esetén is.\n",
    "\n",
    "A tudományos programozás során elsősorban fájlokból olvasunk és fájlokba írunk.\n",
    "\n",
    "Ebben a *notebook*-ban a fájlok olvasásával és írásával ismerkedünk meg, illetve néhány alapvető karakterlánc (továbbiakban `string`) manipulációs művelettel.\n",
    "\n",
    "## Fájlok olvasása\n",
    "\n",
    "Felkiáltójellel (!) kezdve egy sort a cellában tudunk `shell` parancsokat kiadni. Linux alapú rendszerben a `cat` parancs egy fájl tartalmát nyomtatja ki, jelen esetben az `assets` mappában található `adat.txt` fájl tartalmát láthatjuk."
   ]
  },
  {
   "cell_type": "code",
<<<<<<< HEAD
   "execution_count": 1,
   "metadata": {},
   "outputs": [
    {
     "name": "stdout",
     "output_type": "stream",
     "text": [
      "01_bevezetes.ipynb\t\t\t 07_hdf5_olvasas_abrazolas.ipynb\r\n",
      "02_io_fajlok_hibakezeles.ipynb\t\t assets\r\n",
      "03_numpy.ipynb\t\t\t\t config.py\r\n",
      "04_linearis_algebra_matplotlib.ipynb\t module.py\r\n",
      "05_scipy.ipynb\t\t\t\t modules.ipynb\r\n",
      "06_objektom_orientalt_programozas.ipynb  __pycache__\r\n"
     ]
    }
   ],
   "source": [
    "!ls"
   ]
  },
  {
   "cell_type": "code",
   "execution_count": 2,
||||||| merged common ancestors
   "execution_count": 2,
=======
   "execution_count": 3,
>>>>>>> 7ad33336eb39c77c3273df973c7f3c8b5245028a
   "metadata": {},
   "outputs": [
    {
     "name": "stdout",
     "output_type": "stream",
     "text": [
      "összesen 1368\r\n",
      "-rw-rw-r-- 1 istvan istvan  39094 márc  16 11:16 01_bevezetes.ipynb\r\n",
      "-rw-rw-r-- 1 istvan istvan  32912 márc  16 11:19 02_io_fajlok_hibakezeles.ipynb\r\n",
      "-rw-rw-r-- 1 istvan istvan  53870 márc  24  2022 03_numpy.ipynb\r\n",
      "-rw-rw-r-- 1 istvan istvan 105161 márc  31  2022 04_linearis_algebra_matplotlib.ipynb\r\n",
      "-rw-rw-r-- 1 istvan istvan 855961 ápr   21  2022 05_scipy.ipynb\r\n",
      "-rw-rw-r-- 1 istvan istvan 193522 ápr   22  2021 06_objektom_orientalt_programozas.ipynb\r\n",
      "-rw-rw-r-- 1 istvan istvan  75425 ápr   29  2021 07_hdf5_olvasas_abrazolas.ipynb\r\n",
      "drwxrwxr-x 2 istvan istvan   4096 márc  31  2022 assets\r\n",
      "-rw-rw-r-- 1 istvan istvan     92 ápr   28  2022 config.py\r\n",
      "-rw-rw-r-- 1 istvan istvan     59 márc  16 10:42 module.py\r\n",
      "-rw-rw-r-- 1 istvan istvan   9200 ápr   28  2022 modules.ipynb\r\n",
      "drwxrwxr-x 2 istvan istvan   4096 márc  16 10:43 __pycache__\r\n"
     ]
    }
   ],
   "source": [
    "!ls -l"
   ]
  },
  {
   "cell_type": "code",
   "execution_count": 4,
   "metadata": {},
   "outputs": [
    {
     "name": "stdout",
     "output_type": "stream",
     "text": [
      "1 2\r\n",
      "3 4"
     ]
    }
   ],
   "source": [
    "!cat assets/adat.txt"
   ]
  },
  {
   "cell_type": "code",
   "execution_count": 4,
   "metadata": {},
   "outputs": [
    {
     "name": "stdout",
     "output_type": "stream",
     "text": [
      "01_bevezetes.ipynb\t\t      05_scipy.ipynb\r\n",
      "02_io_fajlok_hibakezeles.ipynb\t      06_objektom_orientalt_programozas.ipynb\r\n",
      "03_numpy.ipynb\t\t\t      assets\r\n",
      "04_linearis_algebra_matplotlib.ipynb  first_notebook.ipynb\r\n"
     ]
    }
   ],
   "source": [
    "!ls"
   ]
  },
  {
   "cell_type": "markdown",
   "metadata": {},
   "source": [
    "Fájlokat az `open` függvény segítségével nyithatunk meg. Ez a függvény a nagyjából a C vagy Matlab `fopen` függvényével ekvivalens. Az első argumentuma a fájl elérési útvonala, a második argumentuma a fájl megnyitásának módja:\n",
    "- `\"r\"` = read; fájl megnyitása olvasásra\n",
    "- `\"w\"` = write; fájl megnyitása írásra, a fájl előző tartalma törlődik\n",
    "- `\"a\"` = append; fájl megnyitása írásra, a fájl előző tartalma nem törlődik, a fájl végére tudunk írni\n",
    "- `\"r+\"`, `\"w+\"`; fájl megnyitásra írásra **ÉS** olvasásra\n",
    "- `\"rb\"`, `\"wb\"` binary read/write; fájl bináris módban történő olvasása és írása\n",
    "\n",
    "Erősen ajánlott csak egyfajta módot alkalmazni, fájlt **csak** írásra **vagy csak** olvasásra megnyitni. Fájlt egyszerre írni és olvasni problémás lehet. Pl. mi a helyzet akkor ha nem csak mi írunk a fájlba, hanem egy másik program is."
   ]
  },
  {
   "cell_type": "code",
   "execution_count": 5,
   "metadata": {},
   "outputs": [],
   "source": [
    "# fájl megnyitása olvasásra\n",
    "file = open(\"assets/adat.txt\", \"r\")\n",
    "# windows esetén\n",
    "# file = open(\"assets\\adat.txt\", \"r\")"
   ]
  },
  {
   "cell_type": "code",
   "execution_count": 6,
   "metadata": {},
   "outputs": [
    {
     "data": {
      "text/plain": [
       "<_io.TextIOWrapper name='assets/adat.txt' mode='r' encoding='UTF-8'>"
      ]
     },
     "execution_count": 6,
     "metadata": {},
     "output_type": "execute_result"
    }
   ],
   "source": [
    "file"
   ]
  },
  {
   "cell_type": "markdown",
   "metadata": {},
   "source": [
    "Egy megnyitott fájlon ugyanúgy lehet végigjárni (végigiterálni) mint egy Python tárolón (pl. list-en). Ekkor a `line` változó a fájl egy sorát tartalmazó string lesz."
   ]
  },
  {
   "cell_type": "code",
   "execution_count": 7,
   "metadata": {},
   "outputs": [
    {
     "name": "stdout",
     "output_type": "stream",
     "text": [
      "1 2\n",
      "\n",
      "3 4\n"
     ]
    }
   ],
   "source": [
    "for line in file:\n",
    "    print(line)"
   ]
  },
  {
   "cell_type": "markdown",
   "metadata": {},
   "source": [
    "Ha egyszer végigjártuk a fájlt, azt nem tudjuk újra végigjárni, előtte vissza kell térni a fájl elejére. Ezt a `seek` metódussal tehetjük meg.\n",
    "\n",
    "## Rövid kitérő: metódusok\n",
    "\n",
    "Bővebben az objektum orientált programozás során fogunk velük foglalkozni. Egyenlőre annyit jegyezzünk meg, hogy a metódusok olyan speciális függvények, melye egy adott Python objektumhoz tartoznak és képesek az objektumot, annak állapotát, megváltoztatni. Pl. a seek metódussal visszatérhetünk a fájl elejére."
   ]
  },
  {
   "cell_type": "code",
   "execution_count": 10,
   "metadata": {},
   "outputs": [
    {
     "name": "stdout",
     "output_type": "stream",
     "text": [
      "1 2\n",
      "\n",
      "3 4\n"
     ]
    }
   ],
   "source": [
    "for line in file:\n",
    "    print(line)"
   ]
  },
  {
   "cell_type": "code",
   "execution_count": 11,
   "metadata": {},
   "outputs": [
    {
     "data": {
      "text/plain": [
       "0"
      ]
     },
     "execution_count": 11,
     "metadata": {},
     "output_type": "execute_result"
    }
   ],
   "source": [
    "# seek(0, 0) = nulla bájtot szeretnénk lépni, a fájl elejétől\n",
    "file.seek(0, 0)"
   ]
  },
  {
   "cell_type": "markdown",
   "metadata": {},
   "source": [
    "A `readline` metódus segítségével szintén soronként tudjuk olvasni a fájl tartalmát."
   ]
  },
  {
   "cell_type": "code",
   "execution_count": 12,
   "metadata": {},
   "outputs": [
    {
     "data": {
      "text/plain": [
       "'1 2\\n'"
      ]
     },
     "execution_count": 12,
     "metadata": {},
     "output_type": "execute_result"
    }
   ],
   "source": [
    "file.readline()"
   ]
  },
  {
   "cell_type": "code",
   "execution_count": 13,
   "metadata": {},
   "outputs": [
    {
     "data": {
      "text/plain": [
       "'3 4'"
      ]
     },
     "execution_count": 13,
     "metadata": {},
     "output_type": "execute_result"
    }
   ],
   "source": [
    "file.readline()"
   ]
  },
  {
   "cell_type": "code",
<<<<<<< HEAD
   "execution_count": 14,
||||||| merged common ancestors
   "execution_count": 8,
=======
   "execution_count": 11,
>>>>>>> 7ad33336eb39c77c3273df973c7f3c8b5245028a
   "metadata": {},
   "outputs": [
    {
     "data": {
      "text/plain": [
       "''"
      ]
     },
<<<<<<< HEAD
     "execution_count": 14,
||||||| merged common ancestors
     "execution_count": 8,
=======
     "execution_count": 11,
>>>>>>> 7ad33336eb39c77c3273df973c7f3c8b5245028a
     "metadata": {},
     "output_type": "execute_result"
    }
   ],
   "source": [
    "file.readline()"
   ]
  },
  {
   "cell_type": "markdown",
   "metadata": {},
   "source": [
    "A `readlines` metódus pedig egy list-be gyűjti a fájl sorainak tartalmát."
   ]
  },
  {
   "cell_type": "code",
<<<<<<< HEAD
   "execution_count": 15,
   "metadata": {},
   "outputs": [
    {
     "data": {
      "text/plain": [
       "0"
      ]
     },
     "execution_count": 15,
     "metadata": {},
     "output_type": "execute_result"
    }
   ],
   "source": [
    "file.seek(0,0)"
   ]
  },
  {
   "cell_type": "code",
   "execution_count": 16,
||||||| merged common ancestors
   "execution_count": 11,
=======
   "execution_count": 12,
>>>>>>> 7ad33336eb39c77c3273df973c7f3c8b5245028a
   "metadata": {},
   "outputs": [],
   "source": [
    "lines = file.readlines()"
   ]
  },
  {
   "cell_type": "code",
   "execution_count": 17,
   "metadata": {},
   "outputs": [
    {
     "name": "stdout",
     "output_type": "stream",
     "text": [
      "['1 2\\n', '3 4']\n"
     ]
    }
   ],
   "source": [
    "print(lines)"
   ]
  },
  {
   "cell_type": "markdown",
   "metadata": {},
   "source": [
    "## Alapvető string műveletek\n",
    "\n",
    "A `lines` változó egy, olyan list, melynek elemei a fájl egyes sorainak felelnek meg. Egy sor string-ként van eltárolva. A string (magyarul karakterlánc; ritkán használt), ahogy a neve is sejteti, karakterek sorozatát vagy láncolatát tartalmazza.\n",
    "\n",
    "Tekintsünk át néhány hasznos string metódust.\n",
    "\n",
    "A `split` metódus egy új list-et hoz létre a string-ből. A létrehozott list elemei maguk is string-ek. A kiinduló string elemeinek szétválasztása új string elemekké az ún. whitespace (tabulátor, space, soremelés = `\\n`) karaktereknél történik."
   ]
  },
  {
   "cell_type": "code",
<<<<<<< HEAD
   "execution_count": 18,
||||||| merged common ancestors
   "execution_count": 16,
=======
   "execution_count": 14,
>>>>>>> 7ad33336eb39c77c3273df973c7f3c8b5245028a
   "metadata": {},
   "outputs": [
    {
     "data": {
      "text/plain": [
       "'1 2\\n'"
      ]
     },
<<<<<<< HEAD
     "execution_count": 18,
||||||| merged common ancestors
     "execution_count": 16,
=======
     "execution_count": 14,
>>>>>>> 7ad33336eb39c77c3273df973c7f3c8b5245028a
     "metadata": {},
     "output_type": "execute_result"
    }
   ],
   "source": [
    "# az első sor\n",
    "lines[0]"
   ]
  },
  {
   "cell_type": "code",
<<<<<<< HEAD
   "execution_count": 20,
||||||| merged common ancestors
   "execution_count": 17,
=======
   "execution_count": 18,
   "metadata": {},
   "outputs": [
    {
     "data": {
      "text/plain": [
       "(list, str)"
      ]
     },
     "execution_count": 18,
     "metadata": {},
     "output_type": "execute_result"
    }
   ],
   "source": [
    "type(lines), type(lines[0])"
   ]
  },
  {
   "cell_type": "code",
   "execution_count": 23,
   "metadata": {},
   "outputs": [],
   "source": [
    "split = lines[0].split()"
   ]
  },
  {
   "cell_type": "code",
   "execution_count": 22,
   "metadata": {},
   "outputs": [
    {
     "name": "stdout",
     "output_type": "stream",
     "text": [
      "Help on method_descriptor:\n",
      "\n",
      "split(self, /, sep=None, maxsplit=-1)\n",
      "    Return a list of the words in the string, using sep as the delimiter string.\n",
      "    \n",
      "    sep\n",
      "      The delimiter according which to split the string.\n",
      "      None (the default value) means split according to any whitespace,\n",
      "      and discard empty strings from the result.\n",
      "    maxsplit\n",
      "      Maximum number of splits to do.\n",
      "      -1 (the default value) means no limit.\n",
      "\n"
     ]
    }
   ],
   "source": [
    "help(str.split)"
   ]
  },
  {
   "cell_type": "code",
   "execution_count": 24,
>>>>>>> 7ad33336eb39c77c3273df973c7f3c8b5245028a
   "metadata": {},
   "outputs": [
    {
     "data": {
      "text/plain": [
       "['1', '2']"
      ]
     },
<<<<<<< HEAD
     "execution_count": 20,
||||||| merged common ancestors
     "execution_count": 17,
=======
     "execution_count": 24,
     "metadata": {},
     "output_type": "execute_result"
    }
   ],
   "source": [
    "split"
   ]
  },
  {
   "cell_type": "code",
   "execution_count": 25,
   "metadata": {},
   "outputs": [
    {
     "data": {
      "text/plain": [
       "'1'"
      ]
     },
     "execution_count": 25,
     "metadata": {},
     "output_type": "execute_result"
    }
   ],
   "source": [
    "split[0]"
   ]
  },
  {
   "cell_type": "code",
   "execution_count": 26,
   "metadata": {},
   "outputs": [
    {
     "data": {
      "text/plain": [
       "(1, 2.0)"
      ]
     },
     "execution_count": 26,
>>>>>>> 7ad33336eb39c77c3273df973c7f3c8b5245028a
     "metadata": {},
     "output_type": "execute_result"
    }
   ],
   "source": [
    "int(split[0]), float(split[1])"
   ]
  },
  {
   "cell_type": "code",
   "execution_count": 27,
   "metadata": {},
   "outputs": [
    {
     "data": {
      "text/plain": [
       "4"
      ]
     },
     "execution_count": 27,
     "metadata": {},
     "output_type": "execute_result"
    }
   ],
   "source": [
    "int(\"1\") + 3"
   ]
  },
  {
   "cell_type": "markdown",
   "metadata": {},
   "source": [
    "Az elválasztó karakter nem csak whitespace lehet."
   ]
  },
  {
   "cell_type": "code",
<<<<<<< HEAD
   "execution_count": 21,
||||||| merged common ancestors
   "execution_count": 18,
=======
   "execution_count": 28,
>>>>>>> 7ad33336eb39c77c3273df973c7f3c8b5245028a
   "metadata": {},
   "outputs": [
    {
     "data": {
      "text/plain": [
       "['1', '2', '3', '4']"
      ]
     },
<<<<<<< HEAD
     "execution_count": 21,
||||||| merged common ancestors
     "execution_count": 18,
=======
     "execution_count": 28,
>>>>>>> 7ad33336eb39c77c3273df973c7f3c8b5245028a
     "metadata": {},
     "output_type": "execute_result"
    }
   ],
   "source": [
    "\"1,2,3,4\".split(\",\")"
   ]
  },
  {
   "cell_type": "markdown",
   "metadata": {},
   "source": [
    "A `strip` metódus a string elejéről és végéről távolítja el a whitespace karaktereket."
   ]
  },
  {
   "cell_type": "code",
<<<<<<< HEAD
   "execution_count": 22,
||||||| merged common ancestors
   "execution_count": 19,
=======
   "execution_count": 29,
>>>>>>> 7ad33336eb39c77c3273df973c7f3c8b5245028a
   "metadata": {},
   "outputs": [
    {
     "data": {
      "text/plain": [
       "'min: 4.5'"
      ]
     },
<<<<<<< HEAD
     "execution_count": 22,
||||||| merged common ancestors
     "execution_count": 19,
=======
     "execution_count": 29,
>>>>>>> 7ad33336eb39c77c3273df973c7f3c8b5245028a
     "metadata": {},
     "output_type": "execute_result"
    }
   ],
   "source": [
    "\"   min: 4.5   \".strip()"
   ]
  },
  {
   "cell_type": "markdown",
   "metadata": {},
   "source": [
    "Az `rstrip` (rightstrip) csak a string végéről (jobb oldaláról) távolít el whitespace karaktereket. "
   ]
  },
  {
   "cell_type": "code",
   "execution_count": 23,
   "metadata": {},
   "outputs": [
    {
     "data": {
      "text/plain": [
       "'   min: 4.5'"
      ]
     },
     "execution_count": 23,
     "metadata": {},
     "output_type": "execute_result"
    }
   ],
   "source": [
    "\"   min: 4.5   \".rstrip()"
   ]
  },
  {
   "cell_type": "markdown",
   "metadata": {},
   "source": [
    "Az `lstrip` (leftstrip) csak a string elejéről (bal oldaláról) távolít el whitespace karaktereket. "
   ]
  },
  {
   "cell_type": "code",
   "execution_count": 24,
   "metadata": {},
   "outputs": [
    {
     "data": {
      "text/plain": [
       "'min: 4.5   '"
      ]
     },
     "execution_count": 24,
     "metadata": {},
     "output_type": "execute_result"
    }
   ],
   "source": [
    "\"   min: 4.5   \".lstrip()"
   ]
  },
  {
   "cell_type": "markdown",
   "metadata": {},
   "source": [
    "A strip függvények egy új string-el térnek vissza, melyre úgyanúgy alkalmazhatunk string metódusokat, így metódusok sorát tudjuk láncban alkalmazni (method chaining)."
   ]
  },
  {
   "cell_type": "code",
<<<<<<< HEAD
   "execution_count": 25,
||||||| merged common ancestors
   "execution_count": 23,
=======
   "execution_count": 30,
>>>>>>> 7ad33336eb39c77c3273df973c7f3c8b5245028a
   "metadata": {},
   "outputs": [
    {
     "data": {
      "text/plain": [
       "'min: 4.5'"
      ]
     },
<<<<<<< HEAD
     "execution_count": 25,
||||||| merged common ancestors
     "execution_count": 23,
=======
     "execution_count": 30,
>>>>>>> 7ad33336eb39c77c3273df973c7f3c8b5245028a
     "metadata": {},
     "output_type": "execute_result"
    }
   ],
   "source": [
    "# ugyanaz mintha a strip metódust hívtuk volna meg.\n",
    "\"   min: 4.5   \".lstrip().rstrip()"
   ]
  },
  {
   "cell_type": "markdown",
   "metadata": {},
   "source": [
    "Ha pl. egy konfigurációs fájlt olvasunk, ahol a kulcs érték párok `:`-al vannak elválasztva egy adott sort a következőképpen dolgozhatunk fel."
   ]
  },
  {
   "cell_type": "code",
   "execution_count": 26,
   "metadata": {},
   "outputs": [],
   "source": [
    "line = \"   min: 4.5   \""
   ]
  },
  {
   "cell_type": "code",
   "execution_count": 27,
   "metadata": {},
   "outputs": [
    {
     "data": {
      "text/plain": [
       "['min', ' 4.5']"
      ]
     },
     "execution_count": 27,
     "metadata": {},
     "output_type": "execute_result"
    }
   ],
   "source": [
    "# \"üres\" karakterek eltávolítása és a sor kettéválsztása ':' metntén\n",
    "line.strip().split(\":\")"
   ]
  },
  {
   "cell_type": "markdown",
   "metadata": {},
   "source": [
    "String-et többféleképpen definiálhatunk. Ha egy string túl hosszú, a `\\` karakterrel több sorba tördelhetjük. **Figyelem:** A string nem fog új sor karaktert tartlmazni, lásd a kinyomtatott sor a cella alatt."
   ]
  },
  {
   "cell_type": "code",
   "execution_count": 28,
   "metadata": {},
   "outputs": [
    {
     "data": {
      "text/plain": [
       "'asd asds asdsad'"
      ]
     },
     "execution_count": 28,
     "metadata": {},
     "output_type": "execute_result"
    }
   ],
   "source": [
    "\"asd asds \\\n",
    "asdsad\""
   ]
  },
  {
   "cell_type": "markdown",
   "metadata": {},
   "source": [
    "String formázása az újsor karterek megtartásával."
   ]
  },
  {
   "cell_type": "code",
<<<<<<< HEAD
   "execution_count": 29,
||||||| merged common ancestors
   "execution_count": 28,
=======
   "execution_count": 32,
>>>>>>> 7ad33336eb39c77c3273df973c7f3c8b5245028a
   "metadata": {},
<<<<<<< HEAD
   "outputs": [],
||||||| merged common ancestors
   "outputs": [
    {
     "data": {
      "text/plain": [
       "'\\naaa\\nbbb   df\\nccc\\n'"
      ]
     },
     "execution_count": 28,
     "metadata": {},
     "output_type": "execute_result"
    }
   ],
=======
   "outputs": [
    {
     "data": {
      "text/plain": [
       "'\\naaa\\nbbb   df\\nccc\\n'"
      ]
     },
     "execution_count": 32,
     "metadata": {},
     "output_type": "execute_result"
    }
   ],
>>>>>>> 7ad33336eb39c77c3273df973c7f3c8b5245028a
   "source": [
    "triple_quote = \"\"\"\n",
    "aaa\n",
    "bbb   df\n",
    "ccc\n",
    "\"\"\""
   ]
  },
  {
   "cell_type": "code",
   "execution_count": 31,
   "metadata": {},
   "outputs": [
    {
     "name": "stdout",
     "output_type": "stream",
     "text": [
      "\n",
      "aaa\n",
      "bbb   df\n",
      "ccc\n",
      "\n"
     ]
    }
   ],
   "source": [
    "print(triple_quote)"
   ]
  },
  {
   "cell_type": "markdown",
   "metadata": {},
   "source": [
    "Tegyük fel, hogy be szeretnénk olvasni egy konfigurációs fájlt. A konfigurációs fájlban a kulcs-érték párok `:`-al vannak elválasztva, a `#`-al kezdődő sorok kommentnek számítanak."
   ]
  },
  {
   "cell_type": "code",
<<<<<<< HEAD
   "execution_count": 32,
||||||| merged common ancestors
   "execution_count": 29,
=======
   "execution_count": 33,
>>>>>>> 7ad33336eb39c77c3273df973c7f3c8b5245028a
   "metadata": {},
   "outputs": [
    {
     "data": {
      "text/plain": [
       "'# comment\\nmax: 3.4\\nmin: -1.2'"
      ]
     },
<<<<<<< HEAD
     "execution_count": 32,
||||||| merged common ancestors
     "execution_count": 29,
=======
     "execution_count": 33,
>>>>>>> 7ad33336eb39c77c3273df973c7f3c8b5245028a
     "metadata": {},
     "output_type": "execute_result"
    }
   ],
   "source": [
    "# fájl tartalmának definiálása\n",
    "text = \"\"\"\\\n",
    "# comment\n",
    "max: 3.4\n",
    "min: -1.2\\\n",
    "\"\"\"\n",
    "text"
   ]
  },
  {
   "cell_type": "markdown",
   "metadata": {},
   "source": [
    "A kommentek kiszűrésére segítségünkre lehet a `startswith` metódus."
   ]
  },
  {
   "cell_type": "code",
   "execution_count": 34,
   "metadata": {},
   "outputs": [
    {
     "name": "stdout",
     "output_type": "stream",
     "text": [
      "Comment: # comment\n",
      "['max', ' 3.4']\n",
      "['min', ' -1.2']\n"
     ]
    }
   ],
   "source": [
    "# járjuk végig soronként a \"fájl\" tartalmát\n",
    "for line in text.split(\"\\n\"):\n",
    "    # ha a sor #-al kezdődik írjuk ki komment előtaggal\n",
    "    if line.startswith(\"#\"):\n",
    "        # continue\n",
    "        print(\"Comment:\", line)\n",
    "    # egyébként válasszuk ketté kulcs-érték párra a sort\n",
    "    else:\n",
    "        print(line.split(\":\"))"
   ]
  },
  {
   "cell_type": "markdown",
   "metadata": {},
   "source": [
    "Készítsunk egy dictionary-t, ami tartalmazza a a kulcs-érték párokat."
   ]
  },
  {
   "cell_type": "code",
   "execution_count": 35,
   "metadata": {},
   "outputs": [],
   "source": [
    "# üres dictionary készítése\n",
    "params = {}\n",
    "\n",
    "# járjuk végig soronként a \"fájl\" tartalmát\n",
    "for line in text.split(\"\\n\"):\n",
    "    # ha a sor nem #-al kezdődik adjuk hozzá a dictionary-hez\n",
    "    if not line.startswith(\"#\"):\n",
    "        s = line.split(\":\")\n",
    "        key, value = s[0].strip(), s[1].strip()\n",
    "        \n",
    "        params[key] = value"
   ]
  },
  {
   "cell_type": "code",
   "execution_count": 36,
   "metadata": {},
   "outputs": [
    {
     "data": {
      "text/plain": [
       "{'max': '3.4', 'min': '-1.2'}"
      ]
     },
     "execution_count": 36,
     "metadata": {},
     "output_type": "execute_result"
    }
   ],
   "source": [
    "params"
   ]
  },
  {
   "cell_type": "markdown",
   "metadata": {},
   "source": [
    "A list létrehozásához hasonlóan itt is használhatunk ún. comprehension-t."
   ]
  },
  {
   "cell_type": "code",
   "execution_count": 37,
   "metadata": {},
   "outputs": [],
   "source": [
    "params = {\n",
    "    line.split(\":\")[0].strip(): line.split(\":\")[1].strip()\n",
    "    for line in text.split(\"\\n\")\n",
    "    if not line.startswith(\"#\")\n",
    "}"
   ]
  },
  {
   "cell_type": "markdown",
   "metadata": {},
   "source": [
    "Elemek lekérése."
   ]
  },
  {
   "cell_type": "code",
<<<<<<< HEAD
   "execution_count": 37,
||||||| merged common ancestors
   "execution_count": 39,
=======
   "execution_count": 38,
>>>>>>> 7ad33336eb39c77c3273df973c7f3c8b5245028a
   "metadata": {},
   "outputs": [
    {
     "data": {
      "text/plain": [
       "'3.4'"
      ]
     },
<<<<<<< HEAD
     "execution_count": 37,
||||||| merged common ancestors
     "execution_count": 39,
=======
     "execution_count": 38,
>>>>>>> 7ad33336eb39c77c3273df973c7f3c8b5245028a
     "metadata": {},
     "output_type": "execute_result"
    }
   ],
   "source": [
    "params[\"max\"]"
   ]
  },
  {
   "cell_type": "code",
<<<<<<< HEAD
   "execution_count": 38,
||||||| merged common ancestors
   "execution_count": 40,
=======
   "execution_count": 39,
>>>>>>> 7ad33336eb39c77c3273df973c7f3c8b5245028a
   "metadata": {},
   "outputs": [
    {
     "data": {
      "text/plain": [
       "'-1.2'"
      ]
     },
<<<<<<< HEAD
     "execution_count": 38,
||||||| merged common ancestors
     "execution_count": 40,
=======
     "execution_count": 39,
>>>>>>> 7ad33336eb39c77c3273df973c7f3c8b5245028a
     "metadata": {},
     "output_type": "execute_result"
    }
   ],
   "source": [
    "params[\"min\"]"
   ]
  },
  {
   "cell_type": "markdown",
   "metadata": {},
   "source": [
    "A dictionary értékei továbbra is string-ek. Ahhoz, hogy számként tudjuk őket kezelni, át kell őket alakítani string-ből számmá, egyébként nem tudunk aritmetikai műveleteket végrehajtani rajtuk."
   ]
  },
  {
   "cell_type": "code",
<<<<<<< HEAD
   "execution_count": 39,
||||||| merged common ancestors
   "execution_count": 41,
=======
   "execution_count": 40,
>>>>>>> 7ad33336eb39c77c3273df973c7f3c8b5245028a
   "metadata": {},
   "outputs": [
    {
     "name": "stdout",
     "output_type": "stream",
     "text": [
      "3.4\n"
     ]
    },
    {
     "data": {
      "text/plain": [
       "4.4"
      ]
     },
<<<<<<< HEAD
     "execution_count": 39,
||||||| merged common ancestors
     "execution_count": 41,
=======
     "execution_count": 40,
>>>>>>> 7ad33336eb39c77c3273df973c7f3c8b5245028a
     "metadata": {},
     "output_type": "execute_result"
    }
   ],
   "source": [
    "num = float(params[\"max\"])\n",
    "print(num)\n",
    "num + 1.0"
   ]
  },
  {
   "cell_type": "markdown",
   "metadata": {},
   "source": [
    "# Python hibakezelés\n",
    "\n",
    "A Python hibakezelése az ún. Exception (Kivétel) értékeken alapszik. Tegyük fel, hogy meg akarunk nyitni egy fájlt, ami nem létezik:"
   ]
  },
  {
   "cell_type": "code",
<<<<<<< HEAD
   "execution_count": 40,
||||||| merged common ancestors
   "execution_count": 43,
=======
   "execution_count": 41,
>>>>>>> 7ad33336eb39c77c3273df973c7f3c8b5245028a
   "metadata": {},
   "outputs": [
    {
     "ename": "FileNotFoundError",
     "evalue": "[Errno 2] No such file or directory: 'a.txt'",
     "output_type": "error",
     "traceback": [
      "\u001b[0;31m---------------------------------------------------------------------------\u001b[0m",
      "\u001b[0;31mFileNotFoundError\u001b[0m                         Traceback (most recent call last)",
<<<<<<< HEAD
      "Input \u001b[0;32mIn [40]\u001b[0m, in \u001b[0;36m<cell line: 1>\u001b[0;34m()\u001b[0m\n\u001b[0;32m----> 1\u001b[0m \u001b[38;5;28;43mopen\u001b[39;49m\u001b[43m(\u001b[49m\u001b[38;5;124;43m\"\u001b[39;49m\u001b[38;5;124;43ma.txt\u001b[39;49m\u001b[38;5;124;43m\"\u001b[39;49m\u001b[43m,\u001b[49m\u001b[43m \u001b[49m\u001b[38;5;124;43m\"\u001b[39;49m\u001b[38;5;124;43mr\u001b[39;49m\u001b[38;5;124;43m\"\u001b[39;49m\u001b[43m)\u001b[49m\n",
||||||| merged common ancestors
      "\u001b[0;32m<ipython-input-43-29a71b945a84>\u001b[0m in \u001b[0;36m<module>\u001b[0;34m\u001b[0m\n\u001b[0;32m----> 1\u001b[0;31m \u001b[0mopen\u001b[0m\u001b[0;34m(\u001b[0m\u001b[0;34m\"a.txt\"\u001b[0m\u001b[0;34m,\u001b[0m \u001b[0;34m\"r\"\u001b[0m\u001b[0;34m)\u001b[0m\u001b[0;34m\u001b[0m\u001b[0;34m\u001b[0m\u001b[0m\n\u001b[0m",
=======
      "\u001b[0;32m<ipython-input-41-29a71b945a84>\u001b[0m in \u001b[0;36m<module>\u001b[0;34m\u001b[0m\n\u001b[0;32m----> 1\u001b[0;31m \u001b[0mopen\u001b[0m\u001b[0;34m(\u001b[0m\u001b[0;34m\"a.txt\"\u001b[0m\u001b[0;34m,\u001b[0m \u001b[0;34m\"r\"\u001b[0m\u001b[0;34m)\u001b[0m\u001b[0;34m\u001b[0m\u001b[0;34m\u001b[0m\u001b[0m\n\u001b[0m",
>>>>>>> 7ad33336eb39c77c3273df973c7f3c8b5245028a
      "\u001b[0;31mFileNotFoundError\u001b[0m: [Errno 2] No such file or directory: 'a.txt'"
     ]
    }
   ],
   "source": [
    "open(\"a.txt\", \"r\")"
   ]
  },
  {
   "cell_type": "markdown",
   "metadata": {},
   "source": [
    "A Python ekkor \"dob\" vagy \"emel\" egy kivételt (raise an exception). Miért is fontos ez számunkra? Tegyuk fel, hogy olvasni szeretnénk egy fájlt."
   ]
  },
  {
   "cell_type": "code",
<<<<<<< HEAD
   "execution_count": 41,
||||||| merged common ancestors
   "execution_count": 45,
=======
   "execution_count": 42,
>>>>>>> 7ad33336eb39c77c3273df973c7f3c8b5245028a
   "metadata": {},
   "outputs": [],
   "source": [
    "file = open(\"assets/adat.txt\", \"r\")\n",
    "\n",
    "file.readline()\n",
    "file.readline()\n",
    "\n",
    "file.close()"
   ]
  },
  {
   "cell_type": "markdown",
   "metadata": {},
   "source": [
    "A fájl olvasása rendben megtörtént és a `close` metódussal le is zártuk a fájlt. Ezt ellenőrizhetjük a file változó `closed` elemével."
   ]
  },
  {
   "cell_type": "code",
<<<<<<< HEAD
   "execution_count": 42,
||||||| merged common ancestors
   "execution_count": 46,
=======
   "execution_count": 43,
>>>>>>> 7ad33336eb39c77c3273df973c7f3c8b5245028a
   "metadata": {},
   "outputs": [
    {
     "data": {
      "text/plain": [
       "True"
      ]
     },
<<<<<<< HEAD
     "execution_count": 42,
||||||| merged common ancestors
     "execution_count": 46,
=======
     "execution_count": 43,
>>>>>>> 7ad33336eb39c77c3273df973c7f3c8b5245028a
     "metadata": {},
     "output_type": "execute_result"
    }
   ],
   "source": [
    "file.closed"
   ]
  },
  {
   "cell_type": "markdown",
   "metadata": {},
   "source": [
    "Mi a helyzet akkor, ha valami hiba történik az olvasás közben."
   ]
  },
  {
   "cell_type": "code",
<<<<<<< HEAD
   "execution_count": 43,
||||||| merged common ancestors
   "execution_count": 51,
=======
   "execution_count": 44,
>>>>>>> 7ad33336eb39c77c3273df973c7f3c8b5245028a
   "metadata": {},
   "outputs": [
    {
     "ename": "ZeroDivisionError",
     "evalue": "division by zero",
     "output_type": "error",
     "traceback": [
      "\u001b[0;31m---------------------------------------------------------------------------\u001b[0m",
      "\u001b[0;31mZeroDivisionError\u001b[0m                         Traceback (most recent call last)",
<<<<<<< HEAD
      "Input \u001b[0;32mIn [43]\u001b[0m, in \u001b[0;36m<cell line: 6>\u001b[0;34m()\u001b[0m\n\u001b[1;32m      3\u001b[0m file\u001b[38;5;241m.\u001b[39mreadline()\n\u001b[1;32m      4\u001b[0m file\u001b[38;5;241m.\u001b[39mreadline()\n\u001b[0;32m----> 6\u001b[0m \u001b[38;5;241;43m7\u001b[39;49m\u001b[43m \u001b[49m\u001b[38;5;241;43m/\u001b[39;49m\u001b[43m \u001b[49m\u001b[38;5;241;43m0\u001b[39;49m\n\u001b[1;32m      8\u001b[0m file\u001b[38;5;241m.\u001b[39mclose()\n",
||||||| merged common ancestors
      "\u001b[0;32m<ipython-input-51-abc7bc86b69c>\u001b[0m in \u001b[0;36m<module>\u001b[0;34m\u001b[0m\n\u001b[1;32m      4\u001b[0m \u001b[0mfile\u001b[0m\u001b[0;34m.\u001b[0m\u001b[0mreadline\u001b[0m\u001b[0;34m(\u001b[0m\u001b[0;34m)\u001b[0m\u001b[0;34m\u001b[0m\u001b[0;34m\u001b[0m\u001b[0m\n\u001b[1;32m      5\u001b[0m \u001b[0;34m\u001b[0m\u001b[0m\n\u001b[0;32m----> 6\u001b[0;31m \u001b[0;36m7\u001b[0m \u001b[0;34m/\u001b[0m \u001b[0;36m0\u001b[0m\u001b[0;34m\u001b[0m\u001b[0;34m\u001b[0m\u001b[0m\n\u001b[0m\u001b[1;32m      7\u001b[0m \u001b[0;34m\u001b[0m\u001b[0m\n\u001b[1;32m      8\u001b[0m \u001b[0mfile\u001b[0m\u001b[0;34m.\u001b[0m\u001b[0mclose\u001b[0m\u001b[0;34m(\u001b[0m\u001b[0;34m)\u001b[0m\u001b[0;34m\u001b[0m\u001b[0;34m\u001b[0m\u001b[0m\n",
=======
      "\u001b[0;32m<ipython-input-44-abc7bc86b69c>\u001b[0m in \u001b[0;36m<module>\u001b[0;34m\u001b[0m\n\u001b[1;32m      4\u001b[0m \u001b[0mfile\u001b[0m\u001b[0;34m.\u001b[0m\u001b[0mreadline\u001b[0m\u001b[0;34m(\u001b[0m\u001b[0;34m)\u001b[0m\u001b[0;34m\u001b[0m\u001b[0;34m\u001b[0m\u001b[0m\n\u001b[1;32m      5\u001b[0m \u001b[0;34m\u001b[0m\u001b[0m\n\u001b[0;32m----> 6\u001b[0;31m \u001b[0;36m7\u001b[0m \u001b[0;34m/\u001b[0m \u001b[0;36m0\u001b[0m\u001b[0;34m\u001b[0m\u001b[0;34m\u001b[0m\u001b[0m\n\u001b[0m\u001b[1;32m      7\u001b[0m \u001b[0;34m\u001b[0m\u001b[0m\n\u001b[1;32m      8\u001b[0m \u001b[0mfile\u001b[0m\u001b[0;34m.\u001b[0m\u001b[0mclose\u001b[0m\u001b[0;34m(\u001b[0m\u001b[0;34m)\u001b[0m\u001b[0;34m\u001b[0m\u001b[0;34m\u001b[0m\u001b[0m\n",
>>>>>>> 7ad33336eb39c77c3273df973c7f3c8b5245028a
      "\u001b[0;31mZeroDivisionError\u001b[0m: division by zero"
     ]
    }
   ],
   "source": [
    "file = open(\"assets/adat.txt\", \"r\")\n",
    "\n",
    "file.readline()\n",
    "file.readline()\n",
    "\n",
    "7 / 0\n",
    "\n",
    "file.close()"
   ]
  },
  {
   "cell_type": "markdown",
   "metadata": {},
   "source": [
    "A Python dobott egy kivételt. (Vegyük észre, hogy jelen esetben a kivétel típusa `ZeroDivisionError`, nem `FileNotFoundError`. A kivétel típusa információval szolgál a bekövetkezett hiba természetéről. A kivételeknek van egy adott hierarchiája, erről [itt](https://airbrake.io/blog/python-exception-handling/class-hierarchy) lehet többet olvasni.)\n",
    "\n",
    "Ez rendben is van, hiszen illegális műveletet próbáltunk végrehajtani (nullával osztás). Abban az esetben, amikor egy kivételt dob a Python értelmező, a program futása megáll, esetünkben nem érkeztünk el a fájlt lezáró műveletig, tehát nem zártuk le a fájlt."
   ]
  },
  {
   "cell_type": "code",
   "execution_count": 45,
   "metadata": {},
   "outputs": [
    {
     "data": {
      "text/plain": [
       "False"
      ]
     },
     "execution_count": 45,
     "metadata": {},
     "output_type": "execute_result"
    }
   ],
   "source": [
    "file.closed"
   ]
  },
  {
   "cell_type": "markdown",
   "metadata": {},
   "source": [
    "A fájl lezárásának elhalasztása több problémához is vezethet (technikai részletek [itt](https://www.quora.com/Why-do-we-need-to-flush-the-buffer-when-doing-I-O-operations?share=1)).\n",
    "\n",
    "A Pythonban a kivételek kezelése a `try` és `except` blokkok segítségével történik. Jelen példán keresztül bemutatva."
   ]
  },
  {
   "cell_type": "code",
<<<<<<< HEAD
   "execution_count": 6,
||||||| merged common ancestors
   "execution_count": 52,
=======
   "execution_count": 46,
>>>>>>> 7ad33336eb39c77c3273df973c7f3c8b5245028a
   "metadata": {},
   "outputs": [
    {
     "name": "stdout",
     "output_type": "stream",
     "text": [
      "Exception raised:  division by zero\n"
     ]
    }
   ],
   "source": [
    "try:\n",
    "    file = open(\"assets/adat.txt\", \"r\")\n",
    "\n",
    "    file.readline()\n",
    "    file.readline()\n",
    "\n",
    "    7 / 0\n",
    "    # exception elmentése az e változóba\n",
    "except Exception as e:\n",
    "    print(\"Exception raised: \", e)\n",
    "    file.close()\n",
    "    # további hibakezelés\n",
    "    \n",
    "file.close()"
   ]
  },
  {
   "cell_type": "code",
<<<<<<< HEAD
   "execution_count": 7,
||||||| merged common ancestors
   "execution_count": 53,
=======
   "execution_count": 47,
>>>>>>> 7ad33336eb39c77c3273df973c7f3c8b5245028a
   "metadata": {},
   "outputs": [
    {
     "data": {
      "text/plain": [
       "True"
      ]
     },
<<<<<<< HEAD
     "execution_count": 7,
||||||| merged common ancestors
     "execution_count": 53,
=======
     "execution_count": 47,
>>>>>>> 7ad33336eb39c77c3273df973c7f3c8b5245028a
     "metadata": {},
     "output_type": "execute_result"
    }
   ],
   "source": [
    "file.closed"
   ]
  },
  {
   "cell_type": "markdown",
   "metadata": {},
   "source": [
    "A probléma a fenti kóddal, hogy kétszer kell meghívnunk a close metódust. Egyik esetben, amikor hibával fut le a kódunk, másik esetben, amikor hiba nélkül. (Jelen esetben mindig hibával fog lefutni a kód, de a valóságban, természetesen nem jellemzőek az ilyen szituácók.)\n",
    "\n",
    "A probléma megoldásása a `finally` blokk használható."
   ]
  },
  {
   "cell_type": "code",
<<<<<<< HEAD
   "execution_count": 50,
||||||| merged common ancestors
   "execution_count": 57,
=======
   "execution_count": 48,
>>>>>>> 7ad33336eb39c77c3273df973c7f3c8b5245028a
   "metadata": {},
   "outputs": [
    {
     "name": "stdout",
     "output_type": "stream",
     "text": [
      "Exception raised:  division by zero\n"
     ]
    }
   ],
   "source": [
    "try:\n",
    "    file = open(\"assets/adat.txt\", \"r\")\n",
    "\n",
    "    file.readline()\n",
    "    file.readline()\n",
    "\n",
    "    7 / 0\n",
    "    # exception elmentése az e változóba\n",
    "except Exception as e:\n",
    "    print(\"Exception raised: \", e)\n",
    "    # további hibakezelés\n",
    "finally:\n",
    "    file.close()"
   ]
  },
  {
   "cell_type": "code",
<<<<<<< HEAD
   "execution_count": 51,
||||||| merged common ancestors
   "execution_count": 58,
=======
   "execution_count": 49,
>>>>>>> 7ad33336eb39c77c3273df973c7f3c8b5245028a
   "metadata": {},
   "outputs": [
    {
     "data": {
      "text/plain": [
       "True"
      ]
     },
<<<<<<< HEAD
     "execution_count": 51,
||||||| merged common ancestors
     "execution_count": 58,
=======
     "execution_count": 49,
>>>>>>> 7ad33336eb39c77c3273df973c7f3c8b5245028a
     "metadata": {},
     "output_type": "execute_result"
    }
   ],
   "source": [
    "file.closed"
   ]
  },
  {
   "cell_type": "markdown",
   "metadata": {},
   "source": [
    "A finally blokkban definált utasítások mindig lefutnak, akár bekövetkezett hiba, akár nem. Ez a hibakezelési szituáció, olyan sokszor előfordul, hogy a kód egyszerűbbé tételére egy speciális szintaxist építettek a nyelvbe: "
   ]
  },
  {
   "cell_type": "code",
<<<<<<< HEAD
   "execution_count": 56,
||||||| merged common ancestors
   "execution_count": 59,
=======
   "execution_count": 53,
>>>>>>> 7ad33336eb39c77c3273df973c7f3c8b5245028a
   "metadata": {},
   "outputs": [
    {
<<<<<<< HEAD
     "ename": "ZeroDivisionError",
     "evalue": "division by zero",
||||||| merged common ancestors
     "ename": "FileNotFoundError",
     "evalue": "[Errno 2] No such file or directory: 'adat.txt'",
=======
     "name": "stdout",
     "output_type": "stream",
     "text": [
      "False\n"
     ]
    },
    {
     "ename": "ZeroDivisionError",
     "evalue": "division by zero",
>>>>>>> 7ad33336eb39c77c3273df973c7f3c8b5245028a
     "output_type": "error",
     "traceback": [
      "\u001b[0;31m---------------------------------------------------------------------------\u001b[0m",
<<<<<<< HEAD
      "\u001b[0;31mZeroDivisionError\u001b[0m                         Traceback (most recent call last)",
      "Input \u001b[0;32mIn [56]\u001b[0m, in \u001b[0;36m<cell line: 1>\u001b[0;34m()\u001b[0m\n\u001b[1;32m      1\u001b[0m \u001b[38;5;28;01mwith\u001b[39;00m \u001b[38;5;28mopen\u001b[39m(\u001b[38;5;124m\"\u001b[39m\u001b[38;5;124massets/adat.txt\u001b[39m\u001b[38;5;124m\"\u001b[39m, \u001b[38;5;124m\"\u001b[39m\u001b[38;5;124mr\u001b[39m\u001b[38;5;124m\"\u001b[39m) \u001b[38;5;28;01mas\u001b[39;00m file:\n\u001b[1;32m      2\u001b[0m     file\u001b[38;5;241m.\u001b[39mreadline()\n\u001b[0;32m----> 3\u001b[0m     \u001b[38;5;241;43m7\u001b[39;49m\u001b[43m \u001b[49m\u001b[38;5;241;43m/\u001b[39;49m\u001b[43m \u001b[49m\u001b[38;5;241;43m0\u001b[39;49m\n\u001b[1;32m      4\u001b[0m     file\u001b[38;5;241m.\u001b[39mreadline()\n",
      "\u001b[0;31mZeroDivisionError\u001b[0m: division by zero"
||||||| merged common ancestors
      "\u001b[0;31mFileNotFoundError\u001b[0m                         Traceback (most recent call last)",
      "\u001b[0;32m<ipython-input-59-94d17e42b83e>\u001b[0m in \u001b[0;36m<module>\u001b[0;34m\u001b[0m\n\u001b[0;32m----> 1\u001b[0;31m \u001b[0;32mwith\u001b[0m \u001b[0mopen\u001b[0m\u001b[0;34m(\u001b[0m\u001b[0;34m\"adat.txt\"\u001b[0m\u001b[0;34m,\u001b[0m \u001b[0;34m\"r\"\u001b[0m\u001b[0;34m)\u001b[0m \u001b[0;32mas\u001b[0m \u001b[0mfile\u001b[0m\u001b[0;34m:\u001b[0m\u001b[0;34m\u001b[0m\u001b[0;34m\u001b[0m\u001b[0m\n\u001b[0m\u001b[1;32m      2\u001b[0m     \u001b[0mfile\u001b[0m\u001b[0;34m.\u001b[0m\u001b[0mreadline\u001b[0m\u001b[0;34m(\u001b[0m\u001b[0;34m)\u001b[0m\u001b[0;34m\u001b[0m\u001b[0;34m\u001b[0m\u001b[0m\n\u001b[1;32m      3\u001b[0m     \u001b[0;36m7\u001b[0m \u001b[0;34m/\u001b[0m \u001b[0;36m0\u001b[0m\u001b[0;34m\u001b[0m\u001b[0;34m\u001b[0m\u001b[0m\n\u001b[1;32m      4\u001b[0m     \u001b[0mfile\u001b[0m\u001b[0;34m.\u001b[0m\u001b[0mreadline\u001b[0m\u001b[0;34m(\u001b[0m\u001b[0;34m)\u001b[0m\u001b[0;34m\u001b[0m\u001b[0;34m\u001b[0m\u001b[0m\n",
      "\u001b[0;31mFileNotFoundError\u001b[0m: [Errno 2] No such file or directory: 'adat.txt'"
=======
      "\u001b[0;31mZeroDivisionError\u001b[0m                         Traceback (most recent call last)",
      "\u001b[0;32m<ipython-input-53-f87d45984744>\u001b[0m in \u001b[0;36m<module>\u001b[0;34m\u001b[0m\n\u001b[1;32m      2\u001b[0m     \u001b[0mfile\u001b[0m\u001b[0;34m.\u001b[0m\u001b[0mreadline\u001b[0m\u001b[0;34m(\u001b[0m\u001b[0;34m)\u001b[0m\u001b[0;34m\u001b[0m\u001b[0;34m\u001b[0m\u001b[0m\n\u001b[1;32m      3\u001b[0m     \u001b[0mprint\u001b[0m\u001b[0;34m(\u001b[0m\u001b[0mfile\u001b[0m\u001b[0;34m.\u001b[0m\u001b[0mclosed\u001b[0m\u001b[0;34m)\u001b[0m\u001b[0;34m\u001b[0m\u001b[0;34m\u001b[0m\u001b[0m\n\u001b[0;32m----> 4\u001b[0;31m     \u001b[0;36m7\u001b[0m \u001b[0;34m/\u001b[0m \u001b[0;36m0\u001b[0m\u001b[0;34m\u001b[0m\u001b[0;34m\u001b[0m\u001b[0m\n\u001b[0m\u001b[1;32m      5\u001b[0m     \u001b[0mfile\u001b[0m\u001b[0;34m.\u001b[0m\u001b[0mreadline\u001b[0m\u001b[0;34m(\u001b[0m\u001b[0;34m)\u001b[0m\u001b[0;34m\u001b[0m\u001b[0;34m\u001b[0m\u001b[0m\n",
      "\u001b[0;31mZeroDivisionError\u001b[0m: division by zero"
>>>>>>> 7ad33336eb39c77c3273df973c7f3c8b5245028a
     ]
    }
   ],
   "source": [
    "with open(\"assets/adat.txt\", \"r\") as file:\n",
    "    file.readline()\n",
    "    print(file.closed)\n",
    "    7 / 0\n",
    "    file.readline()"
   ]
  },
  {
   "cell_type": "markdown",
   "metadata": {},
   "source": [
    "A fenti kóddal tömörebben tudjuk elérni azt, amit előbb a try-catch-finally blokkal tudtunk megvalósítani."
   ]
  },
  {
   "cell_type": "code",
<<<<<<< HEAD
   "execution_count": 57,
||||||| merged common ancestors
   "execution_count": 62,
=======
   "execution_count": 54,
>>>>>>> 7ad33336eb39c77c3273df973c7f3c8b5245028a
   "metadata": {},
   "outputs": [
    {
     "data": {
      "text/plain": [
       "True"
      ]
     },
<<<<<<< HEAD
     "execution_count": 57,
||||||| merged common ancestors
     "execution_count": 62,
=======
     "execution_count": 54,
>>>>>>> 7ad33336eb39c77c3273df973c7f3c8b5245028a
     "metadata": {},
     "output_type": "execute_result"
    }
   ],
   "source": [
    "file.closed"
   ]
  },
  {
   "cell_type": "markdown",
   "metadata": {},
   "source": [
    "Valóban a hiba ellenére a fájl lezárt állapotba került."
   ]
  },
  {
   "cell_type": "markdown",
   "metadata": {},
   "source": [
    "## Fáljok írása, string formázás\n",
    "\n",
    "Most nézzünk egy rövid példát a fájlok írására. Írjuk ki a Python értelmező verzióját egy fájlba."
   ]
  },
  {
   "cell_type": "code",
<<<<<<< HEAD
   "execution_count": 59,
||||||| merged common ancestors
   "execution_count": 63,
=======
   "execution_count": 56,
>>>>>>> 7ad33336eb39c77c3273df973c7f3c8b5245028a
   "metadata": {},
   "outputs": [],
   "source": [
    "# sys package importálása\n",
    "import sys"
   ]
  },
  {
   "cell_type": "code",
<<<<<<< HEAD
   "execution_count": 61,
||||||| merged common ancestors
   "execution_count": 94,
=======
   "execution_count": 57,
>>>>>>> 7ad33336eb39c77c3273df973c7f3c8b5245028a
   "metadata": {},
   "outputs": [],
   "source": [
    "# használjuk a with blokkot\n",
    "with open(\"assets/version.txt\", \"w\") as f:\n",
    "    # a write metódussal tudunk \"f\" fájlba írni\n",
    "    f.write(\"Python version: %s\\n\" % sys.version)"
   ]
  },
  {
   "cell_type": "code",
<<<<<<< HEAD
   "execution_count": 62,
   "metadata": {},
   "outputs": [
    {
     "data": {
      "text/plain": [
       "'3.9.12 | packaged by conda-forge | (main, Mar 24 2022, 23:22:55) \\n[GCC 10.3.0]'"
      ]
     },
     "execution_count": 62,
     "metadata": {},
     "output_type": "execute_result"
    }
   ],
   "source": [
    "sys.version"
   ]
  },
  {
   "cell_type": "code",
   "execution_count": 13,
||||||| merged common ancestors
   "execution_count": 95,
=======
   "execution_count": 58,
>>>>>>> 7ad33336eb39c77c3273df973c7f3c8b5245028a
   "metadata": {},
   "outputs": [
    {
     "name": "stdout",
     "output_type": "stream",
     "text": [
<<<<<<< HEAD
      "Python version: 3.9.10 | packaged by conda-forge | (main, Feb  1 2022, 21:24:11) \r\n",
      "[GCC 9.4.0]\r\n"
||||||| merged common ancestors
      "Python version: 3.7.4 (default, Aug 13 2019, 20:35:49) \r\n",
      "[GCC 7.3.0]\r\n"
=======
      "Python version: 3.8.2 (default, Mar 25 2020, 17:03:02) \r\n",
      "[GCC 7.3.0]\r\n"
>>>>>>> 7ad33336eb39c77c3273df973c7f3c8b5245028a
     ]
    }
   ],
   "source": [
    "!cat assets/version.txt"
   ]
  },
  {
   "cell_type": "markdown",
   "metadata": {},
   "source": [
    "Az írás során egy eddig ismeretlen szintaxist használtunk. A Python-ban a `%` \"operátor\" és formázási string segítségével tudunk egy adott változót string-be formázni."
   ]
  },
  {
   "cell_type": "code",
   "execution_count": 80,
   "metadata": {},
   "outputs": [
    {
     "data": {
      "text/plain": [
       "'Python version: 3.7.4 (default, Aug 13 2019, 20:35:49) \\n[GCC 7.3.0]\\n'"
      ]
     },
     "execution_count": 80,
     "metadata": {},
     "output_type": "execute_result"
    }
   ],
   "source": [
    "\"Python version: %s\\n\" % sys.version"
   ]
  },
  {
   "cell_type": "markdown",
   "metadata": {},
   "source": [
    "A `%s` karakter helyére, string formátumban a Python beillesztette a `sys.version` változó értékét. Ez a szintaxis ismerős lehet C progrmozóknak, gyakorlatilag megegyezik a C-ben definiált formázási szabályokkal. Nézzünk néhány további páldát."
   ]
  },
  {
   "cell_type": "code",
<<<<<<< HEAD
   "execution_count": 63,
||||||| merged common ancestors
   "execution_count": 81,
=======
   "execution_count": 59,
>>>>>>> 7ad33336eb39c77c3273df973c7f3c8b5245028a
   "metadata": {},
   "outputs": [
    {
     "data": {
      "text/plain": [
       "'int: 1'"
      ]
     },
<<<<<<< HEAD
     "execution_count": 63,
||||||| merged common ancestors
     "execution_count": 81,
=======
     "execution_count": 59,
>>>>>>> 7ad33336eb39c77c3273df973c7f3c8b5245028a
     "metadata": {},
     "output_type": "execute_result"
    }
   ],
   "source": [
    "# egész szám = integer formázása\n",
    "\"int: %d\" % 1"
   ]
  },
  {
   "cell_type": "code",
<<<<<<< HEAD
   "execution_count": 64,
||||||| merged common ancestors
   "execution_count": 84,
=======
   "execution_count": 60,
>>>>>>> 7ad33336eb39c77c3273df973c7f3c8b5245028a
   "metadata": {},
   "outputs": [
    {
     "data": {
      "text/plain": [
       "'float: 2.750000'"
      ]
     },
<<<<<<< HEAD
     "execution_count": 64,
||||||| merged common ancestors
     "execution_count": 84,
=======
     "execution_count": 60,
>>>>>>> 7ad33336eb39c77c3273df973c7f3c8b5245028a
     "metadata": {},
     "output_type": "execute_result"
    }
   ],
   "source": [
    "# lebegőpontpos szám = float formázása\n",
    "\"float: %f\" % 2.75"
   ]
  },
  {
   "cell_type": "code",
   "execution_count": 66,
   "metadata": {},
   "outputs": [
    {
     "data": {
      "text/plain": [
       "'float:     2.750'"
      ]
     },
     "execution_count": 66,
     "metadata": {},
     "output_type": "execute_result"
    }
   ],
   "source": [
    "# 10 - összes karakter száma, 3 - tizedes jegy utáni számjegyek száma\n",
    "\"float:%10.3f\" % 2.75"
   ]
  },
  {
   "cell_type": "code",
<<<<<<< HEAD
   "execution_count": 70,
||||||| merged common ancestors
   "execution_count": 97,
=======
   "execution_count": 61,
>>>>>>> 7ad33336eb39c77c3273df973c7f3c8b5245028a
   "metadata": {},
   "outputs": [
    {
<<<<<<< HEAD
     "name": "stdout",
     "output_type": "stream",
     "text": [
      "float: 2.750e+00\n",
      "float: 1.250e+10\n"
     ]
||||||| merged common ancestors
     "data": {
      "text/plain": [
       "'float: 2.750e+00'"
      ]
     },
     "execution_count": 97,
     "metadata": {},
     "output_type": "execute_result"
=======
     "data": {
      "text/plain": [
       "'float: 2.750e+00'"
      ]
     },
     "execution_count": 61,
     "metadata": {},
     "output_type": "execute_result"
>>>>>>> 7ad33336eb39c77c3273df973c7f3c8b5245028a
    }
   ],
   "source": [
    "# exponenciális jelölés\n",
    "print(\"float: %1.3e\" % 2.75)\n",
    "print(\"float: %1.3e\" % 1.25e10)"
   ]
  },
  {
   "cell_type": "markdown",
   "metadata": {},
   "source": [
    "Manapság inkább egy alternatív módszer használatos a string-ek formázására, amit a string `format` metódusával tudunk használni:"
   ]
  },
  {
   "cell_type": "code",
   "execution_count": 71,
   "metadata": {},
   "outputs": [
    {
     "data": {
      "text/plain": [
       "'float: 2.75'"
      ]
     },
     "execution_count": 71,
     "metadata": {},
     "output_type": "execute_result"
    }
   ],
   "source": [
    "# {} jelöli a változó helyét\n",
    "\"float: {}\".format(2.75)"
   ]
  },
  {
   "cell_type": "code",
<<<<<<< HEAD
   "execution_count": 72,
||||||| merged common ancestors
   "execution_count": 102,
=======
   "execution_count": 62,
>>>>>>> 7ad33336eb39c77c3273df973c7f3c8b5245028a
   "metadata": {},
   "outputs": [
    {
     "data": {
      "text/plain": [
       "'float:  2.75'"
      ]
     },
<<<<<<< HEAD
     "execution_count": 72,
||||||| merged common ancestors
     "execution_count": 102,
=======
     "execution_count": 62,
>>>>>>> 7ad33336eb39c77c3273df973c7f3c8b5245028a
     "metadata": {},
     "output_type": "execute_result"
    }
   ],
   "source": [
    "# pontosság beállítása\n",
    "\"float: {:5.2f}\".format(2.75)"
   ]
  },
  {
   "cell_type": "code",
<<<<<<< HEAD
   "execution_count": 73,
||||||| merged common ancestors
   "execution_count": 104,
=======
   "execution_count": 63,
>>>>>>> 7ad33336eb39c77c3273df973c7f3c8b5245028a
   "metadata": {},
   "outputs": [
    {
     "data": {
      "text/plain": [
       "'value:  2.75'"
      ]
     },
<<<<<<< HEAD
     "execution_count": 73,
||||||| merged common ancestors
     "execution_count": 104,
=======
     "execution_count": 63,
>>>>>>> 7ad33336eb39c77c3273df973c7f3c8b5245028a
     "metadata": {},
     "output_type": "execute_result"
    }
   ],
   "source": [
    "# több változó esete\n",
    "\"{}: {:5.2f}\".format(\"value\", 2.75)"
   ]
  },
  {
   "cell_type": "markdown",
   "metadata": {},
   "source": [
    "A format metódus és a `%` operátor szintaxisáról bővebben [itt](https://pyformat.info/)."
   ]
  },
  {
   "cell_type": "markdown",
   "metadata": {},
   "source": [
    "Az előző fájlhoz hozzáfűzünk."
   ]
  },
  {
   "cell_type": "code",
<<<<<<< HEAD
   "execution_count": 74,
||||||| merged common ancestors
   "execution_count": 105,
=======
   "execution_count": 64,
>>>>>>> 7ad33336eb39c77c3273df973c7f3c8b5245028a
   "metadata": {},
   "outputs": [],
   "source": [
    "with open(\"assets/version.txt\", \"a\") as f:\n",
    "    f.write(\"Python version: %s\\n\" % sys.version)"
   ]
  },
  {
   "cell_type": "code",
<<<<<<< HEAD
   "execution_count": 75,
||||||| merged common ancestors
   "execution_count": 106,
=======
   "execution_count": 65,
>>>>>>> 7ad33336eb39c77c3273df973c7f3c8b5245028a
   "metadata": {},
   "outputs": [
    {
     "name": "stdout",
     "output_type": "stream",
     "text": [
<<<<<<< HEAD
      "Python version: 3.9.12 | packaged by conda-forge | (main, Mar 24 2022, 23:22:55) \r\n",
      "[GCC 10.3.0]\r\n",
      "Python version: 3.9.12 | packaged by conda-forge | (main, Mar 24 2022, 23:22:55) \r\n",
      "[GCC 10.3.0]\r\n"
||||||| merged common ancestors
      "Python version: 3.7.4 (default, Aug 13 2019, 20:35:49) \r\n",
      "[GCC 7.3.0]\r\n",
      "Python version: 3.7.4 (default, Aug 13 2019, 20:35:49) \r\n",
      "[GCC 7.3.0]\r\n"
=======
      "Python version: 3.8.2 (default, Mar 25 2020, 17:03:02) \r\n",
      "[GCC 7.3.0]\r\n",
      "Python version: 3.8.2 (default, Mar 25 2020, 17:03:02) \r\n",
      "[GCC 7.3.0]\r\n"
>>>>>>> 7ad33336eb39c77c3273df973c7f3c8b5245028a
     ]
    }
   ],
   "source": [
    "!cat assets/version.txt"
   ]
  },
  {
   "cell_type": "markdown",
   "metadata": {},
   "source": [
    "A következő fejezetben a numpy csomaggal ismerkedünk meg."
   ]
  }
 ],
 "metadata": {
  "kernelspec": {
   "display_name": "Python 3 (ipykernel)",
   "language": "python",
   "name": "python3"
  },
  "language_info": {
   "codemirror_mode": {
    "name": "ipython",
    "version": 3
   },
   "file_extension": ".py",
   "mimetype": "text/x-python",
   "name": "python",
   "nbconvert_exporter": "python",
   "pygments_lexer": "ipython3",
<<<<<<< HEAD
   "version": "3.9.12"
||||||| merged common ancestors
   "version": "3.7.4"
=======
   "version": "3.8.2"
>>>>>>> 7ad33336eb39c77c3273df973c7f3c8b5245028a
  }
 },
 "nbformat": 4,
 "nbformat_minor": 2
}
