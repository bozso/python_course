{
 "cells": [
  {
   "cell_type": "markdown",
   "metadata": {},
   "source": [
    "# Beveztés a Python értelmezőbe, a nyelv szintaxisába és a notebook formátumba\n",
    "\n",
    "## A Python értelmező (Python shell) és maga a nyelv\n",
    "\n",
    "Az elméleti háttér után térjünk át a gyakorlatra. Geofizikusként valószínűleg nagyrészt Matlab-bal van tapasztalatotok. Jó hír, hogy a Python is hasonlóan működik, mint a Matlab, azaz elindítva egy értelmezőt, azonnal elkezdhetünk kódolni.\n",
    "\n",
    "## A Notebook formátum\n",
    "\n",
    "A **Jupyter Notebook** egy olyan alkalmazás, mely interktív kódolást tesz lehetővé. A program a háttrében futtat egy Python értelmezőt (pontosabban egy IPython értelmezőt, az IPython értelmező tulajdonképpen egy Python értelmező, mely jónéhány további, script írást megkönnyítő, funkcióval rendelkezik).\n",
    "\n",
    "Egy notebook cellákra van felosztva. Kétfajta cella létezik:\n",
    "- az egyik an ún. *markdown* cella; ebben a cellában *markdown* szöveget, *markdown* és LaTeX kódot írhatunk, melyet a **Jupyter Notebook** értelmez, *html* kódot generál belőle és a \"lefordított\" html kódot megjeleníti a böngésző ablakban,\n",
    "- a másik cellatípus a kódcella; ebben a cellában írhatunk és szerkeszthetünk Python kódot, amit a futtatási parancs kiadása után a **Jupyter Notebook** elküld a háttérben futó Python értelmezőnek, az lefuttatja a kódot és kinyomtatja cella alá, a kód által a terminálra nyomtatott szöveget.\n",
    "\n",
    "A *markdown* nyelv szintaxisáról [itt](https://github.com/adam-p/markdown-here/wiki/Markdown-Cheatsheet) található egy rövid leírás.\n",
    "\n",
    "A cellát kiválasztva az `Enter` leütésével beléphetünk a cellába, annak tartalmát szerkeszthetjük. A cellát a `Control+Enter` billentyűkombináció leütésével futtathatjuk. A cellá szerkesztését az `Escape` billentyű leütésével fejezhetjük be, ezután a felele és lefele nyilakkal tudunk navigálni a cellák között.\n",
    "\n",
    "Ha nem szerkesztünk egy cellát a következő parancsok állnak rendelkezésünkre:\n",
    "- **új cella létrehozása:** egy adott cella fölé az `a`, alá a `b` billentyű lenyomásával hozhatunk létre egy új üres cellát,\n",
    "- **cella másolása:** `c` billentyű,\n",
    "- **cella kivágása:** `x` billentyű,\n",
    "- **cella beillesztése:** `v` billentyű - a kijelült cella alá kerül beszúrásra.\n",
    "- **markdown cellává konvertálás**: `m` billentyű; az újonnan készített cellák, kódcellaként kezdik az életüket, nekünk kell őket *markdown* cellává konvertálni. \n",
    "\n",
    "További funkciók is rendelkezésünkre állnak, csak a legfontosabbakat emeltem ki.\n",
    "\n",
    "Abban az esetben, ha ezt a dokumentumot a jegyzet egyik fejezeteként olvasod, amit magad előtt látsz, az nem egy interaktív *notebook*, hanem a *notebook* fájl alapjánt generált *html* dokumentum. Ha magad is futtatni vagy szerkeszteni szeretnéd a *notebook* tartalmát, kérlek töltsd le a *notebook-okat* a kurzus [github](https://github.com/bozso/python_course) oldaláról és nyisd meg őket a **Jupyter Notebook** alkalmazásban.\n",
    "\n",
    "A következőkben tehát megismerkedünk a Python nyelv szintaxisával, néhány beépített Python tárolóval és az *IPython* értelmezővel. \n",
    "\n",
    "## A Python mint egyszerű számológép\n",
    "\n",
    "Matlabhoz hasonlóan, a Python is képes egyszerű számológépként funkcionálni."
   ]
  },
  {
   "cell_type": "code",
   "execution_count": 2,
   "metadata": {},
   "outputs": [
    {
     "data": {
      "text/plain": [
       "10"
      ]
     },
     "execution_count": 2,
     "metadata": {},
     "output_type": "execute_result"
    }
   ],
   "source": [
    "5 + 5"
   ]
  },
  {
   "cell_type": "markdown",
   "metadata": {},
   "source": [
    "Változóknak így adhatunk értéket:"
   ]
  },
  {
   "cell_type": "code",
   "execution_count": 3,
   "metadata": {},
   "outputs": [],
   "source": [
    "a = 5"
   ]
  },
  {
   "cell_type": "markdown",
   "metadata": {},
   "source": [
    "A változó értékének kiírása:"
   ]
  },
  {
   "cell_type": "code",
   "execution_count": 9,
   "metadata": {},
   "outputs": [
    {
     "name": "stdout",
     "output_type": "stream",
     "text": [
      "5\n"
     ]
    }
   ],
   "source": [
    "print(a)"
   ]
  },
  {
   "cell_type": "code",
   "execution_count": 10,
   "metadata": {},
   "outputs": [
    {
     "data": {
      "text/plain": [
       "5"
      ]
     },
     "execution_count": 10,
     "metadata": {},
     "output_type": "execute_result"
    }
   ],
   "source": [
    "a"
   ]
  },
  {
   "cell_type": "markdown",
   "metadata": {},
   "source": [
    "Művelet elvégzése változóval:"
   ]
  },
  {
   "cell_type": "code",
   "execution_count": 11,
   "metadata": {},
   "outputs": [
    {
     "data": {
      "text/plain": [
       "10"
      ]
     },
     "execution_count": 11,
     "metadata": {},
     "output_type": "execute_result"
    }
   ],
   "source": [
    "a + 5"
   ]
  },
  {
   "cell_type": "markdown",
   "metadata": {},
   "source": [
    "Az eredmény kiírásának mellőzése:"
   ]
  },
  {
   "cell_type": "code",
   "execution_count": 12,
   "metadata": {},
   "outputs": [],
   "source": [
    "a + 5;"
   ]
  },
  {
   "cell_type": "markdown",
   "metadata": {},
   "source": [
    "**Figyelem!** A pontos vesszőt csak az utolsó sor esetén érdemes használni, amikor nem akarjuk kiíratni a végeredményt, tehát nem úgy működik mint a Matlab. Az értelmező csak az utolsó sor eredényét írja ki."
   ]
  },
  {
   "cell_type": "code",
   "execution_count": 16,
   "metadata": {},
   "outputs": [
    {
     "data": {
      "text/plain": [
       "6"
      ]
     },
     "execution_count": 16,
     "metadata": {},
     "output_type": "execute_result"
    }
   ],
   "source": [
    "a + 3\n",
    "a + 2\n",
    "a + 1"
   ]
  },
  {
   "cell_type": "markdown",
   "metadata": {},
   "source": [
    "A már felhasznált változóknak bármikor más értéket adhatunk, ekkor a korábbi értéküket elvesztik az újradefiniált változók."
   ]
  },
  {
   "cell_type": "code",
   "execution_count": 17,
   "metadata": {},
   "outputs": [
    {
     "data": {
      "text/plain": [
       "'aaa'"
      ]
     },
     "execution_count": 17,
     "metadata": {},
     "output_type": "execute_result"
    }
   ],
   "source": [
    "a = \"aaa\"\n",
    "a = 'aaa'\n",
    "a"
   ]
  },
  {
   "cell_type": "code",
   "execution_count": 18,
   "metadata": {},
   "outputs": [],
   "source": [
    "multi_line = \\\n",
    "\"\"\"\n",
    "a\n",
    "b\n",
    "c\n",
    "\"\"\""
   ]
  },
  {
   "cell_type": "code",
   "execution_count": 21,
   "metadata": {},
   "outputs": [
    {
     "data": {
      "text/plain": [
       "'\\na\\nb\\nc\\n'"
      ]
     },
     "execution_count": 21,
     "metadata": {},
     "output_type": "execute_result"
    }
   ],
   "source": [
    "multi_line"
   ]
  },
  {
   "cell_type": "code",
   "execution_count": 20,
   "metadata": {},
   "outputs": [
    {
     "name": "stdout",
     "output_type": "stream",
     "text": [
      "\n",
      "a\n",
      "b\n",
      "c\n",
      "\n"
     ]
    }
   ],
   "source": [
    "print(multi_line)"
   ]
  },
  {
   "cell_type": "markdown",
   "metadata": {},
   "source": [
    "## Függvények definiálása, kód blokk\n",
    "\n",
    "A programozás egyik alap építőeleme a függvény. Függvények segítségével lehetővé tesszük a függvényen belül implementált algoritmus újrafelhasználhatóságát.\n",
    "\n",
    "Függvények definiálás:\n",
    "- a függvénytartományt nem kapcsos zárójelek között kód (`{` és `}`; pl. C) és nem a `function` és `end` kulcsszavak között kód (pl. Matlab) jelzi\n",
    "- a függvénytartomány kezdetét és végét a \"behúzás\" (indentation) karakterek jelzik\n",
    "- komment karakter `#` (Matlab `%`-el ekvivalens)\n",
    "\n",
    "Szemléltető példa:\n",
    "- függvény definiálás kulcsszava `def`\n",
    "- `add` a függvény neve\n",
    "- `a` és `b` a függvény argumentumai\n",
    "- `:` jelzi a függvény kezdetét\n",
    "- `return` visszatérés a függvényből egy adott értékkel"
   ]
  },
  {
   "cell_type": "code",
   "execution_count": 22,
   "metadata": {},
   "outputs": [
    {
     "name": "stdout",
     "output_type": "stream",
     "text": [
      "a\n"
     ]
    },
    {
     "data": {
      "text/plain": [
       "7"
      ]
     },
     "execution_count": 22,
     "metadata": {},
     "output_type": "execute_result"
    }
   ],
   "source": [
    "def add(a, b):\n",
    "    print(\"a\")\n",
    "    return a + b\n",
    "\n",
    "add(3, 4)"
   ]
  },
  {
   "cell_type": "code",
   "execution_count": 23,
   "metadata": {},
   "outputs": [
    {
     "name": "stdout",
     "output_type": "stream",
     "text": [
      "Hello!\n"
     ]
    }
   ],
   "source": [
    "def add(a, b):\n",
    "    \"\"\"\n",
    "    Első sor.\n",
    "    \n",
    "    Második sor.\n",
    "    \"\"\"\n",
    "    print(\"In function add.\")\n",
    "    # komment a függvényen belül\n",
    "    \n",
    "    return a + b\n",
    "# függvény definíció véget ért\n",
    "\n",
    "# ez a rész már nem része a függvénynek\n",
    "print(\"Hello!\")"
   ]
  },
  {
   "cell_type": "code",
   "execution_count": 24,
   "metadata": {},
   "outputs": [
    {
     "name": "stdout",
     "output_type": "stream",
     "text": [
      "Help on function add in module __main__:\n",
      "\n",
      "add(a, b)\n",
      "    Első sor.\n",
      "    \n",
      "    Második sor.\n",
      "\n"
     ]
    }
   ],
   "source": [
    "help(add)"
   ]
  },
  {
   "cell_type": "markdown",
   "metadata": {},
   "source": [
    "A függvénytartományt jelen esetben 4 darab space karakterrel definiáljuk. A 4 space helyett használhattunk volna 1 db tabulátor karaktert is. A fontos az, hogy a behúzás karaktereket konzisztensen használjuk, tehát ne keverjünk tabulátor karaktert space karakterrel."
   ]
  },
  {
   "cell_type": "code",
   "execution_count": 25,
   "metadata": {},
   "outputs": [
    {
     "name": "stdout",
     "output_type": "stream",
     "text": [
      "In function add.\n"
     ]
    },
    {
     "data": {
      "text/plain": [
       "11"
      ]
     },
     "execution_count": 25,
     "metadata": {},
     "output_type": "execute_result"
    }
   ],
   "source": [
    "add(5, 6)"
   ]
  },
  {
   "cell_type": "markdown",
   "metadata": {},
   "source": [
    "Az ekvivalens Matlab kód:\n",
    "\n",
    "```matlab\n",
    "function [c] = add(a, b)\n",
    "    display('In function add.');\n",
    "    \n",
    "    c = a + b;\n",
    "end\n",
    "\n",
    "add(5, 6)\n",
    "```"
   ]
  },
  {
   "cell_type": "markdown",
   "metadata": {},
   "source": [
    "## Feltételek kezelése - `if`, `else`, `elif`\n",
    "\n",
    "A különböző feltételek kezelésére rendelkezésre áll az `if` és `else` kulcsszó. A függvénydefinícióhoz hasonlóan behúzás karakterek segítségével használhatóak. \n",
    "\n",
    "Az `and` és az `or` kulcsszavak a Matlab `&&` és `||` operátoraival ekvivalensek.\n",
    "\n",
    "Egy szemléltető példa."
   ]
  },
  {
   "cell_type": "code",
   "execution_count": 26,
   "metadata": {},
   "outputs": [],
   "source": [
    "def condition(num):\n",
    "    if num > 5 and num <= 10:\n",
    "        print(\"Number is larger than 5 but smaller or equal to 10.\")\n",
    "    # if vége\n",
    "    elif num > 10:\n",
    "        # elif = else if\n",
    "        print(\"Number is larger than 10.\")\n",
    "    else:\n",
    "        print(\"Number is \", num)"
   ]
  },
  {
   "cell_type": "code",
   "execution_count": 27,
   "metadata": {},
   "outputs": [
    {
     "name": "stdout",
     "output_type": "stream",
     "text": [
      "Number is  3\n"
     ]
    }
   ],
   "source": [
    "condition(3)"
   ]
  },
  {
   "cell_type": "code",
   "execution_count": 28,
   "metadata": {},
   "outputs": [
    {
     "name": "stdout",
     "output_type": "stream",
     "text": [
      "Number is larger than 10.\n"
     ]
    }
   ],
   "source": [
    "condition(11)"
   ]
  },
  {
   "cell_type": "code",
   "execution_count": 29,
   "metadata": {},
   "outputs": [
    {
     "name": "stdout",
     "output_type": "stream",
     "text": [
      "Number is larger than 5 but smaller or equal to 10.\n"
     ]
    }
   ],
   "source": [
    "condition(6)"
   ]
  },
  {
   "cell_type": "markdown",
   "metadata": {},
   "source": [
    "## Python tárolók (containers)\n",
    "\n",
    "Részletekbe nem bocsájtkozva, röviden ismerkedjünk meg a beépített tárolókkal. Ezen tárolókra az angol nevük használatával fogok hivatkozni (nevek a zárójelben, ahol van zárójel). \n",
    "\n",
    "### Lista (List)\n",
    "\n",
    "Értelemszerűen a *list* változók sorozatát tartalmazza. A *list* elemei bővíthetőek és változtathatóak."
   ]
  },
  {
   "cell_type": "code",
   "execution_count": 23,
   "metadata": {},
   "outputs": [
    {
     "data": {
      "text/plain": [
       "[1, 2, 3]"
      ]
     },
     "execution_count": 23,
     "metadata": {},
     "output_type": "execute_result"
    }
   ],
   "source": [
    "# list létrehozása, a vessző karakter (,) nem hagyható el\n",
    "a = [1, 2, 3]\n",
    "\n",
    "# list létrehozása függvényhívással\n",
    "a = list((1, 2, 3))\n",
    "a"
   ]
  },
  {
   "cell_type": "markdown",
   "metadata": {},
   "source": [
    "A *list* lehet heterogén, azaz különböző típusú Python objektumokat tartalmazhat (string, szám, list)."
   ]
  },
  {
   "cell_type": "code",
   "execution_count": 26,
   "metadata": {},
   "outputs": [],
   "source": [
    "l = [\"a\", \"b\", 2.3, [1, 2]]"
   ]
  },
  {
   "cell_type": "markdown",
   "metadata": {},
   "source": [
    "C-hez hasonlóan és a Matlab-tól eltérően a Python lista indexek 0-tól kezdődnek."
   ]
  },
  {
   "cell_type": "code",
   "execution_count": 25,
   "metadata": {},
   "outputs": [
    {
     "data": {
      "text/plain": [
       "1"
      ]
     },
     "execution_count": 25,
     "metadata": {},
     "output_type": "execute_result"
    }
   ],
   "source": [
    "a[0]"
   ]
  },
  {
   "cell_type": "markdown",
   "metadata": {},
   "source": [
    "A harmadik elem maga is egy *list* így azt azonnal indexelhetjük."
   ]
  },
  {
   "cell_type": "code",
   "execution_count": 27,
   "metadata": {},
   "outputs": [
    {
     "data": {
      "text/plain": [
       "1"
      ]
     },
     "execution_count": 27,
     "metadata": {},
     "output_type": "execute_result"
    }
   ],
   "source": [
    "l[3][0]"
   ]
  },
  {
   "cell_type": "markdown",
   "metadata": {},
   "source": [
    "Elem *list* végéhez adása:"
   ]
  },
  {
   "cell_type": "code",
   "execution_count": 28,
   "metadata": {},
   "outputs": [
    {
     "data": {
      "text/plain": [
       "[1, 2, 3, 'lista']"
      ]
     },
     "execution_count": 28,
     "metadata": {},
     "output_type": "execute_result"
    }
   ],
   "source": [
    "a = [1, 2, 3]\n",
    "a.append(\"lista\")\n",
    "a"
   ]
  },
  {
   "cell_type": "markdown",
   "metadata": {},
   "source": [
    "Adott elem törlése a *list*-ből:"
   ]
  },
  {
   "cell_type": "code",
   "execution_count": 29,
   "metadata": {},
   "outputs": [
    {
     "data": {
      "text/plain": [
       "[2, 3]"
      ]
     },
     "execution_count": 29,
     "metadata": {},
     "output_type": "execute_result"
    }
   ],
   "source": [
    "a = [1, 2, 3]\n",
    "del a[0]\n",
    "a"
   ]
  },
  {
   "cell_type": "markdown",
   "metadata": {},
   "source": [
    "*List* \"másolása\":"
   ]
  },
  {
   "cell_type": "code",
   "execution_count": 32,
   "metadata": {},
   "outputs": [],
   "source": [
    "a = [1, 2, 3]"
   ]
  },
  {
   "cell_type": "code",
   "execution_count": 33,
   "metadata": {},
   "outputs": [
    {
     "data": {
      "text/plain": [
       "[1, 2, 3]"
      ]
     },
     "execution_count": 33,
     "metadata": {},
     "output_type": "execute_result"
    }
   ],
   "source": [
    "b = a\n",
    "b"
   ]
  },
  {
   "cell_type": "code",
   "execution_count": 35,
   "metadata": {},
   "outputs": [
    {
     "data": {
      "text/plain": [
       "[0, 2, 3]"
      ]
     },
     "execution_count": 35,
     "metadata": {},
     "output_type": "execute_result"
    }
   ],
   "source": [
    "b[0] = 0\n",
    "a"
   ]
  },
  {
   "cell_type": "code",
   "execution_count": 36,
   "metadata": {},
   "outputs": [
    {
     "data": {
      "text/plain": [
       "4"
      ]
     },
     "execution_count": 36,
     "metadata": {},
     "output_type": "execute_result"
    }
   ],
   "source": [
    "a = 4\n",
    "b = a\n",
    "b = 2.0\n",
    "a"
   ]
  },
  {
   "cell_type": "markdown",
   "metadata": {},
   "source": [
    "A fenti példa mutatja, hogy a `b = a` parancs nem másolatot készít a *list*-ről, azaz `b` csak egy referencia lesz az `a` változóra. Tehát ha `b`-t megváltoztatjuk `a` is megváltozik.\n",
    "\n",
    "Ha másolatot akarunk készíteni be kell importálnunk a megfelelő függvényt a megfelelő könyvtárból. A Matlab-tól eltérően nem áll rendelkezésünkre a telepített Python disztribúció összes csomagjának függvénye, azokat be kell importálnunk a megfelelő csomagból."
   ]
  },
  {
   "cell_type": "code",
   "execution_count": 37,
   "metadata": {},
   "outputs": [
    {
     "data": {
      "text/plain": [
       "[1, 2, 3]"
      ]
     },
     "execution_count": 37,
     "metadata": {},
     "output_type": "execute_result"
    }
   ],
   "source": [
    "import copy\n",
    "a = [1, 2, 3]\n",
    "\n",
    "# deepcopy függvény meghívása a copy csomagból/könyvtárból\n",
    "b = copy.deepcopy(a)\n",
    "\n",
    "b[0] = 0\n",
    "a"
   ]
  },
  {
   "cell_type": "markdown",
   "metadata": {},
   "source": [
    "Hasonló viselkedést tapasztalunk, ha függvénynek adunk át argumentumnként egy *list*-et."
   ]
  },
  {
   "cell_type": "code",
   "execution_count": 38,
   "metadata": {},
   "outputs": [],
   "source": [
    "def fun(a):\n",
    "    a[0] = \"NaN\""
   ]
  },
  {
   "cell_type": "code",
   "execution_count": 39,
   "metadata": {},
   "outputs": [
    {
     "data": {
      "text/plain": [
       "['NaN', 2, 3]"
      ]
     },
     "execution_count": 39,
     "metadata": {},
     "output_type": "execute_result"
    }
   ],
   "source": [
    "a = [1, 2, 3]\n",
    "fun(a)\n",
    "a"
   ]
  },
  {
   "cell_type": "code",
   "execution_count": 40,
   "metadata": {},
   "outputs": [
    {
     "data": {
      "text/plain": [
       "3"
      ]
     },
     "execution_count": 40,
     "metadata": {},
     "output_type": "execute_result"
    }
   ],
   "source": [
    "len(a)"
   ]
  },
  {
   "cell_type": "code",
   "execution_count": 41,
   "metadata": {},
   "outputs": [
    {
     "name": "stdout",
     "output_type": "stream",
     "text": [
      "NaN\n",
      "2\n",
      "3\n"
     ]
    }
   ],
   "source": [
    "for ii in range(len(a)):\n",
    "    print(a[ii])"
   ]
  },
  {
   "cell_type": "code",
   "execution_count": 42,
   "metadata": {},
   "outputs": [
    {
     "name": "stdout",
     "output_type": "stream",
     "text": [
      "NaN\n",
      "2\n",
      "3\n"
     ]
    }
   ],
   "source": [
    "for elem in a:\n",
    "    print(elem)"
   ]
  },
  {
   "cell_type": "markdown",
   "metadata": {},
   "source": [
    "A Python tartalmaz jónéhány könyvtárat (standard library). A standard könyvtár igen sok alkönyvtárat tartalmaz, ezeket nem fogjuk részletesen átnézni, csak azokat, amik számunkra szükségesek. \n",
    "\n",
    "A standard könyvtár [dokumentációja](https://docs.python.org/3/reference/index.html).\n",
    "\n",
    "Én [ezt](https://devdocs.io/) általános dokumentáció keresőt ajánlom. A weboldal megfelelően beállítva offline is használható. Az alapbeállítások nem tartalmazzák a Python dokumentációt, azt ki kell választani a `Disabled` menüpont alatti listából és aktiválni kell."
   ]
  },
  {
   "cell_type": "markdown",
   "metadata": {},
   "source": [
    "### Tuple\n",
    "\n",
    "Ez a tároló nagyon hasonló a *list*-hez. A tuple objektumhoz azonban nem fűzhetőek elemek, a *tuple* elemei nem változtathatóak meg."
   ]
  },
  {
   "cell_type": "code",
   "execution_count": 43,
   "metadata": {},
   "outputs": [
    {
     "data": {
      "text/plain": [
       "(1, 2, 3)"
      ]
     },
     "execution_count": 43,
     "metadata": {},
     "output_type": "execute_result"
    }
   ],
   "source": [
    "# tuple létrehozása\n",
    "a = (1, 2, 3)\n",
    "\n",
    "# létrehozás függvényhívással\n",
    "a = tuple((1, 2, 3))\n",
    "a"
   ]
  },
  {
   "cell_type": "markdown",
   "metadata": {},
   "source": [
    "*Tuple* indexelése."
   ]
  },
  {
   "cell_type": "code",
   "execution_count": 44,
   "metadata": {},
   "outputs": [
    {
     "data": {
      "text/plain": [
       "1"
      ]
     },
     "execution_count": 44,
     "metadata": {},
     "output_type": "execute_result"
    }
   ],
   "source": [
    "a[0]"
   ]
  },
  {
   "cell_type": "markdown",
   "metadata": {},
   "source": [
    "A *tuple* elemei nem változtathatóak meg:"
   ]
  },
  {
   "cell_type": "code",
   "execution_count": 45,
   "metadata": {},
   "outputs": [
    {
     "ename": "TypeError",
     "evalue": "'tuple' object does not support item assignment",
     "output_type": "error",
     "traceback": [
      "\u001b[0;31m---------------------------------------------------------------------------\u001b[0m",
      "\u001b[0;31mTypeError\u001b[0m                                 Traceback (most recent call last)",
      "\u001b[0;32m<ipython-input-45-d25ac66b1e49>\u001b[0m in \u001b[0;36m<module>\u001b[0;34m\u001b[0m\n\u001b[0;32m----> 1\u001b[0;31m \u001b[0ma\u001b[0m\u001b[0;34m[\u001b[0m\u001b[0;36m0\u001b[0m\u001b[0;34m]\u001b[0m \u001b[0;34m=\u001b[0m \u001b[0;36m0.0\u001b[0m\u001b[0;34m\u001b[0m\u001b[0;34m\u001b[0m\u001b[0m\n\u001b[0m",
      "\u001b[0;31mTypeError\u001b[0m: 'tuple' object does not support item assignment"
     ]
    }
   ],
   "source": [
    "a[0] = 0.0"
   ]
  },
  {
   "cell_type": "code",
   "execution_count": 46,
   "metadata": {},
   "outputs": [
    {
     "ename": "TypeError",
     "evalue": "'tuple' object does not support item assignment",
     "output_type": "error",
     "traceback": [
      "\u001b[0;31m---------------------------------------------------------------------------\u001b[0m",
      "\u001b[0;31mTypeError\u001b[0m                                 Traceback (most recent call last)",
      "\u001b[0;32m<ipython-input-46-73c0118913d2>\u001b[0m in \u001b[0;36m<module>\u001b[0;34m\u001b[0m\n\u001b[0;32m----> 1\u001b[0;31m \u001b[0mfun\u001b[0m\u001b[0;34m(\u001b[0m\u001b[0ma\u001b[0m\u001b[0;34m)\u001b[0m\u001b[0;34m\u001b[0m\u001b[0;34m\u001b[0m\u001b[0m\n\u001b[0m",
      "\u001b[0;32m<ipython-input-38-0524b6e54cd9>\u001b[0m in \u001b[0;36mfun\u001b[0;34m(a)\u001b[0m\n\u001b[1;32m      1\u001b[0m \u001b[0;32mdef\u001b[0m \u001b[0mfun\u001b[0m\u001b[0;34m(\u001b[0m\u001b[0ma\u001b[0m\u001b[0;34m)\u001b[0m\u001b[0;34m:\u001b[0m\u001b[0;34m\u001b[0m\u001b[0;34m\u001b[0m\u001b[0m\n\u001b[0;32m----> 2\u001b[0;31m     \u001b[0ma\u001b[0m\u001b[0;34m[\u001b[0m\u001b[0;36m0\u001b[0m\u001b[0;34m]\u001b[0m \u001b[0;34m=\u001b[0m \u001b[0;34m\"NaN\"\u001b[0m\u001b[0;34m\u001b[0m\u001b[0;34m\u001b[0m\u001b[0m\n\u001b[0m",
      "\u001b[0;31mTypeError\u001b[0m: 'tuple' object does not support item assignment"
     ]
    }
   ],
   "source": [
    "fun(a)"
   ]
  },
  {
   "cell_type": "markdown",
   "metadata": {},
   "source": [
    "*List* *tuple*-é alakítása."
   ]
  },
  {
   "cell_type": "code",
   "execution_count": 44,
   "metadata": {},
   "outputs": [
    {
     "data": {
      "text/plain": [
       "(1, 2, 3)"
      ]
     },
     "execution_count": 44,
     "metadata": {},
     "output_type": "execute_result"
    }
   ],
   "source": [
    "a = [1,2,3]\n",
    "a = tuple(a)\n",
    "a"
   ]
  },
  {
   "cell_type": "code",
   "execution_count": 47,
   "metadata": {},
   "outputs": [],
   "source": [
    "b = a + (5, 6)"
   ]
  },
  {
   "cell_type": "code",
   "execution_count": 48,
   "metadata": {},
   "outputs": [
    {
     "data": {
      "text/plain": [
       "((1, 2, 3), (1, 2, 3, 5, 6))"
      ]
     },
     "execution_count": 48,
     "metadata": {},
     "output_type": "execute_result"
    }
   ],
   "source": [
    "a, b"
   ]
  },
  {
   "cell_type": "code",
   "execution_count": 49,
   "metadata": {},
   "outputs": [
    {
     "name": "stdout",
     "output_type": "stream",
     "text": [
      "1\n",
      "2\n",
      "3\n"
     ]
    }
   ],
   "source": [
    "for elem in a:\n",
    "    print(elem)"
   ]
  },
  {
   "cell_type": "markdown",
   "metadata": {},
   "source": [
    "Angol irodalomban erre a két változótípusra szokták a *mutable* és *immutable* melléknevet használni. A list ún. *mutable* (változtatható) változó, a tuple ún. *immutable* (nem-megváltoztatható) \"változó\"."
   ]
  },
  {
   "cell_type": "markdown",
   "metadata": {},
   "source": [
    "### Halmaz (Set)\n",
    "\n",
    "Gyakorlatilag egy matematikai halmazt reprezentál, minden eleme egyedi."
   ]
  },
  {
   "cell_type": "code",
   "execution_count": 50,
   "metadata": {},
   "outputs": [
    {
     "data": {
      "text/plain": [
       "{'a', 'b', 'c'}"
      ]
     },
     "execution_count": 50,
     "metadata": {},
     "output_type": "execute_result"
    }
   ],
   "source": [
    "# létrehozása\n",
    "a = {\"a\", \"b\", \"c\"}\n",
    "a = set((\"a\", \"b\", \"c\"))\n",
    "a"
   ]
  },
  {
   "cell_type": "markdown",
   "metadata": {},
   "source": [
    "Elem hozzáadása *set*-hez:"
   ]
  },
  {
   "cell_type": "code",
   "execution_count": 51,
   "metadata": {},
   "outputs": [
    {
     "data": {
      "text/plain": [
       "{'a', 'b', 'c', 'd'}"
      ]
     },
     "execution_count": 51,
     "metadata": {},
     "output_type": "execute_result"
    }
   ],
   "source": [
    "a.add(\"d\")\n",
    "a"
   ]
  },
  {
   "cell_type": "markdown",
   "metadata": {},
   "source": [
    "Az `a` *set* már tartalmazza az `\"a\"` string-et:"
   ]
  },
  {
   "cell_type": "code",
   "execution_count": 52,
   "metadata": {},
   "outputs": [
    {
     "data": {
      "text/plain": [
       "{'a', 'b', 'c', 'd'}"
      ]
     },
     "execution_count": 52,
     "metadata": {},
     "output_type": "execute_result"
    }
   ],
   "source": [
    "a.add(\"a\")\n",
    "a"
   ]
  },
  {
   "cell_type": "code",
   "execution_count": 53,
   "metadata": {},
   "outputs": [
    {
     "data": {
      "text/plain": [
       "[1, 2, 2, 3, 4, 5, 4]"
      ]
     },
     "execution_count": 53,
     "metadata": {},
     "output_type": "execute_result"
    }
   ],
   "source": [
    "a = [1, 2, 2, 3, 4, 5, 4]\n",
    "a"
   ]
  },
  {
   "cell_type": "markdown",
   "metadata": {},
   "source": [
    "*Set* létrehozása listából:"
   ]
  },
  {
   "cell_type": "code",
   "execution_count": 54,
   "metadata": {},
   "outputs": [
    {
     "data": {
      "text/plain": [
       "{1, 2, 3, 4, 5}"
      ]
     },
     "execution_count": 54,
     "metadata": {},
     "output_type": "execute_result"
    }
   ],
   "source": [
    "b = set(a)\n",
    "b"
   ]
  },
  {
   "cell_type": "markdown",
   "metadata": {},
   "source": [
    "Az `in` operátorral le lehet kérdezni, tartalmaz-e egy adott elemet a *set*."
   ]
  },
  {
   "cell_type": "code",
   "execution_count": 56,
   "metadata": {},
   "outputs": [
    {
     "data": {
      "text/plain": [
       "(True, True, False)"
      ]
     },
     "execution_count": 56,
     "metadata": {},
     "output_type": "execute_result"
    }
   ],
   "source": [
    "1 in b, 2 in a, 10 in b"
   ]
  },
  {
   "cell_type": "markdown",
   "metadata": {},
   "source": [
    "*Megjegyzés*: Az `in` operátor *tuple*-el és *list*-el is működik, a *set* esetén gyorsabb a lekérdezés."
   ]
  },
  {
   "cell_type": "code",
   "execution_count": 57,
   "metadata": {},
   "outputs": [
    {
     "data": {
      "text/plain": [
       "True"
      ]
     },
     "execution_count": 57,
     "metadata": {},
     "output_type": "execute_result"
    }
   ],
   "source": [
    "a = [1, 2, 3]\n",
    "2 in a"
   ]
  },
  {
   "cell_type": "markdown",
   "metadata": {},
   "source": [
    "### \"Szótár\" (dictionary, hash map, hash table, associative array)\n",
    "\n",
    "Kulcs-elem párokat tartalmazó objektum."
   ]
  },
  {
   "cell_type": "code",
   "execution_count": 61,
   "metadata": {},
   "outputs": [
    {
     "data": {
      "text/plain": [
       "{'one': 1, 'two': 2, 2.0: 'red'}"
      ]
     },
     "execution_count": 61,
     "metadata": {},
     "output_type": "execute_result"
    }
   ],
   "source": [
    "# létrehozása\n",
    "a = {\"one\": 1, \"two\": 2, 2.0: \"red\"}\n",
    "a"
   ]
  },
  {
   "cell_type": "markdown",
   "metadata": {},
   "source": [
    "Elem lekérdezése:"
   ]
  },
  {
   "cell_type": "code",
   "execution_count": 60,
   "metadata": {},
   "outputs": [
    {
     "data": {
      "text/plain": [
       "1"
      ]
     },
     "execution_count": 60,
     "metadata": {},
     "output_type": "execute_result"
    }
   ],
   "source": [
    "a[\"one\"]"
   ]
  },
  {
   "cell_type": "code",
   "execution_count": 62,
   "metadata": {},
   "outputs": [
    {
     "data": {
      "text/plain": [
       "'red'"
      ]
     },
     "execution_count": 62,
     "metadata": {},
     "output_type": "execute_result"
    }
   ],
   "source": [
    "a[2.0]"
   ]
  },
  {
   "cell_type": "code",
   "execution_count": 63,
   "metadata": {},
   "outputs": [
    {
     "data": {
      "text/plain": [
       "{'row': 6, 'col': 2, 'rank': 2}"
      ]
     },
     "execution_count": 63,
     "metadata": {},
     "output_type": "execute_result"
    }
   ],
   "source": [
    "a = {\n",
    "    \"row\": 6,\n",
    "    \"col\": 2,\n",
    "    \"rank\": 2\n",
    "}\n",
    "a"
   ]
  },
  {
   "cell_type": "markdown",
   "metadata": {},
   "source": [
    "Kulcs-elem pár hozzáadása:"
   ]
  },
  {
   "cell_type": "code",
   "execution_count": 64,
   "metadata": {},
   "outputs": [
    {
     "data": {
      "text/plain": [
       "{'row': 6, 'col': 2, 'rank': 2, 'non_zero_elements': 0}"
      ]
     },
     "execution_count": 64,
     "metadata": {},
     "output_type": "execute_result"
    }
   ],
   "source": [
    "a[\"non_zero_elements\"] = 0\n",
    "a"
   ]
  },
  {
   "cell_type": "markdown",
   "metadata": {},
   "source": [
    "A kulcsok és elemek maguk is Python objektumok. A Python *dictionary* is egy Python objektum, tehát:"
   ]
  },
  {
   "cell_type": "code",
   "execution_count": 65,
   "metadata": {},
   "outputs": [
    {
     "data": {
      "text/plain": [
       "{'John': {'sex': 'male', 'age': 26}, 'Jane': {'sex': 'female', 'age': 22}}"
      ]
     },
     "execution_count": 65,
     "metadata": {},
     "output_type": "execute_result"
    }
   ],
   "source": [
    "a = {\n",
    "    \"John\": {\"sex\": \"male\", \"age\": 26},\n",
    "    \"Jane\": {\"sex\": \"female\", \"age\": 22}\n",
    "}\n",
    "a"
   ]
  },
  {
   "cell_type": "code",
   "execution_count": 66,
   "metadata": {},
   "outputs": [
    {
     "data": {
      "text/plain": [
       "{'sex': 'female', 'age': 22}"
      ]
     },
     "execution_count": 66,
     "metadata": {},
     "output_type": "execute_result"
    }
   ],
   "source": [
    "a[\"Jane\"]"
   ]
  },
  {
   "cell_type": "code",
   "execution_count": 67,
   "metadata": {},
   "outputs": [
    {
     "data": {
      "text/plain": [
       "22"
      ]
     },
     "execution_count": 67,
     "metadata": {},
     "output_type": "execute_result"
    }
   ],
   "source": [
    "a[\"Jane\"][\"age\"]"
   ]
  },
  {
   "cell_type": "code",
   "execution_count": 70,
   "metadata": {},
   "outputs": [
    {
     "name": "stdout",
     "output_type": "stream",
     "text": [
      "John {'sex': 'male', 'age': 26}\n",
      "Jane {'sex': 'female', 'age': 22}\n"
     ]
    }
   ],
   "source": [
    "for key, value in a.items():\n",
    "    print(key, value)"
   ]
  },
  {
   "cell_type": "markdown",
   "metadata": {},
   "source": [
    "### Tárolók létrehozása - `for` ciklus\n",
    "\n",
    "Hozzunk létre egy tárolót, mely tartalmazza az egész számokat 0-tól 9-ig. A `%%timeit` parancssal egy adott cella átlagos futási idejét mérhetjük meg."
   ]
  },
  {
   "cell_type": "code",
   "execution_count": 3,
   "metadata": {},
   "outputs": [
    {
     "name": "stdout",
     "output_type": "stream",
     "text": [
      "1.17 µs ± 16.6 ns per loop (mean ± std. dev. of 7 runs, 1000000 loops each)\n"
     ]
    }
   ],
   "source": [
    "%%timeit\n",
    "a = []\n",
    "\n",
    "for ii in range(10):\n",
    "    a.append(ii)"
   ]
  },
  {
   "cell_type": "code",
   "execution_count": 5,
   "metadata": {},
   "outputs": [],
   "source": [
    "a = []\n",
    "\n",
    "for ii in range(10):\n",
    "    a.append(ii)"
   ]
  },
  {
   "cell_type": "markdown",
   "metadata": {},
   "source": [
    "A `range` függvény segítségével végig tudunk járni egy adott számhalmazon. Jelen esetben a `range(10)` függvényhívással `ii` változó értéke végigjárja a `0,1,2,3,4,5,6,7,8,9` számok halmazát."
   ]
  },
  {
   "cell_type": "code",
   "execution_count": 6,
   "metadata": {},
   "outputs": [
    {
     "data": {
      "text/plain": [
       "[0, 1, 2, 3, 4, 5, 6, 7, 8, 9]"
      ]
     },
     "execution_count": 6,
     "metadata": {},
     "output_type": "execute_result"
    }
   ],
   "source": [
    "a"
   ]
  },
  {
   "cell_type": "markdown",
   "metadata": {},
   "source": [
    "Ugyenezt a *list*-et elő tudjuk állítani más szintaxissal. (list comprehension)"
   ]
  },
  {
   "cell_type": "code",
   "execution_count": 7,
   "metadata": {},
   "outputs": [
    {
     "name": "stdout",
     "output_type": "stream",
     "text": [
      "846 ns ± 22.4 ns per loop (mean ± std. dev. of 7 runs, 1000000 loops each)\n"
     ]
    }
   ],
   "source": [
    "%%timeit\n",
    "a = [ii for ii in range(10)]"
   ]
  },
  {
   "cell_type": "code",
   "execution_count": 8,
   "metadata": {},
   "outputs": [],
   "source": [
    "a = [ii for ii in range(10)]"
   ]
  },
  {
   "cell_type": "markdown",
   "metadata": {},
   "source": [
    "Ez a szintaxis (*list comprehension*) tömörebb és hatékonyabban számítja ki a *lista* elemekeit."
   ]
  },
  {
   "cell_type": "code",
   "execution_count": 9,
   "metadata": {},
   "outputs": [
    {
     "data": {
      "text/plain": [
       "[0, 1, 2, 3, 4, 5, 6, 7, 8, 9]"
      ]
     },
     "execution_count": 9,
     "metadata": {},
     "output_type": "execute_result"
    }
   ],
   "source": [
    "a"
   ]
  },
  {
   "cell_type": "markdown",
   "metadata": {},
   "source": [
    "A tömör szintaxisban az `if` kulcsszó is beépíthető. Pl 5-nél kisebb elemek generálása:"
   ]
  },
  {
   "cell_type": "code",
   "execution_count": 10,
   "metadata": {},
   "outputs": [
    {
     "data": {
      "text/plain": [
       "[0, 1, 2, 3, 4]"
      ]
     },
     "execution_count": 10,
     "metadata": {},
     "output_type": "execute_result"
    }
   ],
   "source": [
    "a = [ii for ii in range(10) if ii < 5]\n",
    "a"
   ]
  },
  {
   "cell_type": "markdown",
   "metadata": {},
   "source": [
    "Az elemek számát a `len` függvénnyel kérhetjük le. (Működik *set*, *dictionary* és *tuple* esetén is.)"
   ]
  },
  {
   "cell_type": "code",
   "execution_count": 61,
   "metadata": {},
   "outputs": [
    {
     "data": {
      "text/plain": [
       "10"
      ]
     },
     "execution_count": 61,
     "metadata": {},
     "output_type": "execute_result"
    }
   ],
   "source": [
    "len(a)"
   ]
  },
  {
   "cell_type": "markdown",
   "metadata": {},
   "source": [
    "Elemek kinyomtatása naív módón:"
   ]
  },
  {
   "cell_type": "code",
   "execution_count": 66,
   "metadata": {},
   "outputs": [
    {
     "name": "stdout",
     "output_type": "stream",
     "text": [
      "0\n",
      "1\n",
      "2\n",
      "3\n",
      "4\n"
     ]
    }
   ],
   "source": [
    "for ii in range(len(a)):\n",
    "    print(a[ii])"
   ]
  },
  {
   "cell_type": "markdown",
   "metadata": {},
   "source": [
    "Másik megoldás, egy *list* elemeinek iterálása."
   ]
  },
  {
   "cell_type": "code",
   "execution_count": 67,
   "metadata": {},
   "outputs": [
    {
     "name": "stdout",
     "output_type": "stream",
     "text": [
      "0\n",
      "1\n",
      "2\n",
      "3\n",
      "4\n"
     ]
    }
   ],
   "source": [
    "for elem in a:\n",
    "    print(elem)"
   ]
  },
  {
   "cell_type": "markdown",
   "metadata": {},
   "source": [
    "Ha az elem indexre is szükség van:"
   ]
  },
  {
   "cell_type": "code",
   "execution_count": 13,
   "metadata": {},
   "outputs": [],
   "source": [
    "a = [ii**2 for ii in range(10)]"
   ]
  },
  {
   "cell_type": "code",
   "execution_count": 14,
   "metadata": {},
   "outputs": [
    {
     "name": "stdout",
     "output_type": "stream",
     "text": [
      "Index:  0 - Elem:  0\n",
      "Index:  1 - Elem:  1\n",
      "Index:  2 - Elem:  4\n",
      "Index:  3 - Elem:  9\n",
      "Index:  4 - Elem:  16\n",
      "Index:  5 - Elem:  25\n",
      "Index:  6 - Elem:  36\n",
      "Index:  7 - Elem:  49\n",
      "Index:  8 - Elem:  64\n",
      "Index:  9 - Elem:  81\n"
     ]
    }
   ],
   "source": [
    "for ii, elem in enumerate(a):\n",
    "    print(\"Index: \", ii, \"- Elem: \", elem)"
   ]
  },
  {
   "cell_type": "markdown",
   "metadata": {},
   "source": [
    "*Dictionary* esetén a kulcs elemeken tudunk vlgigjárni."
   ]
  },
  {
   "cell_type": "code",
   "execution_count": 15,
   "metadata": {},
   "outputs": [
    {
     "name": "stdout",
     "output_type": "stream",
     "text": [
      "a\n",
      "b\n"
     ]
    }
   ],
   "source": [
    "d = {\"a\": 1, \"b\": 2}\n",
    "\n",
    "for elem in d:\n",
    "    print(elem)"
   ]
  },
  {
   "cell_type": "markdown",
   "metadata": {},
   "source": [
    "Kulcs-elem párokon a következőképpen tudunk egyszerre végigjárni:"
   ]
  },
  {
   "cell_type": "code",
   "execution_count": 16,
   "metadata": {},
   "outputs": [
    {
     "name": "stdout",
     "output_type": "stream",
     "text": [
      "a 1\n",
      "b 2\n"
     ]
    }
   ],
   "source": [
    "for key, val in d.items():\n",
    "    print(key, val)"
   ]
  },
  {
   "cell_type": "markdown",
   "metadata": {},
   "source": [
    "A következő fejezetben megismerkedünk az alapvető beviteli és kiviteli (IO = Input/Output) függvényekkel, fájlok olvasásával, string-ek kezelésével, röviden kitérünk a hibakezelésre is."
   ]
  }
 ],
 "metadata": {
  "kernelspec": {
   "display_name": "Python 3 (ipykernel)",
   "language": "python",
   "name": "python3"
  },
  "language_info": {
   "codemirror_mode": {
    "name": "ipython",
    "version": 3
   },
   "file_extension": ".py",
   "mimetype": "text/x-python",
   "name": "python",
   "nbconvert_exporter": "python",
   "pygments_lexer": "ipython3",
   "version": "3.9.7"
  }
 },
 "nbformat": 4,
 "nbformat_minor": 2
}
