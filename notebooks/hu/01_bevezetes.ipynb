{
  "cells": [
    {
      "cell_type": "markdown",
      "metadata": {},
      "source": [
        "# Beveztés a Python értelmezőbe, a nyelv szintaxisába és a notebook formátumba\n",
        "\n",
        "## A Python értelmező (Python shell) és maga a nyelv\n",
        "\n",
        "Az elméleti háttér után térjünk át a gyakorlatra. Geofizikusként valószínűleg nagyrészt Matlab-bal van tapasztalatotok. Jó hír, hogy a Python is hasonlóan működik, mint a Matlab, azaz elindítva egy értelmezőt, azonnal elkezdhetünk kódolni.\n",
        "\n",
        "## A Notebook formátum\n",
        "\n",
        "A **Jupyter Notebook** egy olyan alkalmazás, mely interktív kódolást tesz lehetővé. A program a háttrében futtat egy Python értelmezőt (pontosabban egy IPython értelmezőt, az IPython értelmező tulajdonképpen egy Python értelmező, mely jónéhány további, script írást megkönnyítő, funkcióval rendelkezik).\n",
        "\n",
        "Egy notebook cellákra van felosztva. Kétfajta cella létezik:\n",
        "- az egyik an ún. *markdown* cella; ebben a cellában *markdown* szöveget, *markdown* és LaTeX kódot írhatunk, melyet a **Jupyter Notebook** értelmez, *html* kódot generál belőle és a \"lefordított\" html kódot megjeleníti a böngésző ablakban,\n",
        "- a másik cellatípus a kódcella; ebben a cellában írhatunk és szerkeszthetünk Python kódot, amit a futtatási parancs kiadása után a **Jupyter Notebook** elküld a háttérben futó Python értelmezőnek, az lefuttatja a kódot és kinyomtatja cella alá, a kód által a terminálra nyomtatott szöveget.\n",
        "\n",
        "A *markdown* nyelv szintaxisáról [itt](https://github.com/adam-p/markdown-here/wiki/Markdown-Cheatsheet) található egy rövid leírás.\n",
        "\n",
        "A cellát kiválasztva az `Enter` leütésével beléphetünk a cellába, annak tartalmát szerkeszthetjük. A cellát a `Control+Enter` billentyűkombináció leütésével futtathatjuk. A cellá szerkesztését az `Escape` billentyű leütésével fejezhetjük be, ezután a felele és lefele nyilakkal tudunk navigálni a cellák között.\n",
        "\n",
        "Ha nem szerkesztünk egy cellát a következő parancsok állnak rendelkezésünkre:\n",
        "- **új cella létrehozása:** egy adott cella fölé az `a`, alá a `b` billentyű lenyomásával hozhatunk létre egy új üres cellát,\n",
        "- **cella másolása:** `c` billentyű,\n",
        "- **cella kivágása:** `x` billentyű,\n",
        "- **cella beillesztése:** `v` billentyű - a kijelült cella alá kerül beszúrásra.\n",
        "- **markdown cellává konvertálás**: `m` billentyű; az újonnan készített cellák, kódcellaként kezdik az életüket, nekünk kell őket *markdown* cellává konvertálni. \n",
        "\n",
        "További funkciók is rendelkezésünkre állnak, csak a legfontosabbakat emeltem ki.\n",
        "\n",
        "Abban az esetben, ha ezt a dokumentumot a jegyzet egyik fejezeteként olvasod, amit magad előtt látsz, az nem egy interaktív *notebook*, hanem a *notebook* fájl alapjánt generált *html* dokumentum. Ha magad is futtatni vagy szerkeszteni szeretnéd a *notebook* tartalmát, kérlek töltsd le a *notebook-okat* a kurzus [github](https://github.com/bozso/python_course) oldaláról és nyisd meg őket a **Jupyter Notebook** alkalmazásban.\n",
        "\n",
        "A következőkben tehát megismerkedünk a Python nyelv szintaxisával, néhány beépített Python tárolóval és az *IPython* értelmezővel. \n",
        "\n",
        "## A Python mint egyszerű számológép\n",
        "\n",
        "Matlabhoz hasonlóan, a Python is képes egyszerű számológépként funkcionálni."
      ]
    },
    {
      "cell_type": "code",
      "execution_count": 1,
      "metadata": {},
      "outputs": [
        {
          "data": {
            "text/plain": [
              "10"
            ]
          },
          "execution_count": 1,
          "metadata": {},
          "output_type": "execute_result"
        }
      ],
      "source": [
        "5 + 5"
      ]
    },
    {
      "cell_type": "markdown",
      "metadata": {},
      "source": [
        "Változóknak így adhatunk értéket:"
      ]
    },
    {
      "cell_type": "code",
      "execution_count": 3,
      "metadata": {},
      "outputs": [],
      "source": [
        "a = 5"
      ]
    },
    {
      "cell_type": "markdown",
      "metadata": {},
      "source": [
        "A változó értékének kiírása:"
      ]
    },
    {
      "cell_type": "code",
      "execution_count": 4,
      "metadata": {},
      "outputs": [
        {
          "name": "stdout",
          "output_type": "stream",
          "text": [
            "5\n"
          ]
        }
      ],
      "source": [
        "print(a)"
      ]
    },
    {
      "cell_type": "code",
      "execution_count": 10,
      "metadata": {},
      "output_type": "execute_result"
    }
  ],
  "source": [
    "a"
  ]
}
