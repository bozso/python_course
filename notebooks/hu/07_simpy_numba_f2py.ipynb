{
 "cells": [
  {
   "cell_type": "markdown",
   "metadata": {},
   "source": [
    "# SimPy, Numba, F2py"
   ]
  },
  {
   "cell_type": "code",
   "execution_count": 2,
   "metadata": {},
   "outputs": [],
   "source": [
    "import sympy as sp\n",
    "import numpy as np\n",
    "from importlib import reload"
   ]
  },
  {
   "cell_type": "code",
   "execution_count": 2,
   "metadata": {},
   "outputs": [],
   "source": [
    "x, y = sp.var(\"x, y\")"
   ]
  },
  {
   "cell_type": "code",
   "execution_count": 3,
   "metadata": {},
   "outputs": [],
   "source": [
    "f = (x + y)**2"
   ]
  },
  {
   "cell_type": "code",
   "execution_count": 4,
   "metadata": {},
   "outputs": [
    {
     "data": {
      "text/latex": [
       "$\\displaystyle \\left(x + y\\right)^{2}$"
      ],
      "text/plain": [
       "(x + y)**2"
      ]
     },
     "execution_count": 4,
     "metadata": {},
     "output_type": "execute_result"
    }
   ],
   "source": [
    "f"
   ]
  },
  {
   "cell_type": "code",
   "execution_count": 5,
   "metadata": {},
   "outputs": [
    {
     "data": {
      "text/latex": [
       "$\\displaystyle \\operatorname{Poly}{\\left( x^{2} + 2 xy + y^{2}, x, y, domain=\\mathbb{Z} \\right)}$"
      ],
      "text/plain": [
       "Poly(x**2 + 2*x*y + y**2, x, y, domain='ZZ')"
      ]
     },
     "execution_count": 5,
     "metadata": {},
     "output_type": "execute_result"
    }
   ],
   "source": [
    "f.as_poly()"
   ]
  },
  {
   "cell_type": "code",
   "execution_count": 6,
   "metadata": {},
   "outputs": [
    {
     "data": {
      "text/latex": [
       "$\\displaystyle \\frac{x^{3}}{3} + x^{2} y + x y^{2}$"
      ],
      "text/plain": [
       "x**3/3 + x**2*y + x*y**2"
      ]
     },
     "execution_count": 6,
     "metadata": {},
     "output_type": "execute_result"
    }
   ],
   "source": [
    "f.integrate(x)"
   ]
  },
  {
   "cell_type": "code",
   "execution_count": 7,
   "metadata": {},
   "outputs": [
    {
     "data": {
      "text/latex": [
       "$\\displaystyle 2 x + 2 y$"
      ],
      "text/plain": [
       "2*x + 2*y"
      ]
     },
     "execution_count": 7,
     "metadata": {},
     "output_type": "execute_result"
    }
   ],
   "source": [
    "f.diff(y)"
   ]
  },
  {
   "cell_type": "markdown",
   "metadata": {},
   "source": [
    "## Fortran kód meghívása Python-ból - f2py"
   ]
  },
  {
   "cell_type": "code",
   "execution_count": 60,
   "metadata": {},
   "outputs": [
    {
     "name": "stdout",
     "output_type": "stream",
     "text": [
      "Overwriting assets/add_one.f90\n"
     ]
    }
   ],
   "source": [
    "%%file assets/add_one.f90\n",
    "\n",
    "subroutine add_one(matrix, nrows, ncols)\n",
    "    integer, intent(in) :: nrows, ncols\n",
    "    double precision, intent(inout) :: matrix(nrows, ncols)\n",
    "            \n",
    "    integer :: ii, jj\n",
    "    \n",
    "    print *, nrows, ncols\n",
    "    \n",
    "    do ii = 1, size(matrix, 1)\n",
    "        do jj = 1, size(matrix, 2)\n",
    "            matrix(ii, jj) = matrix(ii, jj) + 1\n",
    "        end do\n",
    "    end do\n",
    "end subroutine add_one"
   ]
  },
  {
   "cell_type": "markdown",
   "metadata": {},
   "source": [
    "Egy egyszerű módja a python modul generálásának az `f2py` parancssori program használata."
   ]
  },
  {
   "cell_type": "code",
   "execution_count": 22,
   "metadata": {
    "scrolled": true
   },
   "outputs": [
    {
     "name": "stdout",
     "output_type": "stream",
     "text": [
      "\u001b[39mrunning build\u001b[0m\n",
      "\u001b[39mrunning config_cc\u001b[0m\n",
      "\u001b[39munifing config_cc, config, build_clib, build_ext, build commands --compiler options\u001b[0m\n",
      "\u001b[39mrunning config_fc\u001b[0m\n",
      "\u001b[39munifing config_fc, config, build_clib, build_ext, build commands --fcompiler options\u001b[0m\n",
      "\u001b[39mrunning build_src\u001b[0m\n",
      "\u001b[39mbuild_src\u001b[0m\n",
      "\u001b[39mbuilding extension \"add_one\" sources\u001b[0m\n",
      "\u001b[39mf2py options: []\u001b[0m\n",
      "\u001b[39mf2py:> /tmp/tmpg1dqulli/src.linux-x86_64-3.8/add_onemodule.c\u001b[0m\n",
      "\u001b[39mcreating /tmp/tmpg1dqulli/src.linux-x86_64-3.8\u001b[0m\n",
      "Reading fortran codes...\n",
      "\tReading file 'assets/add_one.f90' (format:free)\n",
      "Post-processing...\n",
      "\tBlock: add_one\n",
      "\t\t\tBlock: add_one\n",
      "Post-processing (stage 2)...\n",
      "Building modules...\n",
      "\tBuilding module \"add_one\"...\n",
      "\t\tConstructing wrapper function \"add_one\"...\n",
      "\t\t  add_one(matrix,[nrows,ncols])\n",
      "\tWrote C/API module \"add_one\" to file \"/tmp/tmpg1dqulli/src.linux-x86_64-3.8/add_onemodule.c\"\n",
      "\u001b[39m  adding '/tmp/tmpg1dqulli/src.linux-x86_64-3.8/fortranobject.c' to sources.\u001b[0m\n",
      "\u001b[39m  adding '/tmp/tmpg1dqulli/src.linux-x86_64-3.8' to include_dirs.\u001b[0m\n",
      "\u001b[39mcopying /home/istvan/miniconda3/lib/python3.8/site-packages/numpy/f2py/src/fortranobject.c -> /tmp/tmpg1dqulli/src.linux-x86_64-3.8\u001b[0m\n",
      "\u001b[39mcopying /home/istvan/miniconda3/lib/python3.8/site-packages/numpy/f2py/src/fortranobject.h -> /tmp/tmpg1dqulli/src.linux-x86_64-3.8\u001b[0m\n",
      "\u001b[39mbuild_src: building npy-pkg config files\u001b[0m\n",
      "\u001b[39mrunning build_ext\u001b[0m\n",
      "\u001b[39mcustomize UnixCCompiler\u001b[0m\n",
      "\u001b[39mcustomize UnixCCompiler using build_ext\u001b[0m\n",
      "\u001b[39mget_default_fcompiler: matching types: '['gnu95', 'intel', 'lahey', 'pg', 'absoft', 'nag', 'vast', 'compaq', 'intele', 'intelem', 'gnu', 'g95', 'pathf95', 'nagfor']'\u001b[0m\n",
      "\u001b[39mcustomize Gnu95FCompiler\u001b[0m\n",
      "\u001b[39mFound executable /usr/bin/gfortran\u001b[0m\n",
      "\u001b[39mcustomize Gnu95FCompiler\u001b[0m\n",
      "\u001b[39mcustomize Gnu95FCompiler using build_ext\u001b[0m\n",
      "\u001b[39mbuilding 'add_one' extension\u001b[0m\n",
      "\u001b[39mcompiling C sources\u001b[0m\n",
      "\u001b[39mC compiler: gcc -pthread -B /home/istvan/miniconda3/compiler_compat -Wl,--sysroot=/ -Wsign-compare -DNDEBUG -g -fwrapv -O3 -Wall -Wstrict-prototypes -fPIC\n",
      "\u001b[0m\n",
      "\u001b[39mcreating /tmp/tmpg1dqulli/tmp\u001b[0m\n",
      "\u001b[39mcreating /tmp/tmpg1dqulli/tmp/tmpg1dqulli\u001b[0m\n",
      "\u001b[39mcreating /tmp/tmpg1dqulli/tmp/tmpg1dqulli/src.linux-x86_64-3.8\u001b[0m\n",
      "\u001b[39mcompile options: '-I/tmp/tmpg1dqulli/src.linux-x86_64-3.8 -I/home/istvan/miniconda3/lib/python3.8/site-packages/numpy/core/include -I/home/istvan/miniconda3/include/python3.8 -c'\u001b[0m\n",
      "\u001b[39mgcc: /tmp/tmpg1dqulli/src.linux-x86_64-3.8/add_onemodule.c\u001b[0m\n",
      "\u001b[39mgcc: /tmp/tmpg1dqulli/src.linux-x86_64-3.8/fortranobject.c\u001b[0m\n",
      "In file included from \u001b[01m\u001b[K/home/istvan/miniconda3/lib/python3.8/site-packages/numpy/core/include/numpy/ndarraytypes.h:1832:0\u001b[m\u001b[K,\n",
      "                 from \u001b[01m\u001b[K/home/istvan/miniconda3/lib/python3.8/site-packages/numpy/core/include/numpy/ndarrayobject.h:12\u001b[m\u001b[K,\n",
      "                 from \u001b[01m\u001b[K/home/istvan/miniconda3/lib/python3.8/site-packages/numpy/core/include/numpy/arrayobject.h:4\u001b[m\u001b[K,\n",
      "                 from \u001b[01m\u001b[K/tmp/tmpg1dqulli/src.linux-x86_64-3.8/fortranobject.h:13\u001b[m\u001b[K,\n",
      "                 from \u001b[01m\u001b[K/tmp/tmpg1dqulli/src.linux-x86_64-3.8/add_onemodule.c:16\u001b[m\u001b[K:\n",
      "\u001b[01m\u001b[K/home/istvan/miniconda3/lib/python3.8/site-packages/numpy/core/include/numpy/npy_1_7_deprecated_api.h:17:2:\u001b[m\u001b[K \u001b[01;35m\u001b[Kwarning: \u001b[m\u001b[K#warning \"Using deprecated NumPy API, disable it with \" \"#define NPY_NO_DEPRECATED_API NPY_1_7_API_VERSION\" [\u001b[01;35m\u001b[K-Wcpp\u001b[m\u001b[K]\n",
      " #\u001b[01;35m\u001b[Kwarning\u001b[m\u001b[K \"Using deprecated NumPy API, disable it with \" \\\n",
      "  \u001b[01;35m\u001b[K^~~~~~~\u001b[m\u001b[K\n",
      "In file included from \u001b[01m\u001b[K/home/istvan/miniconda3/lib/python3.8/site-packages/numpy/core/include/numpy/ndarraytypes.h:1832:0\u001b[m\u001b[K,\n",
      "                 from \u001b[01m\u001b[K/home/istvan/miniconda3/lib/python3.8/site-packages/numpy/core/include/numpy/ndarrayobject.h:12\u001b[m\u001b[K,\n",
      "                 from \u001b[01m\u001b[K/home/istvan/miniconda3/lib/python3.8/site-packages/numpy/core/include/numpy/arrayobject.h:4\u001b[m\u001b[K,\n",
      "                 from \u001b[01m\u001b[K/tmp/tmpg1dqulli/src.linux-x86_64-3.8/fortranobject.h:13\u001b[m\u001b[K,\n",
      "                 from \u001b[01m\u001b[K/tmp/tmpg1dqulli/src.linux-x86_64-3.8/fortranobject.c:2\u001b[m\u001b[K:\n",
      "\u001b[01m\u001b[K/home/istvan/miniconda3/lib/python3.8/site-packages/numpy/core/include/numpy/npy_1_7_deprecated_api.h:17:2:\u001b[m\u001b[K \u001b[01;35m\u001b[Kwarning: \u001b[m\u001b[K#warning \"Using deprecated NumPy API, disable it with \" \"#define NPY_NO_DEPRECATED_API NPY_1_7_API_VERSION\" [\u001b[01;35m\u001b[K-Wcpp\u001b[m\u001b[K]\n",
      " #\u001b[01;35m\u001b[Kwarning\u001b[m\u001b[K \"Using deprecated NumPy API, disable it with \" \\\n",
      "  \u001b[01;35m\u001b[K^~~~~~~\u001b[m\u001b[K\n",
      "\u001b[01m\u001b[K/tmp/tmpg1dqulli/src.linux-x86_64-3.8/add_onemodule.c:109:12:\u001b[m\u001b[K \u001b[01;35m\u001b[Kwarning: \u001b[m\u001b[K‘\u001b[01m\u001b[Kf2py_size\u001b[m\u001b[K’ defined but not used [\u001b[01;35m\u001b[K-Wunused-function\u001b[m\u001b[K]\n",
      " static int \u001b[01;35m\u001b[Kf2py_size\u001b[m\u001b[K(PyArrayObject* var, ...)\n",
      "            \u001b[01;35m\u001b[K^~~~~~~~~\u001b[m\u001b[K\n",
      "\u001b[39mcompiling Fortran sources\u001b[0m\n",
      "\u001b[39mFortran f77 compiler: /usr/bin/gfortran -Wall -g -ffixed-form -fno-second-underscore -fPIC -O3 -funroll-loops\n",
      "Fortran f90 compiler: /usr/bin/gfortran -Wall -g -fno-second-underscore -fPIC -O3 -funroll-loops\n",
      "Fortran fix compiler: /usr/bin/gfortran -Wall -g -ffixed-form -fno-second-underscore -Wall -g -fno-second-underscore -fPIC -O3 -funroll-loops\u001b[0m\n",
      "\u001b[39mcreating /tmp/tmpg1dqulli/assets\u001b[0m\n",
      "\u001b[39mcompile options: '-I/tmp/tmpg1dqulli/src.linux-x86_64-3.8 -I/home/istvan/miniconda3/lib/python3.8/site-packages/numpy/core/include -I/home/istvan/miniconda3/include/python3.8 -c'\u001b[0m\n",
      "\u001b[39mgfortran:f90: assets/add_one.f90\u001b[0m\n",
      "\u001b[39m/usr/bin/gfortran -Wall -g -Wall -g -shared /tmp/tmpg1dqulli/tmp/tmpg1dqulli/src.linux-x86_64-3.8/add_onemodule.o /tmp/tmpg1dqulli/tmp/tmpg1dqulli/src.linux-x86_64-3.8/fortranobject.o /tmp/tmpg1dqulli/assets/add_one.o -L/usr/lib/gcc/x86_64-linux-gnu/7 -L/usr/lib/gcc/x86_64-linux-gnu/7 -lgfortran -o ./add_one.cpython-38-x86_64-linux-gnu.so\u001b[0m\n",
      "Removing build directory /tmp/tmpg1dqulli\n"
     ]
    }
   ],
   "source": [
    "!f2py -c assets/add_one.f90 -m add_one"
   ]
  },
  {
   "cell_type": "code",
   "execution_count": 3,
   "metadata": {},
   "outputs": [],
   "source": [
    "import add_one as ao"
   ]
  },
  {
   "cell_type": "code",
   "execution_count": 76,
   "metadata": {},
   "outputs": [],
   "source": [
    "reload(ao);"
   ]
  },
  {
   "cell_type": "code",
   "execution_count": 31,
   "metadata": {},
   "outputs": [
    {
     "data": {
      "text/plain": [
       "['__doc__',\n",
       " '__file__',\n",
       " '__loader__',\n",
       " '__name__',\n",
       " '__package__',\n",
       " '__spec__',\n",
       " '__version__',\n",
       " '_add_one_error',\n",
       " 'add_one']"
      ]
     },
     "execution_count": 31,
     "metadata": {},
     "output_type": "execute_result"
    }
   ],
   "source": [
    "dir(ao)"
   ]
  },
  {
   "cell_type": "code",
   "execution_count": 32,
   "metadata": {},
   "outputs": [
    {
     "name": "stdout",
     "output_type": "stream",
     "text": [
      "Help on module add_one:\n",
      "\n",
      "NAME\n",
      "    add_one\n",
      "\n",
      "DESCRIPTION\n",
      "    This module 'add_one' is auto-generated with f2py (version:2).\n",
      "    Functions:\n",
      "      add_one(matrix,nrows=shape(matrix,0),ncols=shape(matrix,1))\n",
      "    .\n",
      "\n",
      "DATA\n",
      "    add_one = <fortran object>\n",
      "\n",
      "VERSION\n",
      "    b'$Revision: $'\n",
      "\n",
      "FILE\n",
      "    /home/istvan/packages/src/github.com/bozso/python_course/notebooks/hu/add_one.cpython-38-x86_64-linux-gnu.so\n",
      "\n",
      "\n"
     ]
    }
   ],
   "source": [
    "help(ao)"
   ]
  },
  {
   "cell_type": "code",
   "execution_count": 4,
   "metadata": {},
   "outputs": [],
   "source": [
    "mx = np.ones((3,2), order=\"F\")"
   ]
  },
  {
   "cell_type": "code",
   "execution_count": 5,
   "metadata": {},
   "outputs": [],
   "source": [
    "ao.add_one(mx)"
   ]
  },
  {
   "cell_type": "code",
   "execution_count": 70,
   "metadata": {},
   "outputs": [
    {
     "data": {
      "text/plain": [
       "array([[1., 1.],\n",
       "       [1., 1.],\n",
       "       [1., 1.]])"
      ]
     },
     "execution_count": 70,
     "metadata": {},
     "output_type": "execute_result"
    }
   ],
   "source": [
    "mx"
   ]
  }
 ],
 "metadata": {
  "kernelspec": {
   "display_name": "Python 3 (ipykernel)",
   "language": "python",
   "name": "python3"
  },
  "language_info": {
   "codemirror_mode": {
    "name": "ipython",
    "version": 3
   },
   "file_extension": ".py",
   "mimetype": "text/x-python",
   "name": "python",
   "nbconvert_exporter": "python",
   "pygments_lexer": "ipython3",
   "version": "3.9.7"
  }
 },
 "nbformat": 4,
 "nbformat_minor": 4
}
