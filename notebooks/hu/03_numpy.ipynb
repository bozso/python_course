{
 "cells": [
  {
   "cell_type": "markdown",
   "metadata": {},
   "source": [
    "# Bevezetés a [numpy](https://numpy.org) csomag használatába\n",
    "\n",
    "A Python nyelv nem támogatja a vektorok, mátrixok, tenzorok kezelését. Ehhez szükségünk van egy könyvtárra, amit nem tartalmaz a Python standard könyvtára.\n",
    "\n",
    "A numpy (numerical python), könyvtár elérhetővé teszi az n-dimenziós tömbök vagy tenzorok (n-dimensional array) kezeléssét, az azokon végrehajtható aritmetikai műveleteket, függvények elemenkénti alkalmazását, lineáris algebrai műveleteket, továbbá függvények numerikus integrálását, interpolációt, polinom illesztést és sok egyéb függvényt."
   ]
  },
  {
   "cell_type": "markdown",
   "metadata": {},
   "source": [
    "## Kitérő: Csomagok használata és problémák megoldása Python-ban\n",
    "\n",
    "Szinte minden Python csomag esetén erősen ajánlott a dokumentáció áttekintése. Egy csomagban rengeteg függvény és algoritmus található, ezeket lehetetlen lenne, akár felületesen is áttekinteni.\n",
    "\n",
    "Amikor Python-ban szeretnénk egy problémát megoldani először érdemes rákeresni, hogy a problémát meg próbálta-e már valaki oldani. Én még nem igazán találkoztam, olyan esettel, hogy ne létezett volna legalább egy könyvtárat vagy kódrészletet, ami alapján neki tudtam volna állni egy kód megírásának.\n",
    "\n",
    "Tudományos Python programozás esetén értékesebb a külünböző csomagok és függvényeinek ismerete mint magának a nyelvnek ismerete. (Természetesen a nyelvet is ismerni kell, hogy ne érjenek minket meglepetések.) Ezt csak tapasztalattal lehet elsajátítani.\n",
    "\n",
    "Tehát, amikor szeretnénk egy programot írni egy adott feladat megoldására, először gondolkozzunk el azon, hogy milyen csomagok és függvények állnak rendelkezésre, amik a feladat egyes részeit vagy egészét meg tudják oldani. Ha nem ismerünk ilyen csomagokat, akkor próbáljunk meg az interneten keresni és ha ott sem találunk segítséget, csak akkor álljunk neki mi magunk a megoldást implementálni.\n",
    "\n",
    "Tulajdonképpen a tudományos Python programozás művészete nagyrészt a különböző csomagok használatának művészete. Ez két fő részből áll:\n",
    "1. A csomagok által implementált algoritmusok, függvények használatának és limitációjának ismerete.\n",
    "2. A különböző csomagok különböző algoritmusainak összefűzése.\n",
    "\n",
    "A numpy egy \"sarokpont\" ebben a rendszerben, mivel a legtöbb tudományos csomag függvényei a numpy által implementált mátrixokon, tenzorokon, adattömbökön alapulnak és numpy adattömböket fogadnak el argumentumként vagy numpy adattömbbel térnek vissza."
   ]
  },
  {
   "cell_type": "markdown",
   "metadata": {},
   "source": [
    "## Mátrixok tárolása\n",
    "\n",
    "A gyakorlat előtt néhány technikai részlet, mely fontos lehet.\n",
    "\n",
    "Azonos típusú változókat általában egy kijelölt összefüggő memóriaszegmensben szokás tárolni. Mivel a vektor egy dimenziós, ezért nem kell különösebben gondolkdni a vektor elemeinek tárolási módján. Magasabb dimenziójú tenzorok esetén, már más a helyzet.\n",
    "\n",
    "A mátrix nem csak egyetlen egy sorból vagy oszlopból áll (mint a sor- vagy oszlopvektor), hanem sorok vagy oszlopok sorozatából. Ezeket a sorokat vagy oszlopokat nem érdemes különböző memóriaszegmensekben tárolni, ebben az esetben is összefüggő memóriaterületet szokás alkalmazni.\n",
    "\n",
    "A mátrix és magasabb dimenziójú tenzorok esetén két tárolási sémát lehet alkalmazni. A mátrix elemeit vagy sorfolytonosan (row major) vagy oszlopfolytonosan (column major) lehet eltárolni (lásd az alábbi ábrán). A sorfolytonos tárolási módot szokás C-típusúnak (mivel a C nyelvben ezt szokták alapból alkalmazni) az oszlopfolytonos tárolási módot pedig F- vagy Fortran-típusú (Fortranban és Matlabban alkalmazott) tárolási sémának nevezni.\n",
    "\n",
    "<p><a href=\"https://commons.wikimedia.org/wiki/File:Row_and_column_major_order.svg#/media/File:Row_and_column_major_order.svg\"><img src=\"https://upload.wikimedia.org/wikipedia/commons/4/4d/Row_and_column_major_order.svg\" alt=\"Row and column major order.svg\" height=\"250\" width=\"200\"></a><br>By <a href=\"//commons.wikimedia.org/wiki/User:Cmglee\" title=\"User:Cmglee\">Cmglee</a> - <span class=\"int-own-work\" lang=\"en\">Own work</span>, <a href=\"https://creativecommons.org/licenses/by-sa/4.0\" title=\"Creative Commons Attribution-Share Alike 4.0\">CC BY-SA 4.0</a>, <a href=\"https://commons.wikimedia.org/w/index.php?curid=65107030\">Link</a></p>\n",
    "\n",
    "Példa: Tekintsük az alábbi mátrixot:\n",
    "\n",
    "\\\\[\n",
    "    M = \n",
    "    \\begin{bmatrix}\n",
    "    1, & 2 \\\\\n",
    "    3, & 4 \\\\\n",
    "    5, & 6\n",
    "    \\end{bmatrix}\n",
    "\\\\]\n",
    "\n",
    "Sorfolytonos tárolás esetén a mátrix elemei az alább látható módon követik egymást:\n",
    "\n",
    "\\\\[\n",
    "    \\begin{bmatrix} 1, & 2, & 3, & 4, & 5, & 6 \\end{bmatrix}\n",
    "\\\\]\n",
    "\n",
    "Oszlopfolytonos tárolás esetén pedig:\n",
    "\n",
    "\\\\[\n",
    "    \\begin{bmatrix} 1, & 3, & 5, & 2, & 4, & 6 \\end{bmatrix}\n",
    "\\\\]\n",
    "\n",
    "Ha két mátrix elemei más séma szerint vannak eltárolva, elképzelhető, hogy néhány művelet lassabban lesz elvégezhető rajtuk (pl. a két mátrix összeadása, kivonása, elemenkénti szorzás). Személyes tapasztalat alapján azt tanácsolnám, hogy csak akkor érdemes a tárolási sémákkal foglalkozni, amikor egy program futási ideje valóban elfogadhatatlanul hosszúra nyúlik, mindenesetre érdemes tudni ezekről a tényezőkről\n",
    "\n",
    "**Figyelem!** Alapból a numpy sorfojtonosan tárolt mátrixokat hoz létre.\n",
    "\n",
    "## Numpy alapok"
   ]
  },
  {
   "cell_type": "code",
   "execution_count": 2,
   "metadata": {},
   "outputs": [],
   "source": [
    "# csomag imortálása, a csomag elérésének lerövidítése numpy-ról np-re\n",
    "# most \"numpy.array\" helyett írhatjuk rövidebben azt, hogy \"np.array\"\n",
    "import numpy as np"
   ]
  },
  {
   "cell_type": "markdown",
   "metadata": {},
   "source": [
    "## Vektorok, mátrixok létrehozása\n",
    "\n",
    "Tenzorokat többféleképpen is létre tudunk hozni:\n",
    "- Python-ban list-ből vagy tuple-ből átkonvertálva\n",
    "- numpy beépített függvényeket használva\n",
    "    - `np.zeros`: nullákat tartalmaző tenzor létrehozása,\n",
    "    - `np.ones`: egyeseket tartalmaző tenzor létrehozása,\n",
    "    - `np.arange`, `np.linspace`: monoton módon növekvő vagy csökkenő értékű elemeket tartalmazó tenzor létrehozása,\n",
    "    - `np.empty`: üres tenzor létrehozása, memóriát lefoglal az elemek tárolására, de az elemek értékei nem meghatározottak\n",
    "- fájlból beolvasva\n",
    "\n",
    "Példa: mátrix létrehozása listából."
   ]
  },
  {
   "cell_type": "code",
   "execution_count": 3,
   "metadata": {},
   "outputs": [
    {
     "name": "stdout",
     "output_type": "stream",
     "text": [
      "[[1 2]\n",
      " [3 4]\n",
      " [5 6]] \n",
      "\n",
      " [1 3 5 2 4 6]\n"
     ]
    }
   ],
   "source": [
    "# korábbi példa mátrix létrehozása\n",
    "m1 = np.array(\n",
    "    [\n",
    "        [1, 2],\n",
    "        [3, 4],\n",
    "        [5, 6]\n",
    "    ],\n",
    "    # Fortran, azaz oszlopfolytonos tárolás alkalmazása\n",
    "    # order=\"C\" az alapbeállítás\n",
    "    order=\"F\"\n",
    ")\n",
    "\n",
    "print(\n",
    "    # mátrix kinyomtatása\n",
    "    m1, \"\\n\\n\",\n",
    "    \n",
    "    # mátrix \"kilapítása\" vagy vektorrá konvertálása, megtartva a memóriatárolás sémáját\n",
    "    m1.flatten(order=\"K\")\n",
    ")"
   ]
  },
  {
   "cell_type": "markdown",
   "metadata": {},
   "source": [
    "## Rövid kitérő: Opcionális függvény argumentumok\n",
    "\n",
    "Fentebb láttuk, hogy nem csak adott mennyiségű argumentumot adhatunk meg egy függvénynek. Egy függvénynek lehetnek opcionális argumentumai.\n",
    "\n",
    "Demonstrációs példa:"
   ]
  },
  {
   "cell_type": "code",
   "execution_count": 89,
   "metadata": {},
   "outputs": [
    {
     "name": "stdout",
     "output_type": "stream",
     "text": [
      "Got values a: 2.0 and b: 1.0\n"
     ]
    }
   ],
   "source": [
    "def fun(a, b=1.0):\n",
    "    print(\"Got values a: %s and b: %s\" % (a, b))\n",
    "\n",
    "# b értéke 1.0 lesz\n",
    "fun(2.0)"
   ]
  },
  {
   "cell_type": "code",
   "execution_count": 90,
   "metadata": {},
   "outputs": [
    {
     "name": "stdout",
     "output_type": "stream",
     "text": [
      "Got values a: 2.0 and b: 3.0\n"
     ]
    }
   ],
   "source": [
    "# \"b\" argumentum értékének megadása\n",
    "fun(2.0, 3.0)"
   ]
  },
  {
   "cell_type": "code",
   "execution_count": 91,
   "metadata": {},
   "outputs": [
    {
     "name": "stdout",
     "output_type": "stream",
     "text": [
      "Got values a: 2.0 and b: 3.0\n"
     ]
    }
   ],
   "source": [
    "# alternatív szintaxis, preferált a könnyebb olvashatóság érdekében\n",
    "fun(2.0, b=3.0)"
   ]
  },
  {
   "cell_type": "code",
   "execution_count": 92,
   "metadata": {},
   "outputs": [
    {
     "name": "stdout",
     "output_type": "stream",
     "text": [
      "Got values a: 2.0 and b: 3.0\n"
     ]
    }
   ],
   "source": [
    "# az \"a\" argumentum ugyan nem opcionális, de ugyanúgy explicit módon tudunk értéket adni neki\n",
    "fun(a=2.0, b=3.0)"
   ]
  },
  {
   "cell_type": "markdown",
   "metadata": {},
   "source": [
    "Tehát ha nem határozzuk meg a `b` argumentum értékét, a `b` változó értéke 1.0 lesz. A nem-opcionális és opcionális argumentumok száma tetszőleges."
   ]
  },
  {
   "cell_type": "markdown",
   "metadata": {},
   "source": [
    "Mátrix kinyomtatása `C` tárolási sémát alkalmazva."
   ]
  },
  {
   "cell_type": "code",
   "execution_count": 4,
   "metadata": {},
   "outputs": [
    {
     "data": {
      "text/plain": [
       "array([1, 2, 3, 4, 5, 6])"
      ]
     },
     "execution_count": 4,
     "metadata": {},
     "output_type": "execute_result"
    }
   ],
   "source": [
    "m1.flatten()"
   ]
  },
  {
   "cell_type": "markdown",
   "metadata": {},
   "source": [
    "Új mátrix létrehozása a korábbi mátrixunk másolásával, `C` tárolási sémát alkalmazva. "
   ]
  },
  {
   "cell_type": "code",
   "execution_count": 26,
   "metadata": {},
   "outputs": [],
   "source": [
    "m2 = np.array(m1, order=\"C\")"
   ]
  },
  {
   "cell_type": "code",
   "execution_count": 6,
   "metadata": {},
   "outputs": [
    {
     "data": {
      "text/plain": [
       "array([1, 2, 3, 4, 5, 6])"
      ]
     },
     "execution_count": 6,
     "metadata": {},
     "output_type": "execute_result"
    }
   ],
   "source": [
    "m2.flatten(order=\"K\")"
   ]
  },
  {
   "cell_type": "markdown",
   "metadata": {},
   "source": [
    "## Elemek indexelése, értékeinek megváltoztatása\n",
    "\n",
    "Mátrixok elemeit a `[` és `]` karakterek segítségével tudjuk elérni és megváltoztatni. *Figyelem!* A Pythonban az indexek 0-tól kezdődnek. A `:` karakter segítségével egy egész sort vagy oszlopot jelölhetünk ki."
   ]
  },
  {
   "cell_type": "code",
   "execution_count": 15,
   "metadata": {},
   "outputs": [
    {
     "data": {
      "text/plain": [
       "1"
      ]
     },
     "execution_count": 15,
     "metadata": {},
     "output_type": "execute_result"
    }
   ],
   "source": [
    "# első sor, első oszlop eleme\n",
    "m1[0,0]"
   ]
  },
  {
   "cell_type": "code",
   "execution_count": 16,
   "metadata": {},
   "outputs": [
    {
     "data": {
      "text/plain": [
       "2"
      ]
     },
     "execution_count": 16,
     "metadata": {},
     "output_type": "execute_result"
    }
   ],
   "source": [
    "# első sor, második oszlop eleme\n",
    "m1[0,1]"
   ]
  },
  {
   "cell_type": "code",
   "execution_count": 18,
   "metadata": {},
   "outputs": [
    {
     "data": {
      "text/plain": [
       "array([2, 4, 6])"
      ]
     },
     "execution_count": 18,
     "metadata": {},
     "output_type": "execute_result"
    }
   ],
   "source": [
    "# második oszlop elemei\n",
    "m1[:,1]"
   ]
  },
  {
   "cell_type": "code",
   "execution_count": 19,
   "metadata": {},
   "outputs": [
    {
     "data": {
      "text/plain": [
       "array([3, 4])"
      ]
     },
     "execution_count": 19,
     "metadata": {},
     "output_type": "execute_result"
    }
   ],
   "source": [
    "# második sor elemei\n",
    "m1[1,:]"
   ]
  },
  {
   "cell_type": "markdown",
   "metadata": {},
   "source": [
    "Mátrix elem értékének megváltoztatása."
   ]
  },
  {
   "cell_type": "code",
   "execution_count": 27,
   "metadata": {},
   "outputs": [
    {
     "data": {
      "text/plain": [
       "array([[1, 2],\n",
       "       [3, 4],\n",
       "       [5, 6]])"
      ]
     },
     "execution_count": 27,
     "metadata": {},
     "output_type": "execute_result"
    }
   ],
   "source": [
    "m2"
   ]
  },
  {
   "cell_type": "code",
   "execution_count": 28,
   "metadata": {},
   "outputs": [],
   "source": [
    "m2[0,0] = -1"
   ]
  },
  {
   "cell_type": "code",
   "execution_count": 29,
   "metadata": {},
   "outputs": [
    {
     "data": {
      "text/plain": [
       "array([[-1,  2],\n",
       "       [ 3,  4],\n",
       "       [ 5,  6]])"
      ]
     },
     "execution_count": 29,
     "metadata": {},
     "output_type": "execute_result"
    }
   ],
   "source": [
    "m2"
   ]
  },
  {
   "cell_type": "markdown",
   "metadata": {},
   "source": [
    "## Tenzor tulajdonságok\n",
    "\n",
    "ndim, shape, size, dtype, itemsize, data\n",
    "\n",
    "Minden tenzorhoz különböző más változók is tartoznak, melyek leírják a tenzor különböző tulajdonságait (attributes).\n",
    "\n",
    "Az `ndim` változó a tenzor dimenziószámát tartalmazza, az `m1` mátrix esetén ez 2:"
   ]
  },
  {
   "cell_type": "code",
   "execution_count": 7,
   "metadata": {},
   "outputs": [
    {
     "data": {
      "text/plain": [
       "2"
      ]
     },
     "execution_count": 7,
     "metadata": {},
     "output_type": "execute_result"
    }
   ],
   "source": [
    "m1.ndim"
   ]
  },
  {
   "cell_type": "markdown",
   "metadata": {},
   "source": [
    "A vektorok dimenziószáma értelemszerűen 1.\n",
    "\n",
    "A `dtype` változó az elemek tipusát jelöli. A numpy sokféle elemtípust támogat. Ezek általában a számok tárolására használt változótípusok, pl. uint{8,16,32,64} a pozitív egész számok tárolására, int{8,..,64} az egész számok tárolására, float{32,64} a lebegőpontos számok tárolására, complex{64,128} a komplex számok tárolására.\n",
    "\n",
    "Az `m1`-es mátrix egész számokat tárol ."
   ]
  },
  {
   "cell_type": "code",
   "execution_count": 8,
   "metadata": {},
   "outputs": [
    {
     "data": {
      "text/plain": [
       "dtype('int64')"
      ]
     },
     "execution_count": 8,
     "metadata": {},
     "output_type": "execute_result"
    }
   ],
   "source": [
    "m1.dtype"
   ]
  },
  {
   "cell_type": "markdown",
   "metadata": {},
   "source": [
    "Az `np.array` automatikusan a megfelelő változótípust választja ki, de mi is kijelölhetjük a használni kívánt típust. "
   ]
  },
  {
   "cell_type": "code",
   "execution_count": 9,
   "metadata": {},
   "outputs": [
    {
     "data": {
      "text/plain": [
       "array([1., 2., 3.], dtype=float32)"
      ]
     },
     "execution_count": 9,
     "metadata": {},
     "output_type": "execute_result"
    }
   ],
   "source": [
    "mfloat = np.array([1,2,3], dtype=\"float32\")\n",
    "\n",
    "# alternatív módszer\n",
    "mfloat = np.array([1,2,3], dtype=np.float32)\n",
    "\n",
    "mfloat"
   ]
  },
  {
   "cell_type": "markdown",
   "metadata": {},
   "source": [
    "A `shape` változó a tenzor <q>alakját</q> tartalmazzó számsorozat, egy tuple típusú változóban eltárolva. Vektor esetén egy elemmel rendelkezik (a vektor elemeinek száma), mátrix esetén 2-vel stb. Mátrixknál az első elem a sorok számát, a második elem az oszlopok számát tartalmazza."
   ]
  },
  {
   "cell_type": "code",
   "execution_count": 11,
   "metadata": {},
   "outputs": [
    {
     "data": {
      "text/plain": [
       "(3, 2)"
      ]
     },
     "execution_count": 11,
     "metadata": {},
     "output_type": "execute_result"
    }
   ],
   "source": [
    "m1.shape"
   ]
  },
  {
   "cell_type": "code",
   "execution_count": 12,
   "metadata": {},
   "outputs": [
    {
     "data": {
      "text/plain": [
       "3"
      ]
     },
     "execution_count": 12,
     "metadata": {},
     "output_type": "execute_result"
    }
   ],
   "source": [
    "# sorok száma\n",
    "m1.shape[0]"
   ]
  },
  {
   "cell_type": "code",
   "execution_count": 13,
   "metadata": {},
   "outputs": [
    {
     "data": {
      "text/plain": [
       "2"
      ]
     },
     "execution_count": 13,
     "metadata": {},
     "output_type": "execute_result"
    }
   ],
   "source": [
    "# oszlopok száma\n",
    "m1.shape[1]"
   ]
  },
  {
   "cell_type": "markdown",
   "metadata": {},
   "source": [
    "**Figyelem!** uint{8,16,32,64} típusú változók használatánál, nem szabad olyan műveletet elvégezni, aminek az eredménye negatív egész szám lenne. Ha egy uint típusú és 0 értékű változóból kivonunk egy számot, az eredmény nem egy negatív szám lesz, hanem egy nagyon nagy értékkel rendelkező pozitív egész szám. Lásd az alábbi példát!"
   ]
  },
  {
   "cell_type": "code",
   "execution_count": 32,
   "metadata": {},
   "outputs": [
    {
     "name": "stdout",
     "output_type": "stream",
     "text": [
      "[[1 2 3]\n",
      " [4 5 0]] \n",
      "\n",
      "\n"
     ]
    },
    {
     "data": {
      "text/plain": [
       "array([[                   1,                    2,                    3],\n",
       "       [                   4,                    5, 18446744073709551615]],\n",
       "      dtype=uint64)"
      ]
     },
     "execution_count": 32,
     "metadata": {},
     "output_type": "execute_result"
    }
   ],
   "source": [
    "a = np.array([[1, 2, 3], [4, 5, 0]], dtype=\"uint64\")\n",
    "print(a, \"\\n\\n\")\n",
    "\n",
    "# a mátrix elemeit a \"[\" és \"] karakter segítségével tudjuk indexelni.\n",
    "# az alábbi sor ugyenezt jelenti: a[1,2] = a[1,2] - 1\n",
    "a[1,2] -= 1\n",
    "\n",
    "a"
   ]
  },
  {
   "cell_type": "markdown",
   "metadata": {},
   "source": [
    "Int típusú változók esetén nincs probléma."
   ]
  },
  {
   "cell_type": "code",
   "execution_count": 33,
   "metadata": {},
   "outputs": [
    {
     "name": "stdout",
     "output_type": "stream",
     "text": [
      "[[1 2 3]\n",
      " [4 5 0]] \n",
      "\n",
      "\n"
     ]
    },
    {
     "data": {
      "text/plain": [
       "array([[ 1,  2,  3],\n",
       "       [ 4,  5, -1]])"
      ]
     },
     "execution_count": 33,
     "metadata": {},
     "output_type": "execute_result"
    }
   ],
   "source": [
    "a = np.array([[1, 2, 3], [4, 5, 0]], dtype=\"int64\")\n",
    "print(a, \"\\n\\n\")\n",
    "a[1,2] -= 1\n",
    "# a[1,2] = a[1,2] - 1\n",
    "a"
   ]
  },
  {
   "cell_type": "markdown",
   "metadata": {},
   "source": [
    "A `size` változó az összes elem számát jelöli."
   ]
  },
  {
   "cell_type": "code",
   "execution_count": 35,
   "metadata": {},
   "outputs": [
    {
     "data": {
      "text/plain": [
       "6"
      ]
     },
     "execution_count": 35,
     "metadata": {},
     "output_type": "execute_result"
    }
   ],
   "source": [
    "m1.size"
   ]
  },
  {
   "cell_type": "markdown",
   "metadata": {},
   "source": [
    "Az `itemsize` változó, egy darab elem tárolásához szükséges memóriát adja meg bájtban."
   ]
  },
  {
   "cell_type": "code",
   "execution_count": 38,
   "metadata": {},
   "outputs": [
    {
     "data": {
      "text/plain": [
       "48"
      ]
     },
     "execution_count": 38,
     "metadata": {},
     "output_type": "execute_result"
    }
   ],
   "source": [
    "# a tenzor által összesen foglalt memória bájtban\n",
    "m1.itemsize * m1.size"
   ]
  },
  {
   "cell_type": "markdown",
   "metadata": {},
   "source": [
    "## Alapvető aritmetikai műveletek\n",
    "\n",
    "Hozzunk létre egy mátrixot és egy vektort."
   ]
  },
  {
   "cell_type": "code",
   "execution_count": 37,
   "metadata": {},
   "outputs": [
    {
     "data": {
      "text/plain": [
       "array([[1, 2, 3],\n",
       "       [4, 5, 6]])"
      ]
     },
     "execution_count": 37,
     "metadata": {},
     "output_type": "execute_result"
    }
   ],
   "source": [
    "a = np.array(\n",
    "    [\n",
    "        [1, 2, 3],\n",
    "        [4, 5, 6]\n",
    "    ],\n",
    ")\n",
    "a"
   ]
  },
  {
   "cell_type": "code",
   "execution_count": 32,
   "metadata": {},
   "outputs": [
    {
     "data": {
      "text/plain": [
       "array([0., 1., 2.])"
      ]
     },
     "execution_count": 32,
     "metadata": {},
     "output_type": "execute_result"
    }
   ],
   "source": [
    "# vektor létrehozása listából list comprehension segítségével\n",
    "b = np.array([ii for ii in range(3)], dtype=\"float64\")\n",
    "b"
   ]
  },
  {
   "cell_type": "code",
   "execution_count": 65,
   "metadata": {},
   "outputs": [
    {
     "data": {
      "text/plain": [
       "(dtype('int64'), dtype('float64'))"
      ]
     },
     "execution_count": 65,
     "metadata": {},
     "output_type": "execute_result"
    }
   ],
   "source": [
    "# elemek típusa\n",
    "a.dtype, b.dtype"
   ]
  },
  {
   "cell_type": "markdown",
   "metadata": {},
   "source": [
    "Mátrix és vektor szorzása. A numpy automatikusan átkonvertálja `a` mátrix elemeit integer típusból float típussá."
   ]
  },
  {
   "cell_type": "code",
   "execution_count": 40,
   "metadata": {},
   "outputs": [
    {
     "data": {
      "text/plain": [
       "array([ 8., 17.])"
      ]
     },
     "execution_count": 40,
     "metadata": {},
     "output_type": "execute_result"
    }
   ],
   "source": [
    "c = np.dot(a, b)\n",
    "c"
   ]
  },
  {
   "cell_type": "code",
   "execution_count": 41,
   "metadata": {},
   "outputs": [
    {
     "data": {
      "text/plain": [
       "dtype('float64')"
      ]
     },
     "execution_count": 41,
     "metadata": {},
     "output_type": "execute_result"
    }
   ],
   "source": [
    "c.dtype"
   ]
  },
  {
   "cell_type": "markdown",
   "metadata": {},
   "source": [
    "Vektor skaláris szorzat, list-el is működik."
   ]
  },
  {
   "cell_type": "code",
   "execution_count": 42,
   "metadata": {},
   "outputs": [
    {
     "data": {
      "text/plain": [
       "14"
      ]
     },
     "execution_count": 42,
     "metadata": {},
     "output_type": "execute_result"
    }
   ],
   "source": [
    "np.dot([1, 2, 3], [1, 2, 3])"
   ]
  },
  {
   "cell_type": "markdown",
   "metadata": {},
   "source": [
    "Vektorszorzat. Az új vektor minden értéke nulla lesz, hiszen a vektort saját magával szoroztuk meg."
   ]
  },
  {
   "cell_type": "code",
   "execution_count": 49,
   "metadata": {},
   "outputs": [
    {
     "data": {
      "text/plain": [
       "array([0, 0, 0])"
      ]
     },
     "execution_count": 49,
     "metadata": {},
     "output_type": "execute_result"
    }
   ],
   "source": [
    "np.cross([1, 2, 3], [1, 2, 3])"
   ]
  },
  {
   "cell_type": "code",
   "execution_count": 43,
   "metadata": {},
   "outputs": [
    {
     "data": {
      "text/plain": [
       "(array([[1, 2, 3],\n",
       "        [4, 5, 6]]), array([0., 1., 2.]))"
      ]
     },
     "execution_count": 43,
     "metadata": {},
     "output_type": "execute_result"
    }
   ],
   "source": [
    "a, b"
   ]
  },
  {
   "cell_type": "markdown",
   "metadata": {},
   "source": [
    "Mátrix összeadása vektorral. <q>Hivatalosan</q> vektort nem lehet mátrixal összeadni. A numpy mégis támogatja ezt a műveletet, mivel bizonyos esetekben hasznos lehet.\n",
    "\n",
    "A művelet, sorvektor esetén, közelítőleg a következő kóddal ekvivalens \n",
    "```python\n",
    "for ii in range(a.shape[0]):\n",
    "    for jj in range(a.shape[1]):\n",
    "        a[ii, jj] = a[ii, jj] + b[jj]\n",
    "```"
   ]
  },
  {
   "cell_type": "code",
   "execution_count": 44,
   "metadata": {},
   "outputs": [
    {
     "data": {
      "text/plain": [
       "array([[1., 3., 5.],\n",
       "       [4., 6., 8.]])"
      ]
     },
     "execution_count": 44,
     "metadata": {},
     "output_type": "execute_result"
    }
   ],
   "source": [
    "c = a + b\n",
    "c"
   ]
  },
  {
   "cell_type": "code",
   "execution_count": 45,
   "metadata": {},
   "outputs": [
    {
     "data": {
      "text/plain": [
       "(array([[1],\n",
       "        [2]]), (2, 1))"
      ]
     },
     "execution_count": 45,
     "metadata": {},
     "output_type": "execute_result"
    }
   ],
   "source": [
    "d = np.array([[1], [2]])\n",
    "d, d.shape"
   ]
  },
  {
   "cell_type": "code",
   "execution_count": 52,
   "metadata": {},
   "outputs": [
    {
     "data": {
      "text/plain": [
       "array([[1, 2, 3],\n",
       "       [4, 5, 6]])"
      ]
     },
     "execution_count": 52,
     "metadata": {},
     "output_type": "execute_result"
    }
   ],
   "source": [
    "a"
   ]
  },
  {
   "cell_type": "markdown",
   "metadata": {},
   "source": [
    "Oszlopvektor esetén:\n",
    "```python\n",
    "for jj in range(a.shape[1]):\n",
    "    for ii in range(a.shape[0]):\n",
    "        a[ii, jj] = a[ii, jj] + d[jj]\n",
    "```"
   ]
  },
  {
   "cell_type": "code",
   "execution_count": 55,
   "metadata": {},
   "outputs": [
    {
     "data": {
      "text/plain": [
       "array([[2, 3, 4],\n",
       "       [6, 7, 8]])"
      ]
     },
     "execution_count": 55,
     "metadata": {},
     "output_type": "execute_result"
    }
   ],
   "source": [
    "a + d"
   ]
  },
  {
   "cell_type": "markdown",
   "metadata": {},
   "source": [
    "Egy mátrix adott sorát vagy oszlopát új változóhoz rendelhetünk. A numpy nem készít másolatot az eredeti elemekről, tehát, az új változón keresztül, a list-hez hasonlóan, az eredeti elemeket is el tudjuk érni és meg tudjuk változtatni."
   ]
  },
  {
   "cell_type": "code",
   "execution_count": 58,
   "metadata": {},
   "outputs": [
    {
     "data": {
      "text/plain": [
       "array([[1., 3., 5.],\n",
       "       [4., 6., 8.]])"
      ]
     },
     "execution_count": 58,
     "metadata": {},
     "output_type": "execute_result"
    }
   ],
   "source": [
    "c"
   ]
  },
  {
   "cell_type": "code",
   "execution_count": 59,
   "metadata": {},
   "outputs": [
    {
     "data": {
      "text/plain": [
       "array([1., 4.])"
      ]
     },
     "execution_count": 59,
     "metadata": {},
     "output_type": "execute_result"
    }
   ],
   "source": [
    "d = c[:,0]\n",
    "d"
   ]
  },
  {
   "cell_type": "code",
   "execution_count": 60,
   "metadata": {},
   "outputs": [
    {
     "data": {
      "text/plain": [
       "array([[0., 3., 5.],\n",
       "       [4., 6., 8.]])"
      ]
     },
     "execution_count": 60,
     "metadata": {},
     "output_type": "execute_result"
    }
   ],
   "source": [
    "d[0] = 0.0; c"
   ]
  },
  {
   "cell_type": "markdown",
   "metadata": {},
   "source": [
    "Ha meg szeretnénk őrizni változatlanul az eredeti elemeket, másolatot készíthetünk az eredeti sorról vagy oszlopról."
   ]
  },
  {
   "cell_type": "code",
   "execution_count": 61,
   "metadata": {},
   "outputs": [
    {
     "data": {
      "text/plain": [
       "(array([[0., 3., 5.],\n",
       "        [4., 6., 8.]]), array([0., 4.]))"
      ]
     },
     "execution_count": 61,
     "metadata": {},
     "output_type": "execute_result"
    }
   ],
   "source": [
    "d = c[:,0].copy()\n",
    "c, d"
   ]
  },
  {
   "cell_type": "markdown",
   "metadata": {},
   "source": [
    "Nem változott meg az eredeti mátrix."
   ]
  },
  {
   "cell_type": "code",
   "execution_count": 63,
   "metadata": {},
   "outputs": [
    {
     "data": {
      "text/plain": [
       "array([[0., 3., 5.],\n",
       "       [4., 6., 8.]])"
      ]
     },
     "execution_count": 63,
     "metadata": {},
     "output_type": "execute_result"
    }
   ],
   "source": [
    "d[0] = 10.0; c"
   ]
  },
  {
   "cell_type": "markdown",
   "metadata": {},
   "source": [
    "## Bool alapú indexelés (boolean indexing)"
   ]
  },
  {
   "cell_type": "code",
   "execution_count": 66,
   "metadata": {},
   "outputs": [
    {
     "data": {
      "text/plain": [
       "array([[0., 3., 5.],\n",
       "       [4., 6., 8.]])"
      ]
     },
     "execution_count": 66,
     "metadata": {},
     "output_type": "execute_result"
    }
   ],
   "source": [
    "c"
   ]
  },
  {
   "cell_type": "markdown",
   "metadata": {},
   "source": [
    "Válasszuk ki azon elemek indexeit, melyek értéke 5-nél kisebb."
   ]
  },
  {
   "cell_type": "code",
   "execution_count": 68,
   "metadata": {},
   "outputs": [
    {
     "data": {
      "text/plain": [
       "array([[ True,  True, False],\n",
       "       [ True, False, False]])"
      ]
     },
     "execution_count": 68,
     "metadata": {},
     "output_type": "execute_result"
    }
   ],
   "source": [
    "t = c < 5.0\n",
    "t"
   ]
  },
  {
   "cell_type": "code",
   "execution_count": 78,
   "metadata": {},
   "outputs": [
    {
     "data": {
      "text/plain": [
       "((2, 3), dtype('bool'))"
      ]
     },
     "execution_count": 78,
     "metadata": {},
     "output_type": "execute_result"
    }
   ],
   "source": [
    "t.shape, t.dtype"
   ]
  },
  {
   "cell_type": "markdown",
   "metadata": {},
   "source": [
    "Az eredmény egy mátrix lesz, melynek az alakja megegyezik az eredeti mátrix alakjával, elemei `bool` típusúak lesznek. Az elemek értéke igaz, `True`, ahol a feltétel teljesül (jelen esetben az elem értéke kisebb mint 5), hamis, `False`, ahol nem.\n",
    "\n",
    "Értékek kiválasztása az indexelő mátrix alapján."
   ]
  },
  {
   "cell_type": "code",
   "execution_count": 69,
   "metadata": {},
   "outputs": [
    {
     "data": {
      "text/plain": [
       "array([0., 3., 4.])"
      ]
     },
     "execution_count": 69,
     "metadata": {},
     "output_type": "execute_result"
    }
   ],
   "source": [
    "c[t]"
   ]
  },
  {
   "cell_type": "code",
   "execution_count": 70,
   "metadata": {},
   "outputs": [
    {
     "data": {
      "text/plain": [
       "array([0., 3., 4.])"
      ]
     },
     "execution_count": 70,
     "metadata": {},
     "output_type": "execute_result"
    }
   ],
   "source": [
    "# tömörebben\n",
    "c[c < 5.0]"
   ]
  },
  {
   "cell_type": "markdown",
   "metadata": {},
   "source": [
    "A bool típusú elemeket tartalmazó mátrixszal többfajta műveletet is végrehajthatunk, melyek eredménye szintén bool típusú elemeket tartalmazó mátrix lesz."
   ]
  },
  {
   "cell_type": "code",
   "execution_count": 71,
   "metadata": {},
   "outputs": [],
   "source": [
    "t1, t2 = c < 5.0, c > 2.0"
   ]
  },
  {
   "cell_type": "code",
   "execution_count": 72,
   "metadata": {},
   "outputs": [
    {
     "data": {
      "text/plain": [
       "array([[ True,  True, False],\n",
       "       [ True, False, False]])"
      ]
     },
     "execution_count": 72,
     "metadata": {},
     "output_type": "execute_result"
    }
   ],
   "source": [
    "t1"
   ]
  },
  {
   "cell_type": "code",
   "execution_count": 73,
   "metadata": {},
   "outputs": [
    {
     "data": {
      "text/plain": [
       "array([[False,  True,  True],\n",
       "       [ True,  True,  True]])"
      ]
     },
     "execution_count": 73,
     "metadata": {},
     "output_type": "execute_result"
    }
   ],
   "source": [
    "t2"
   ]
  },
  {
   "cell_type": "code",
   "execution_count": 75,
   "metadata": {},
   "outputs": [
    {
     "data": {
      "text/plain": [
       "array([[False,  True, False],\n",
       "       [ True, False, False]])"
      ]
     },
     "execution_count": 75,
     "metadata": {},
     "output_type": "execute_result"
    }
   ],
   "source": [
    "# ÉS művelet\n",
    "t1 & t2 "
   ]
  },
  {
   "cell_type": "code",
   "execution_count": 76,
   "metadata": {},
   "outputs": [
    {
     "data": {
      "text/plain": [
       "array([[ True,  True,  True],\n",
       "       [ True,  True,  True]])"
      ]
     },
     "execution_count": 76,
     "metadata": {},
     "output_type": "execute_result"
    }
   ],
   "source": [
    "# VAGY művelet\n",
    "t1 | t2 "
   ]
  },
  {
   "cell_type": "markdown",
   "metadata": {},
   "source": [
    "Elemek kiválasztása, melyek értéke kisebb mint 5 és nagyobb mint 2"
   ]
  },
  {
   "cell_type": "code",
   "execution_count": 77,
   "metadata": {},
   "outputs": [
    {
     "data": {
      "text/plain": [
       "array([3., 4.])"
      ]
     },
     "execution_count": 77,
     "metadata": {},
     "output_type": "execute_result"
    }
   ],
   "source": [
    "c[(c < 5.0) & (c > 2.0)]"
   ]
  },
  {
   "cell_type": "markdown",
   "metadata": {},
   "source": [
    "## Újraformázás (Reshaping)"
   ]
  },
  {
   "cell_type": "code",
   "execution_count": 20,
   "metadata": {},
   "outputs": [
    {
     "data": {
      "text/plain": [
       "array([[0., 3., 5.],\n",
       "       [4., 6., 8.]])"
      ]
     },
     "execution_count": 20,
     "metadata": {},
     "output_type": "execute_result"
    }
   ],
   "source": [
    "c"
   ]
  },
  {
   "cell_type": "markdown",
   "metadata": {},
   "source": [
    "Matlabhoz hasonlóan a mátrixok alakját meg tudjuk változtatni az `np.reshape` függvénnyel vagy a `reshape` metódussal."
   ]
  },
  {
   "cell_type": "code",
   "execution_count": 82,
   "metadata": {},
   "outputs": [
    {
     "data": {
      "text/plain": [
       "array([[0., 3.],\n",
       "       [5., 4.],\n",
       "       [6., 8.]])"
      ]
     },
     "execution_count": 82,
     "metadata": {},
     "output_type": "execute_result"
    }
   ],
   "source": [
    "# függvénnyel\n",
    "np.reshape(c, (3,2))"
   ]
  },
  {
   "cell_type": "code",
   "execution_count": 81,
   "metadata": {},
   "outputs": [
    {
     "data": {
      "text/plain": [
       "array([[0., 3.],\n",
       "       [5., 4.],\n",
       "       [6., 8.]])"
      ]
     },
     "execution_count": 81,
     "metadata": {},
     "output_type": "execute_result"
    }
   ],
   "source": [
    "# metódussal\n",
    "c.reshape((3,2))"
   ]
  },
  {
   "cell_type": "code",
   "execution_count": 97,
   "metadata": {},
   "outputs": [
    {
     "data": {
      "text/plain": [
       "((6,), array([0., 4., 3., 6., 5., 8.]))"
      ]
     },
     "execution_count": 97,
     "metadata": {},
     "output_type": "execute_result"
    }
   ],
   "source": [
    "e = c.reshape(6, order=\"F\")\n",
    "e.shape, e"
   ]
  },
  {
   "cell_type": "markdown",
   "metadata": {},
   "source": [
    "Az `e` változó csak egy \"referencia\" (reference) vagy \"nézet\" (view) a `c` mátrix elemeire, nem egy másolat. A `base` elem segítségével elérhetjük az eredeti `c` mátrixot."
   ]
  },
  {
   "cell_type": "code",
   "execution_count": 95,
   "metadata": {},
   "outputs": [
    {
     "data": {
      "text/plain": [
       "array([[0., 3., 5.],\n",
       "       [4., 6., 8.]])"
      ]
     },
     "execution_count": 95,
     "metadata": {},
     "output_type": "execute_result"
    }
   ],
   "source": [
    "e.base"
   ]
  },
  {
   "cell_type": "markdown",
   "metadata": {},
   "source": [
    "## Összegző vagy aggregáló műveletek\n",
    "\n",
    "### Elemek összegzése (sum)"
   ]
  },
  {
   "cell_type": "code",
   "execution_count": 99,
   "metadata": {},
   "outputs": [
    {
     "data": {
      "text/plain": [
       "array([[0., 3., 5.],\n",
       "       [4., 6., 8.]])"
      ]
     },
     "execution_count": 99,
     "metadata": {},
     "output_type": "execute_result"
    }
   ],
   "source": [
    "c"
   ]
  },
  {
   "cell_type": "markdown",
   "metadata": {},
   "source": [
    "Összes elem összegzése."
   ]
  },
  {
   "cell_type": "code",
   "execution_count": 100,
   "metadata": {},
   "outputs": [
    {
     "data": {
      "text/plain": [
       "26.0"
      ]
     },
     "execution_count": 100,
     "metadata": {},
     "output_type": "execute_result"
    }
   ],
   "source": [
    "c.sum()"
   ]
  },
  {
   "cell_type": "markdown",
   "metadata": {},
   "source": [
    "Oszloponkénti összegzés."
   ]
  },
  {
   "cell_type": "code",
   "execution_count": 102,
   "metadata": {},
   "outputs": [
    {
     "data": {
      "text/plain": [
       "array([ 4.,  9., 13.])"
      ]
     },
     "execution_count": 102,
     "metadata": {},
     "output_type": "execute_result"
    }
   ],
   "source": [
    "c.sum(axis=0)"
   ]
  },
  {
   "cell_type": "markdown",
   "metadata": {},
   "source": [
    "Soronkénti összegzés."
   ]
  },
  {
   "cell_type": "code",
   "execution_count": 103,
   "metadata": {},
   "outputs": [
    {
     "data": {
      "text/plain": [
       "array([ 8., 18.])"
      ]
     },
     "execution_count": 103,
     "metadata": {},
     "output_type": "execute_result"
    }
   ],
   "source": [
    "c.sum(axis=1)"
   ]
  },
  {
   "cell_type": "markdown",
   "metadata": {},
   "source": [
    "Csak 5-nél nagyobb elemek értékeinek összegzése."
   ]
  },
  {
   "cell_type": "code",
   "execution_count": 104,
   "metadata": {},
   "outputs": [
    {
     "data": {
      "text/plain": [
       "14.0"
      ]
     },
     "execution_count": 104,
     "metadata": {},
     "output_type": "execute_result"
    }
   ],
   "source": [
    "c[c > 5.0].sum()"
   ]
  },
  {
   "cell_type": "markdown",
   "metadata": {},
   "source": [
    "### Átlag bagy várható érték számítása (mean)\n",
    "\n",
    "Összes elemre, oszloponként, soronként és csak 5-nél nagyobb elemekre."
   ]
  },
  {
   "cell_type": "code",
   "execution_count": 108,
   "metadata": {},
   "outputs": [
    {
     "data": {
      "text/plain": [
       "4.333333333333333"
      ]
     },
     "execution_count": 108,
     "metadata": {},
     "output_type": "execute_result"
    }
   ],
   "source": [
    "c.mean()"
   ]
  },
  {
   "cell_type": "code",
   "execution_count": 106,
   "metadata": {},
   "outputs": [
    {
     "data": {
      "text/plain": [
       "array([2. , 4.5, 6.5])"
      ]
     },
     "execution_count": 106,
     "metadata": {},
     "output_type": "execute_result"
    }
   ],
   "source": [
    "c.mean(axis=0)"
   ]
  },
  {
   "cell_type": "code",
   "execution_count": 107,
   "metadata": {},
   "outputs": [
    {
     "data": {
      "text/plain": [
       "array([2.66666667, 6.        ])"
      ]
     },
     "execution_count": 107,
     "metadata": {},
     "output_type": "execute_result"
    }
   ],
   "source": [
    "c.mean(axis=1)"
   ]
  },
  {
   "cell_type": "code",
   "execution_count": 112,
   "metadata": {},
   "outputs": [
    {
     "data": {
      "text/plain": [
       "7.0"
      ]
     },
     "execution_count": 112,
     "metadata": {},
     "output_type": "execute_result"
    }
   ],
   "source": [
    "c[c > 5.0].mean()"
   ]
  },
  {
   "cell_type": "markdown",
   "metadata": {},
   "source": [
    "### Szórás számítása (standard deviation)\n",
    "\n",
    "Összes elemre, oszloponként, soronként és csak 5-nél nagyobb elemekre."
   ]
  },
  {
   "cell_type": "code",
   "execution_count": 109,
   "metadata": {},
   "outputs": [
    {
     "data": {
      "text/plain": [
       "2.494438257849294"
      ]
     },
     "execution_count": 109,
     "metadata": {},
     "output_type": "execute_result"
    }
   ],
   "source": [
    "c.std()"
   ]
  },
  {
   "cell_type": "code",
   "execution_count": 110,
   "metadata": {},
   "outputs": [
    {
     "data": {
      "text/plain": [
       "array([2. , 1.5, 1.5])"
      ]
     },
     "execution_count": 110,
     "metadata": {},
     "output_type": "execute_result"
    }
   ],
   "source": [
    "c.std(axis=0)"
   ]
  },
  {
   "cell_type": "code",
   "execution_count": 111,
   "metadata": {},
   "outputs": [
    {
     "data": {
      "text/plain": [
       "array([2.05480467, 1.63299316])"
      ]
     },
     "execution_count": 111,
     "metadata": {},
     "output_type": "execute_result"
    }
   ],
   "source": [
    "c.std(axis=1)"
   ]
  },
  {
   "cell_type": "code",
   "execution_count": 113,
   "metadata": {},
   "outputs": [
    {
     "data": {
      "text/plain": [
       "1.0"
      ]
     },
     "execution_count": 113,
     "metadata": {},
     "output_type": "execute_result"
    }
   ],
   "source": [
    "c[c > 5.0].std()"
   ]
  },
  {
   "cell_type": "markdown",
   "metadata": {},
   "source": [
    "Minden metódus, ami elérhető mátrixokra (sum, mean, std) külön függvényként is meghívható a numpy csomagból."
   ]
  },
  {
   "cell_type": "code",
   "execution_count": 114,
   "metadata": {},
   "outputs": [
    {
     "data": {
      "text/plain": [
       "4.333333333333333"
      ]
     },
     "execution_count": 114,
     "metadata": {},
     "output_type": "execute_result"
    }
   ],
   "source": [
    "c.mean()"
   ]
  },
  {
   "cell_type": "code",
   "execution_count": 115,
   "metadata": {},
   "outputs": [
    {
     "data": {
      "text/plain": [
       "4.333333333333333"
      ]
     },
     "execution_count": 115,
     "metadata": {},
     "output_type": "execute_result"
    }
   ],
   "source": [
    "np.mean(c)"
   ]
  },
  {
   "cell_type": "code",
   "execution_count": 116,
   "metadata": {},
   "outputs": [
    {
     "data": {
      "text/plain": [
       "True"
      ]
     },
     "execution_count": 116,
     "metadata": {},
     "output_type": "execute_result"
    }
   ],
   "source": [
    "c.mean() == np.mean(c)"
   ]
  },
  {
   "cell_type": "markdown",
   "metadata": {},
   "source": [
    "## Bool típusú elemekre alkalmazható műveletek"
   ]
  },
  {
   "cell_type": "markdown",
   "metadata": {},
   "source": [
    "Az `all` függvény csak akkor tér vissza igaz értékkel, ha minden elem igaz."
   ]
  },
  {
   "cell_type": "code",
   "execution_count": 33,
   "metadata": {},
   "outputs": [
    {
     "data": {
      "text/plain": [
       "False"
      ]
     },
     "execution_count": 33,
     "metadata": {},
     "output_type": "execute_result"
    }
   ],
   "source": [
    "np.all([True, False, True])"
   ]
  },
  {
   "cell_type": "markdown",
   "metadata": {},
   "source": [
    "Az `any` függvény akkor tér vissza igaz értékkel, ha legalább egy elem igaz."
   ]
  },
  {
   "cell_type": "code",
   "execution_count": 34,
   "metadata": {},
   "outputs": [
    {
     "data": {
      "text/plain": [
       "True"
      ]
     },
     "execution_count": 34,
     "metadata": {},
     "output_type": "execute_result"
    }
   ],
   "source": [
    "np.any([True, False])"
   ]
  },
  {
   "cell_type": "markdown",
   "metadata": {},
   "source": [
    "Minden elem értéke nagyobb mint 5?"
   ]
  },
  {
   "cell_type": "code",
   "execution_count": 35,
   "metadata": {},
   "outputs": [
    {
     "data": {
      "text/plain": [
       "False"
      ]
     },
     "execution_count": 35,
     "metadata": {},
     "output_type": "execute_result"
    }
   ],
   "source": [
    "np.all(c > 5.0)"
   ]
  },
  {
   "cell_type": "markdown",
   "metadata": {},
   "source": [
    "Leglább egy elem értéek nagyobb mint 5?"
   ]
  },
  {
   "cell_type": "code",
   "execution_count": 36,
   "metadata": {},
   "outputs": [
    {
     "data": {
      "text/plain": [
       "True"
      ]
     },
     "execution_count": 36,
     "metadata": {},
     "output_type": "execute_result"
    }
   ],
   "source": [
    "np.any(c > 5.0)"
   ]
  },
  {
   "cell_type": "markdown",
   "metadata": {},
   "source": [
    "Metódusként meghívva."
   ]
  },
  {
   "cell_type": "code",
   "execution_count": 117,
   "metadata": {},
   "outputs": [
    {
     "data": {
      "text/plain": [
       "True"
      ]
     },
     "execution_count": 117,
     "metadata": {},
     "output_type": "execute_result"
    }
   ],
   "source": [
    "(c > 5.0).any()"
   ]
  },
  {
   "cell_type": "markdown",
   "metadata": {},
   "source": [
    "Természetesen a fent bemutatott függvények, metódusok tetszőlegesen sok dimenziójú tenzorokra is működnek.\n",
    "\n",
    "Végezetül a következő néhány oldalt szeretném a figyelmetekbe ajánlani:\n",
    "- Matlab és numpy összehasonlítása, fontosabb különbségek, ekvivalens függvények. [link](https://docs.scipy.org/doc/numpy/user/numpy-for-matlab-users.html)\n",
    "- Hosszabb áttikintés a Python, numpy, scipy és Matlab különbségeiről. Szintaxis, függvények. [link](https://realpython.com/matlab-vs-python/)\n",
    "- Rövidebb áttekintés az elérhető legfontosabb Python csomagokról, eltérések a Matlabtól. [link](https://medium.com/gradbunker/matlab-vs-python-for-scientific-computing-a-beginners-guide-a27f4dcbbc81)\n",
    "\n",
    "A következő fejezetben további numpy függvényekkel fogunk megismerkedni, elsősorban egyenletrendszerek megoldásával, függvényillesztéssel és az eredmények vizualizációjával."
   ]
  }
 ],
 "metadata": {
  "kernelspec": {
   "display_name": "Python 3",
   "language": "python",
   "name": "python3"
  },
  "language_info": {
   "codemirror_mode": {
    "name": "ipython",
    "version": 3
   },
   "file_extension": ".py",
   "mimetype": "text/x-python",
   "name": "python",
   "nbconvert_exporter": "python",
   "pygments_lexer": "ipython3",
   "version": "3.8.2"
  }
 },
 "nbformat": 4,
 "nbformat_minor": 2
}
