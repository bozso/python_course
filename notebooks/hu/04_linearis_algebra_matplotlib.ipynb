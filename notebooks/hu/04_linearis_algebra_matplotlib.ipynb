{
 "cells": [
  {
   "cell_type": "markdown",
   "metadata": {},
   "source": [
    "# Lineáris algebrai függvények a numpy-ban, eredmények vizualizációja (matplotlib)\n",
    "\n",
    "## Lineáris algebrai egyenletrendszer megoldása\n",
    "\n",
    "Mivel nagyon sok matematikai probléma megoldása visszavezethető lineáris egyenletrendszerek megoldására, gyakorlatilag minen tudományos programozási tartalmaz, tipikusan több, függvényt, melyek segítségével ezen egyenletrendszereket lehet megoldani.  \n",
    "\n",
    "A legyegyszerűbb egyenletrendszer alakja:\n",
    "\n",
    "$$\n",
    "    \\mathbf{A} \\mathbf{x} = \\mathbf{b}\n",
    "$$\n",
    "\n",
    "ahol,\n",
    "- $\\mathbf{A}$ egy $m \\times n$-es mátrix,\n",
    "- $\\mathbf{x}$ egy $n$ ismeretlen elemet tartalmazó vektor,\n",
    "- $\\mathbf{b}$ egy $m$ ismeret elemet tartalmazó vektor.\n",
    "\n",
    "A `linalg` a numpy egy alcsomagja, mely alapvető lineáris algebrai függvényeket tartalmaz. A csomagot elérhetjük a numpy-on keresztül is (`np.linalg`) vagy importálhatjuk külön az alábbi szintaxis segítségével:"
   ]
  },
  {
   "cell_type": "code",
   "execution_count": 1,
   "metadata": {},
   "outputs": [],
   "source": [
    "import numpy as np\n",
    "from numpy import linalg as lin, random as rng"
   ]
  },
  {
   "cell_type": "markdown",
   "metadata": {},
   "source": [
    "A következő parancs a fenti sorral ekvivalens."
   ]
  },
  {
   "cell_type": "code",
   "execution_count": 2,
   "metadata": {},
   "outputs": [],
   "source": [
    "lin, rng = np.linalg, np.random"
   ]
  },
  {
   "cell_type": "markdown",
   "metadata": {},
   "source": [
    "A `random` numpy alcsomag `randn` függvényével generáljunk egy 4 soros és 5 oszlopos mátrixot és egy 4 elemet tartalmazó sorvektort. Az `A` változó az egyenletrendszer bal oldalán található mátrix, a `b` az egyenletrendszer jobb oldalán található vektor."
   ]
  },
  {
   "cell_type": "code",
   "execution_count": 2,
   "metadata": {},
   "outputs": [
    {
     "name": "stdout",
     "output_type": "stream",
     "text": [
      "[[ 1.98509365  0.4236864  -0.14303797  2.01854026  0.92466702]\n",
      " [ 3.73327256  0.18972013  0.7993613  -0.38455537  2.16417976]\n",
      " [ 1.17508207 -1.28687141  1.72792908  2.41832974  1.62017299]\n",
      " [ 0.69591302 -0.43375939  1.7014742   2.71927093  0.60968041]] \n",
      "\n",
      " [0.10513836 0.37067451 0.29447037 0.84917699]\n"
     ]
    }
   ],
   "source": [
    "A, b = rng.randn(4, 5) + 1, rng.rand(4)\n",
    "print(A, \"\\n\\n\", b)"
   ]
  },
  {
   "cell_type": "markdown",
   "metadata": {},
   "source": [
    "A `help` függvény segítségével lehet egy adott függvény dokumentációját kinyomtatni. A lináris algebra csomag <q>igásló</q> függvénye az `lstsq` (least squares) függvény. A nevéhez híven a függvény egy adott egyenletrendszerhez kiszámolja a legkisebb négyzetes értelmeben vett legjobb megoldást.\n",
    "\n",
    "A dokumentációból kiolvasható, hogy a függvény 4 változóval tér vissza, feltéve, hogy a megoldás keresése során nem következett be hiba. Számunkra az első változó, a megoldás vektor lesz hasznos."
   ]
  },
  {
   "cell_type": "code",
   "execution_count": 6,
   "metadata": {
    "scrolled": false
   },
   "outputs": [
    {
     "name": "stdout",
     "output_type": "stream",
     "text": [
      "Help on function lstsq in module numpy.linalg:\n",
      "\n",
      "lstsq(a, b, rcond='warn')\n",
      "    Return the least-squares solution to a linear matrix equation.\n",
      "    \n",
      "    Computes the vector x that approximatively solves the equation\n",
      "    ``a @ x = b``. The equation may be under-, well-, or over-determined\n",
      "    (i.e., the number of linearly independent rows of `a` can be less than,\n",
      "    equal to, or greater than its number of linearly independent columns).\n",
      "    If `a` is square and of full rank, then `x` (but for round-off error)\n",
      "    is the \"exact\" solution of the equation. Else, `x` minimizes the\n",
      "    Euclidean 2-norm :math:`|| b - a x ||`.\n",
      "    \n",
      "    Parameters\n",
      "    ----------\n",
      "    a : (M, N) array_like\n",
      "        \"Coefficient\" matrix.\n",
      "    b : {(M,), (M, K)} array_like\n",
      "        Ordinate or \"dependent variable\" values. If `b` is two-dimensional,\n",
      "        the least-squares solution is calculated for each of the `K` columns\n",
      "        of `b`.\n",
      "    rcond : float, optional\n",
      "        Cut-off ratio for small singular values of `a`.\n",
      "        For the purposes of rank determination, singular values are treated\n",
      "        as zero if they are smaller than `rcond` times the largest singular\n",
      "        value of `a`.\n",
      "    \n",
      "        .. versionchanged:: 1.14.0\n",
      "           If not set, a FutureWarning is given. The previous default\n",
      "           of ``-1`` will use the machine precision as `rcond` parameter,\n",
      "           the new default will use the machine precision times `max(M, N)`.\n",
      "           To silence the warning and use the new default, use ``rcond=None``,\n",
      "           to keep using the old behavior, use ``rcond=-1``.\n",
      "    \n",
      "    Returns\n",
      "    -------\n",
      "    x : {(N,), (N, K)} ndarray\n",
      "        Least-squares solution. If `b` is two-dimensional,\n",
      "        the solutions are in the `K` columns of `x`.\n",
      "    residuals : {(1,), (K,), (0,)} ndarray\n",
      "        Sums of residuals; squared Euclidean 2-norm for each column in\n",
      "        ``b - a*x``.\n",
      "        If the rank of `a` is < N or M <= N, this is an empty array.\n",
      "        If `b` is 1-dimensional, this is a (1,) shape array.\n",
      "        Otherwise the shape is (K,).\n",
      "    rank : int\n",
      "        Rank of matrix `a`.\n",
      "    s : (min(M, N),) ndarray\n",
      "        Singular values of `a`.\n",
      "    \n",
      "    Raises\n",
      "    ------\n",
      "    LinAlgError\n",
      "        If computation does not converge.\n",
      "    \n",
      "    See Also\n",
      "    --------\n",
      "    scipy.linalg.lstsq : Similar function in SciPy.\n",
      "    \n",
      "    Notes\n",
      "    -----\n",
      "    If `b` is a matrix, then all array results are returned as matrices.\n",
      "    \n",
      "    Examples\n",
      "    --------\n",
      "    Fit a line, ``y = mx + c``, through some noisy data-points:\n",
      "    \n",
      "    >>> x = np.array([0, 1, 2, 3])\n",
      "    >>> y = np.array([-1, 0.2, 0.9, 2.1])\n",
      "    \n",
      "    By examining the coefficients, we see that the line should have a\n",
      "    gradient of roughly 1 and cut the y-axis at, more or less, -1.\n",
      "    \n",
      "    We can rewrite the line equation as ``y = Ap``, where ``A = [[x 1]]``\n",
      "    and ``p = [[m], [c]]``.  Now use `lstsq` to solve for `p`:\n",
      "    \n",
      "    >>> A = np.vstack([x, np.ones(len(x))]).T\n",
      "    >>> A\n",
      "    array([[ 0.,  1.],\n",
      "           [ 1.,  1.],\n",
      "           [ 2.,  1.],\n",
      "           [ 3.,  1.]])\n",
      "    \n",
      "    >>> m, c = np.linalg.lstsq(A, y, rcond=None)[0]\n",
      "    >>> m, c\n",
      "    (1.0 -0.95) # may vary\n",
      "    \n",
      "    Plot the data along with the fitted line:\n",
      "    \n",
      "    >>> import matplotlib.pyplot as plt\n",
      "    >>> _ = plt.plot(x, y, 'o', label='Original data', markersize=10)\n",
      "    >>> _ = plt.plot(x, m*x + c, 'r', label='Fitted line')\n",
      "    >>> _ = plt.legend()\n",
      "    >>> plt.show()\n",
      "\n"
     ]
    }
   ],
   "source": [
    "help(lin.lstsq)"
   ]
  },
  {
   "cell_type": "markdown",
   "metadata": {},
   "source": [
    "A `_` karakter segítségével elvethetjük a további három visszatérési értéket. A függvény figyelmeztet minket, hogy a jövőben meg fog változni a függvény argumentumainak viselkedése, számunkra ez most nem lényeges."
   ]
  },
  {
   "cell_type": "code",
   "execution_count": 3,
   "metadata": {},
   "outputs": [
    {
     "name": "stderr",
     "output_type": "stream",
     "text": [
      "/tmp/ipykernel_4563/4207263585.py:1: FutureWarning: `rcond` parameter will change to the default of machine precision times ``max(M, N)`` where M and N are the input matrix dimensions.\n",
      "To use the future default and silence this warning we advise to pass `rcond=None`, to keep using the old, explicitly pass `rcond=-1`.\n",
      "  x, res, _, _ = lin.lstsq(A, b)\n"
     ]
    }
   ],
   "source": [
    "x, res, _, _ = lin.lstsq(A, b)"
   ]
  },
  {
   "cell_type": "markdown",
   "metadata": {},
   "source": [
    "Alternatív módon a 4 visszatérési értékből kiválaszthatjuk a legelsőt. (Ha több visszatérési értékünk van, azt a Python egy tuple-ként kezeli, amit tudunk indexelni.)"
   ]
  },
  {
   "cell_type": "code",
   "execution_count": 4,
   "metadata": {},
   "outputs": [],
   "source": [
    "x = lin.lstsq(A, b, rcond=None)[0]"
   ]
  },
  {
   "cell_type": "markdown",
   "metadata": {},
   "source": [
    "A megoldás vektor értékei."
   ]
  },
  {
   "cell_type": "code",
   "execution_count": 5,
   "metadata": {},
   "outputs": [
    {
     "data": {
      "text/plain": [
       "(array([ 0.12413804,  0.37959198,  0.60552315,  0.02827044, -0.29477362]),\n",
       " array([], dtype=float64))"
      ]
     },
     "execution_count": 5,
     "metadata": {},
     "output_type": "execute_result"
    }
   ],
   "source": [
    "x, res"
   ]
  },
  {
   "cell_type": "code",
   "execution_count": 6,
   "metadata": {},
   "outputs": [
    {
     "data": {
      "text/plain": [
       "array([], dtype=float64)"
      ]
     },
     "execution_count": 6,
     "metadata": {},
     "output_type": "execute_result"
    }
   ],
   "source": [
    "res"
   ]
  },
  {
   "cell_type": "markdown",
   "metadata": {},
   "source": [
    "Az alább definiált root-mean-square függvény segítségével kiszámíthatjuk a legkisebb négyzetes értelemben vett eltérési értéket a $\\mathbf{A} \\mathbf{x} - \\mathbf{b}$ kifejezésnek.\n",
    "\n",
    "$\\mathrm{RMS}(\\mathbf{x}) = \\sqrt{\\left(\\sum_i^N x_i^2 \\right) N^{-1}}$"
   ]
  },
  {
   "cell_type": "code",
   "execution_count": 12,
   "metadata": {},
   "outputs": [],
   "source": [
    "def rms(array):\n",
    "    # gyökvonás\n",
    "    return np.sqrt(\n",
    "        # elemek négyzetreemelése és a négyzetősszeg kiszámítása\n",
    "        np.sum(array**2) /\n",
    "        # elemszámmal osztás\n",
    "        array.size\n",
    "    )"
   ]
  },
  {
   "cell_type": "code",
   "execution_count": 7,
   "metadata": {},
   "outputs": [
    {
     "data": {
      "text/plain": [
       "array([0.32425046, 0.60883045, 0.54265124, 0.921508  ])"
      ]
     },
     "execution_count": 7,
     "metadata": {},
     "output_type": "execute_result"
    }
   ],
   "source": [
    "np.sqrt(b)"
   ]
  },
  {
   "cell_type": "code",
   "execution_count": 8,
   "metadata": {},
   "outputs": [
    {
     "data": {
      "text/plain": [
       "6.25"
      ]
     },
     "execution_count": 8,
     "metadata": {},
     "output_type": "execute_result"
    }
   ],
   "source": [
    "2.5**2"
   ]
  },
  {
   "cell_type": "code",
   "execution_count": 9,
   "metadata": {},
   "outputs": [
    {
     "data": {
      "text/plain": [
       "array([0.01105407, 0.13739959, 0.0867128 , 0.72110155])"
      ]
     },
     "execution_count": 9,
     "metadata": {},
     "output_type": "execute_result"
    }
   ],
   "source": [
    "b**2"
   ]
  },
  {
   "cell_type": "markdown",
   "metadata": {},
   "source": [
    "Az `@` operátor segítségével tudjuk az $\\mathbf{A}$ mátrixot és a $\\mathbf{x}$ vektort összeszorozni.\n",
    "\n",
    "Láthatjuk, hogy az RMS érték, elényészően kicsi, tehát az egyenletrendszer megoldása sikeres volt."
   ]
  },
  {
   "cell_type": "code",
   "execution_count": 12,
   "metadata": {},
   "outputs": [
    {
     "data": {
      "text/plain": [
       "(array([0.90150371, 0.53462921, 0.59378221, 0.57631652]),\n",
       " array([0.90150371, 0.53462921, 0.59378221, 0.57631652]))"
      ]
     },
     "execution_count": 12,
     "metadata": {},
     "output_type": "execute_result"
    }
   ],
   "source": [
    "np.dot(A, x), A @ x"
   ]
  },
  {
   "cell_type": "code",
   "execution_count": 13,
   "metadata": {},
   "outputs": [
    {
     "data": {
      "text/plain": [
       "4.627779271052808e-16"
      ]
     },
     "execution_count": 13,
     "metadata": {},
     "output_type": "execute_result"
    }
   ],
   "source": [
    "rms((A @ x - b))"
   ]
  },
  {
   "cell_type": "code",
   "execution_count": 17,
   "metadata": {},
   "outputs": [],
   "source": [
    "def try_params(params):\n",
    "    for p in params:\n",
    "        A = calc(p)\n",
    "        try:\n",
    "            x, res, _, _ = lin.lstsq(A, b)\n",
    "            return x, res, p\n",
    "        except lin.LinAlgError:\n",
    "            continue"
   ]
  },
  {
   "cell_type": "markdown",
   "metadata": {},
   "source": [
    "## Polinomillesztés, bevezetés a matplotlib-be\n",
    "\n",
    "A fenti példán keresztül láttuk, hogyan lehet lineáris egyenletrendszert megoldani a numpy segítségével. Az egyenletrndszer együtthatóit random módon generáltuk, a kapott megoldásnak nem volt <q>fizikai</q> értelme.\n",
    "\n",
    "Most nézzünk meg egy <q>klasszkus</q> példát, ahol a megoldás vektor elemei értelmezhetőek. Illesszünk adatokra egy polinomot.\n",
    "\n",
    "A polinom alakja legyen a következő:\n",
    "\n",
    "$$\n",
    "    p(x,\\mathbf{a}) = \\sum_{i=0}^n a_i x^i\n",
    "$$\n",
    "\n",
    "ahol $a$ az együtthatók vektora, $n$ a polinom foka. $m$ darab $(x_j, y_j)$ koordinátapár áll rendelkezésünkre, $j \\in [1,m]$. A koordinátapárokra szeretnénk polinomot illeszteni, ehhez legkisebb négyzetes értelemben minimalizáljuk a \n",
    "\n",
    "$$\n",
    "    \\left(\\sum_{j=1}^m [p(x_j, \\mathbf{a}) - y_j]^2\\right)^{1/2}\n",
    "$$\n",
    "\n",
    "kifejezés értékét."
   ]
  },
  {
   "cell_type": "markdown",
   "metadata": {},
   "source": [
    "\n",
    "A legkisebb négyzetek módszerét alkalmazva, itt nem részletezve a számításokkal, a következő egyenletrendszerre jutunk:\n",
    "\n",
    "$$\n",
    "    A_{i,j} a_j = y_i\n",
    "$$\n",
    "\n",
    "ahol,\n",
    "$$\n",
    "    A_{i,j} = \\frac{\\partial p(x_i,\\mathbf{a})}{\\partial a_j} = x_i^j.\n",
    "$$\n",
    "\n",
    "Kifejtve:\n",
    "$$\n",
    "    \\mathbf{A} =\n",
    "    \\begin{bmatrix}\n",
    "        1 & x_1 & x_1^2 & \\dots & x_1^{n-1} \\\\\n",
    "        1 & x_2 & x_2^2 & \\dots & x_2^{n-1} \\\\\n",
    "        \\vdots & \\vdots & \\vdots & \\ddots & \\vdots \\\\\n",
    "        1 & x_m & x_m^2 & \\dots & x_m^{n-1}\n",
    "    \\end{bmatrix}\n",
    "$$\n",
    "\n",
    "$$\n",
    "    \\mathbf{a} = \n",
    "    \\begin{bmatrix}\n",
    "        a_0 \\\\\n",
    "        a_1 \\\\\n",
    "        \\vdots \\\\\n",
    "        a_n\n",
    "    \\end{bmatrix}\n",
    "$$\n",
    "\n",
    "$$\n",
    "    \\mathbf{b} = \n",
    "    \\begin{bmatrix}\n",
    "        y_1 \\\\\n",
    "        y_2 \\\\\n",
    "        \\vdots \\\\\n",
    "        y_m\n",
    "    \\end{bmatrix}\n",
    "$$"
   ]
  },
  {
   "cell_type": "markdown",
   "metadata": {},
   "source": [
    "Tehát elő kell állítanunk az $\\mathbf{A}$ mátrixot az $x$ értékek segítségével, majd az egyenletrendszert megoldva megkapjuk az $\\mathbf{a}$ együtthatók értékét. Az $\\mathbf{A}$ mátrixot az irodalomban szokás alak- vagy tervmátrixnak (design matrix) nevezni. Jelen esetben ez egy speciális ún. [Vandermonde-mátrix](https://en.wikipedia.org/wiki/Vandermonde_matrix).\n",
    "\n",
    "Állítsunk elő teszt adatsorokat:"
   ]
  },
  {
   "cell_type": "code",
   "execution_count": 19,
   "metadata": {},
   "outputs": [],
   "source": [
    "# x értékek vektora\n",
    "x = np.linspace(0.0, 10.0, 25)\n",
    "\n",
    "# együtthatók vektora\n",
    "a = np.array([2.0, 3.5, 0.2])\n",
    "\n",
    "# y értékek vektora\n",
    "y = a[0] + a[1] * x + a[2] * x**2\n",
    "\n",
    "# zajos y értékek vektora\n",
    "y_noise = y + rng.rand(y.shape[0])"
   ]
  },
  {
   "cell_type": "code",
   "execution_count": 21,
   "metadata": {},
   "outputs": [
    {
     "data": {
      "text/plain": [
       "array([[0., 0., 0.],\n",
       "       [0., 0., 0.]])"
      ]
     },
     "execution_count": 21,
     "metadata": {},
     "output_type": "execute_result"
    }
   ],
   "source": [
    "np.zeros((2, 3))"
   ]
  },
  {
   "cell_type": "code",
   "execution_count": 20,
   "metadata": {},
   "outputs": [
    {
     "data": {
      "text/plain": [
       "array([[4.65873194e-310, 0.00000000e+000, 6.90819419e-310],\n",
       "       [4.24438873e+175, 3.44210870e+175, 6.01346930e-154]])"
      ]
     },
     "execution_count": 20,
     "metadata": {},
     "output_type": "execute_result"
    }
   ],
   "source": [
    "np.empty((2, 3))"
   ]
  },
  {
   "cell_type": "code",
   "execution_count": 23,
   "metadata": {},
   "outputs": [],
   "source": [
    "def polyfit(x, # x értékek vektora\n",
    "            y, # y értékek vektora\n",
    "            deg # illesztett polinom foka\n",
    "    ):\n",
    "    assert x.shape == y.shape\n",
    "    \n",
    "    # alakmátrix, \n",
    "    design = np.empty((x.size, deg + 1))\n",
    "    \n",
    "    # első oszlop értéke mindenhol 1.0\n",
    "    design[:,0] = 1.0\n",
    "    \n",
    "    # második oszlop értéke mindenhol az x vektor értékei\n",
    "    design[:,1] = x\n",
    "    \n",
    "    # további oszlopok értékei az x vektor elemeinek különböző hatványai\n",
    "    for ii in range(2, deg + 1):\n",
    "        design[:,ii] = x**ii\n",
    "    \n",
    "    # egyenletrendszer megoldása\n",
    "    return lin.lstsq(design, y, rcond=None)[0]"
   ]
  },
  {
   "cell_type": "code",
   "execution_count": 22,
   "metadata": {},
   "outputs": [
    {
     "ename": "AssertionError",
     "evalue": "",
     "output_type": "error",
     "traceback": [
      "\u001b[0;31m---------------------------------------------------------------------------\u001b[0m",
      "\u001b[0;31mAssertionError\u001b[0m                            Traceback (most recent call last)",
      "Input \u001b[0;32mIn [22]\u001b[0m, in \u001b[0;36m<cell line: 5>\u001b[0;34m()\u001b[0m\n\u001b[1;32m      2\u001b[0m     \u001b[38;5;28;01massert\u001b[39;00m a \u001b[38;5;241m<\u001b[39m \u001b[38;5;241m5\u001b[39m\n\u001b[1;32m      4\u001b[0m assert_lt_5(\u001b[38;5;241m3\u001b[39m)\n\u001b[0;32m----> 5\u001b[0m \u001b[43massert_lt_5\u001b[49m\u001b[43m(\u001b[49m\u001b[38;5;241;43m10\u001b[39;49m\u001b[43m)\u001b[49m\n",
      "Input \u001b[0;32mIn [22]\u001b[0m, in \u001b[0;36massert_lt_5\u001b[0;34m(a)\u001b[0m\n\u001b[1;32m      1\u001b[0m \u001b[38;5;28;01mdef\u001b[39;00m \u001b[38;5;21massert_lt_5\u001b[39m(a):\n\u001b[0;32m----> 2\u001b[0m     \u001b[38;5;28;01massert\u001b[39;00m a \u001b[38;5;241m<\u001b[39m \u001b[38;5;241m5\u001b[39m\n",
      "\u001b[0;31mAssertionError\u001b[0m: "
     ]
    }
   ],
   "source": [
    "def assert_lt_5(a):\n",
    "    assert a < 5\n",
    "\n",
    "assert_lt_5(3)\n",
    "assert_lt_5(10)"
   ]
  },
  {
   "cell_type": "markdown",
   "metadata": {},
   "source": [
    "Függvény próbája."
   ]
  },
  {
   "cell_type": "code",
   "execution_count": 24,
   "metadata": {},
   "outputs": [
    {
     "data": {
      "text/plain": [
       "(array([2. , 3.5, 0.2]), array([2. , 3.5, 0.2]))"
      ]
     },
     "execution_count": 24,
     "metadata": {},
     "output_type": "execute_result"
    }
   ],
   "source": [
    "p = polyfit(x, y, 2)\n",
    "p, a"
   ]
  },
  {
   "cell_type": "markdown",
   "metadata": {},
   "source": [
    "A kapott `p` vektor tartalmazza a polinom együtthatók értékei. Látjuk, hogy a zaj nélküli adatok esetén visszakapjuk az eredeti együtthatókat."
   ]
  },
  {
   "cell_type": "code",
   "execution_count": 25,
   "metadata": {},
   "outputs": [
    {
     "data": {
      "text/plain": [
       "(array([2.5419831 , 3.45858535, 0.20458282]), array([2. , 3.5, 0.2]))"
      ]
     },
     "execution_count": 25,
     "metadata": {},
     "output_type": "execute_result"
    }
   ],
   "source": [
    "p = polyfit(x, y_noise, 2)\n",
    "p, a"
   ]
  },
  {
   "cell_type": "markdown",
   "metadata": {},
   "source": [
    "Zajos adatokaesetén természetesen nem kapjuk vissza tőkéletesen az eredeti értékeket."
   ]
  },
  {
   "cell_type": "code",
   "execution_count": 26,
   "metadata": {},
   "outputs": [
    {
     "data": {
      "text/plain": [
       "0.3138374602628475"
      ]
     },
     "execution_count": 26,
     "metadata": {},
     "output_type": "execute_result"
    }
   ],
   "source": [
    "rms(p - a)"
   ]
  },
  {
   "cell_type": "markdown",
   "metadata": {},
   "source": [
    "A különbségek RMS értéke nem elhanyagolhatóak, de továbbra is kicsik.\n",
    "\n",
    "## Rövid kitérő: indexelés Pythonban, numpy-ban\n",
    "\n",
    "Matlabtól eltérően a Python-ban az indexek 0-tól kezdődnek. Matlabhoz hasonlóan a Pythonban is lehetséges tőbb elem kiválasztása:\n",
    "\n",
    "Első elemet kivéve minden elem kiválasztása. "
   ]
  },
  {
   "cell_type": "code",
   "execution_count": 27,
   "metadata": {},
   "outputs": [
    {
     "data": {
      "text/plain": [
       "array([2.5419831 , 3.45858535, 0.20458282])"
      ]
     },
     "execution_count": 27,
     "metadata": {},
     "output_type": "execute_result"
    }
   ],
   "source": [
    "p"
   ]
  },
  {
   "cell_type": "code",
   "execution_count": 28,
   "metadata": {},
   "outputs": [
    {
     "data": {
      "text/plain": [
       "array([3.45858535, 0.20458282])"
      ]
     },
     "execution_count": 28,
     "metadata": {},
     "output_type": "execute_result"
    }
   ],
   "source": [
    "p[1:]"
   ]
  },
  {
   "cell_type": "markdown",
   "metadata": {},
   "source": [
    "A második elemtől a harmadik elemig (a harmadik elem nem kerül kiválasztásra) minden elem kiválasztása. Jelen esetben ez csak a második elem lesz."
   ]
  },
  {
   "cell_type": "code",
   "execution_count": 29,
   "metadata": {},
   "outputs": [
    {
     "data": {
      "text/plain": [
       "array([3.45858535])"
      ]
     },
     "execution_count": 29,
     "metadata": {},
     "output_type": "execute_result"
    }
   ],
   "source": [
    "p[1:2]"
   ]
  },
  {
   "cell_type": "markdown",
   "metadata": {},
   "source": [
    "Harmadik elemtől az első elemig az elemek kiválasztása, fordított sorrendben (2. és 1. elemet kapjuk meg; `-1` jelzi, hogy visszafele lépünk egyesével)."
   ]
  },
  {
   "cell_type": "code",
   "execution_count": 30,
   "metadata": {},
   "outputs": [
    {
     "data": {
      "text/plain": [
       "array([0.20458282, 3.45858535])"
      ]
     },
     "execution_count": 30,
     "metadata": {},
     "output_type": "execute_result"
    }
   ],
   "source": [
    "p[2:0:-1]"
   ]
  },
  {
   "cell_type": "markdown",
   "metadata": {},
   "source": [
    "Minden második elem kiválasztása (0. és 2. elemet kapjuk meg; `2` jelzi, hogy kettesével lépünk)."
   ]
  },
  {
   "cell_type": "code",
   "execution_count": 24,
   "metadata": {},
   "outputs": [
    {
     "data": {
      "text/plain": [
       "array([2.69339634, 0.20700833])"
      ]
     },
     "execution_count": 24,
     "metadata": {},
     "output_type": "execute_result"
    }
   ],
   "source": [
    "p[::2]"
   ]
  },
  {
   "cell_type": "markdown",
   "metadata": {},
   "source": [
    "Összes elem kiválasztása fordított sorrendben."
   ]
  },
  {
   "cell_type": "code",
   "execution_count": 31,
   "metadata": {},
   "outputs": [
    {
     "data": {
      "text/plain": [
       "array([2.5419831 , 3.45858535, 0.20458282])"
      ]
     },
     "execution_count": 31,
     "metadata": {},
     "output_type": "execute_result"
    }
   ],
   "source": [
    "p"
   ]
  },
  {
   "cell_type": "code",
   "execution_count": 32,
   "metadata": {},
   "outputs": [
    {
     "data": {
      "text/plain": [
       "array([0.20458282, 3.45858535, 2.5419831 ])"
      ]
     },
     "execution_count": 32,
     "metadata": {},
     "output_type": "execute_result"
    }
   ],
   "source": [
    "p[::-1]"
   ]
  },
  {
   "cell_type": "markdown",
   "metadata": {},
   "source": [
    "A polinom kiértékeléséhez felhasználhatjuk a numpy `polyval` függvényét. A függvény első argumentuma a polinom együtthatók vektora, a második argumentum az `x` értékek vektora, ahol a polinomot szeretnénk kiértékelni. **Figyelem:** a polinom együtthatókat fordított sorrendben (legnagyobb hatvány együtthatótól a legkisebb hatvány együtthatójáig) kell megadnunk.\n",
    "\n",
    "Zajos adatosrra illesztett polinom együtthatókkal kiértékelt $y$ értékek és RMS eltérése az eredeti értékektől."
   ]
  },
  {
   "cell_type": "code",
   "execution_count": 33,
   "metadata": {},
   "outputs": [
    {
     "data": {
      "text/plain": [
       "0.4924179879882755"
      ]
     },
     "execution_count": 33,
     "metadata": {},
     "output_type": "execute_result"
    }
   ],
   "source": [
    "yy = np.polyval(p[::-1], x)\n",
    "\n",
    "rms(yy - y)"
   ]
  },
  {
   "cell_type": "code",
   "execution_count": 34,
   "metadata": {},
   "outputs": [
    {
     "data": {
      "text/plain": [
       "array([ 2.        ,  3.49305556,  5.05555556,  6.6875    ,  8.38888889,\n",
       "       10.15972222, 12.        , 13.90972222, 15.88888889, 17.9375    ,\n",
       "       20.05555556, 22.24305556, 24.5       , 26.82638889, 29.22222222,\n",
       "       31.6875    , 34.22222222, 36.82638889, 39.5       , 42.24305556,\n",
       "       45.05555556, 47.9375    , 50.88888889, 53.90972222, 57.        ])"
      ]
     },
     "execution_count": 34,
     "metadata": {},
     "output_type": "execute_result"
    }
   ],
   "source": [
    "y"
   ]
  },
  {
   "cell_type": "markdown",
   "metadata": {},
   "source": [
    "## Eredmények vizualizációja, matplotlib bevezető\n",
    "\n",
    "A kapott polinomot kirajzolhatjuk `matplotlib` csomag segítségével. A csomagot úgy írták meg, hogy a függvények nevei és viselkedése hasonlítson a Matlabban megszokott rajzolási függvények neveihez és viselkedéséhez."
   ]
  },
  {
   "cell_type": "code",
   "execution_count": 35,
   "metadata": {},
   "outputs": [],
   "source": [
    "# plot csomag importálása\n",
    "import matplotlib.pyplot as plt\n",
    "\n",
    "# parancs, mellyel a notebook-ba közvetlenül rajzolhatjuk\n",
    "# régebbi ipython verziónál szükséges lehet\n",
    "# %matplotlib inline"
   ]
  },
  {
   "cell_type": "code",
   "execution_count": 36,
   "metadata": {},
   "outputs": [
    {
     "data": {
      "image/png": "[encoded data removed]",
      "text/plain": [
       "<Figure size 450x450 with 1 Axes>"
      ]
     },
     "metadata": {
      "needs_background": "light"
     },
     "output_type": "display_data"
    }
   ],
   "source": [
    "# üres ábra létrehozása\n",
    "f = plt.figure(\n",
    "    # ábra mérete inch-ben\n",
    "    figsize=(3, 3),\n",
    "    # dpi felbontása\n",
    "    dpi=150\n",
    ")\n",
    "\n",
    "# zajos adatok kirajzolása csillag szimbólumokkal\n",
    "plt.plot(x, y_noise, \"*\", label=\"Data\")\n",
    "\n",
    "# illesztett polinom kirajzolása folytonos vonallal\n",
    "plt.plot(x, yy, \"-\", label=\"Fit\")\n",
    "\n",
    "# jelmagyarázat hozzáadása\n",
    "plt.legend()\n",
    "\n",
    "# tengelyek feliratozása\n",
    "plt.xlabel(\"x\")\n",
    "plt.ylabel(\"y\")\n",
    "\n",
    "# ábra kimentése png fájlba, más formátumok is támogatottak\n",
    "f.savefig(\"assets/fit.png\")"
   ]
  },
  {
   "cell_type": "markdown",
   "metadata": {},
   "source": [
    "\"Változó\" vagy objektum orientált módon törtánő létrehozása az ábrának."
   ]
  },
  {
   "cell_type": "code",
   "execution_count": 37,
   "metadata": {},
   "outputs": [
    {
     "data": {
      "image/png": "[encoded data removed]",
      "text/plain": [
       "<Figure size 450x450 with 1 Axes>"
      ]
     },
     "metadata": {
      "needs_background": "light"
     },
     "output_type": "display_data"
    }
   ],
   "source": [
    "f, ax = plt.subplots(\n",
    "    # ábra mérete inch-ben\n",
    "    figsize=(3, 3),\n",
    "    # dpi felbontása\n",
    "    dpi=150\n",
    ")\n",
    "\n",
    "# zajos adatok kirajzolása csillag szimbólumokkal\n",
    "ax.plot(x, y_noise, \"*\", label=\"Data\")\n",
    "\n",
    "# illesztett polinom kirajzolása folytonos vonallal\n",
    "ax.plot(x, yy, \"-\", label=\"Fit\")\n",
    "\n",
    "# jelmagyarázat hozzáadása\n",
    "ax.legend()\n",
    "\n",
    "# tengelyek feliratozása\n",
    "ax.set_xlabel(\"x\")\n",
    "ax.set_ylabel(\"y\");"
   ]
  },
  {
   "cell_type": "code",
   "execution_count": 38,
   "metadata": {},
   "outputs": [
    {
     "data": {
      "image/png": "[encoded data removed]",
      "text/plain": [
       "<Figure size 450x450 with 2 Axes>"
      ]
     },
     "metadata": {
      "needs_background": "light"
     },
     "output_type": "display_data"
    }
   ],
   "source": [
    "f, (one, two) = plt.subplots(\n",
    "    # ábra mérete inch-ben\n",
    "    figsize=(3, 3),\n",
    "    # dpi felbontása\n",
    "    dpi=150,\n",
    "    ncols=2,\n",
    "    nrows=1,\n",
    "    sharex=True,\n",
    "    sharey=True\n",
    ")\n",
    "\n",
    "# zajos adatok kirajzolása csillag szimbólumokkal\n",
    "one.plot(x, y_noise, \"*\")\n",
    "\n",
    "# illesztett polinom kirajzolása folytonos vonallal\n",
    "two.plot(x, yy, \"-\")\n",
    "\n",
    "# tengelyek feliratozása\n",
    "# ax.set_xlabel(\"x\")\n",
    "one.set_ylabel(\"y\");\n",
    "one.set_xlabel(\"x\");\n",
    "two.set_xlabel(\"x\");\n",
    "f.savefig(\"assets/fit_two.svg\")"
   ]
  },
  {
   "cell_type": "markdown",
   "metadata": {},
   "source": [
    "Látható, hogy a polinomunk jól illeszkedik a zajos adatsorra, az illesztés sikeres volt.\n",
    "\n",
    "A következő fejezetben a scipy csomag néhány függvényével ismerkedünk meg."
   ]
  }
 ],
 "metadata": {
  "kernelspec": {
   "display_name": "Python 3 (ipykernel)",
   "language": "python",
   "name": "python3"
  },
  "language_info": {
   "codemirror_mode": {
    "name": "ipython",
    "version": 3
   },
   "file_extension": ".py",
   "mimetype": "text/x-python",
   "name": "python",
   "nbconvert_exporter": "python",
   "pygments_lexer": "ipython3",
   "version": "3.9.12"
  }
 },
 "nbformat": 4,
 "nbformat_minor": 2
}
