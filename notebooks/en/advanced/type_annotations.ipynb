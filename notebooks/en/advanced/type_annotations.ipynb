{
 "cells": [
  {
   "cell_type": "markdown",
   "metadata": {},
   "source": [
    "# Type Annotations in Python\n",
    "\n",
    "## Introduction\n",
    "\n",
    "Many people find scripting languages attractive because they enable fast prototyping of new code and quick development of extensive programs. It is certainly the case that simply calling the intepreter to execute the code in our source files is much easier and gives better feedback than calling makefiles and compilers and sorting through error messages. "
   ]
  },
  {
   "cell_type": "markdown",
   "metadata": {},
   "source": [
    "## *Intermission*: Build systems and compilers\n",
    "\n",
    "Luckily much progress have been made on this front. In most cases there is no need to manually write makefiles, figure out appropiate compiler flags, and list the source files of your project, since many new build systems and programs have been developed to do just that.\n",
    "\n",
    "For \"older\" languages like C, and C++, check out:\n",
    "- [CMake](https://cmake.org/)\n",
    "- [build2](https://build2.org/)\n",
    "- [Conan](https://conan.io/) (this is more of a package manager and build orchestrator)\n",
    "- [xmake](https://xmake.io/)\n",
    "- [premake](https://premake.github.io/)\n",
    "\n",
    "Of course this diversity raises some more problems. How do we integrate packages with different build systems with each other? What happens if a user cannot install the build system we are using to develop our project (e.g. it is not available on Windows)? This problem can be helped with using containers, and images like the ones provided by [Docker](https://docker.com), but that is another topic entirely.\n",
    "\n",
    "Newer compiled languages like [Go](https://golang.org/), and [Rust](https://www.rust-lang.org/) ship with their own build automation and package management solutions, so there is no need to use some third-party software for that.\n",
    "\n",
    "## *Intermission* over"
   ]
  },
  {
   "cell_type": "markdown",
   "metadata": {},
   "source": [
    "Quick development is also helped by the lack of static typing. Most scripting languages, including Python, are dynamically typed. This does not mean that there are absolutely no types inside the langauge, but that type information of a variable is only available at runtime, not at compile time (the Python interpreter generates bytecode files that live in the `__pycache__` directories, this allows to omit the parsing of a source file if its contents are not changes, so we can still associate some kind of compilation step to the language).\n",
    "\n",
    "It is possible to check for type information in runtime like so:"
   ]
  },
  {
   "cell_type": "code",
   "execution_count": 1,
   "metadata": {},
   "outputs": [
    {
     "name": "stdout",
     "output_type": "stream",
     "text": [
      "123appended_text\n"
     ]
    },
    {
     "ename": "AssertionError",
     "evalue": "",
     "output_type": "error",
     "traceback": [
      "\u001b[0;31m---------------------------------------------------------------------------\u001b[0m",
      "\u001b[0;31mAssertionError\u001b[0m                            Traceback (most recent call last)",
      "\u001b[0;32m<ipython-input-1-260986c33d04>\u001b[0m in \u001b[0;36m<module>\u001b[0;34m\u001b[0m\n\u001b[1;32m      4\u001b[0m \u001b[0;34m\u001b[0m\u001b[0m\n\u001b[1;32m      5\u001b[0m \u001b[0mprint\u001b[0m\u001b[0;34m(\u001b[0m\u001b[0mappend_to_string\u001b[0m\u001b[0;34m(\u001b[0m\u001b[0;34m\"123\"\u001b[0m\u001b[0;34m)\u001b[0m\u001b[0;34m)\u001b[0m\u001b[0;34m\u001b[0m\u001b[0;34m\u001b[0m\u001b[0m\n\u001b[0;32m----> 6\u001b[0;31m \u001b[0mappend_to_string\u001b[0m\u001b[0;34m(\u001b[0m\u001b[0;36m1.0\u001b[0m\u001b[0;34m)\u001b[0m\u001b[0;34m\u001b[0m\u001b[0;34m\u001b[0m\u001b[0m\n\u001b[0m",
      "\u001b[0;32m<ipython-input-1-260986c33d04>\u001b[0m in \u001b[0;36mappend_to_string\u001b[0;34m(text)\u001b[0m\n\u001b[1;32m      1\u001b[0m \u001b[0;32mdef\u001b[0m \u001b[0mappend_to_string\u001b[0m\u001b[0;34m(\u001b[0m\u001b[0mtext\u001b[0m\u001b[0;34m)\u001b[0m\u001b[0;34m:\u001b[0m\u001b[0;34m\u001b[0m\u001b[0;34m\u001b[0m\u001b[0m\n\u001b[0;32m----> 2\u001b[0;31m     \u001b[0;32massert\u001b[0m\u001b[0;34m(\u001b[0m\u001b[0misinstance\u001b[0m\u001b[0;34m(\u001b[0m\u001b[0mtext\u001b[0m\u001b[0;34m,\u001b[0m \u001b[0mstr\u001b[0m\u001b[0;34m)\u001b[0m\u001b[0;34m)\u001b[0m\u001b[0;34m\u001b[0m\u001b[0;34m\u001b[0m\u001b[0m\n\u001b[0m\u001b[1;32m      3\u001b[0m     \u001b[0;32mreturn\u001b[0m \u001b[0mtext\u001b[0m \u001b[0;34m+\u001b[0m \u001b[0;34m\"appended_text\"\u001b[0m\u001b[0;34m\u001b[0m\u001b[0;34m\u001b[0m\u001b[0m\n\u001b[1;32m      4\u001b[0m \u001b[0;34m\u001b[0m\u001b[0m\n\u001b[1;32m      5\u001b[0m \u001b[0mprint\u001b[0m\u001b[0;34m(\u001b[0m\u001b[0mappend_to_string\u001b[0m\u001b[0;34m(\u001b[0m\u001b[0;34m\"123\"\u001b[0m\u001b[0;34m)\u001b[0m\u001b[0;34m)\u001b[0m\u001b[0;34m\u001b[0m\u001b[0;34m\u001b[0m\u001b[0m\n",
      "\u001b[0;31mAssertionError\u001b[0m: "
     ]
    }
   ],
   "source": [
    "def append_to_string(text):\n",
    "    assert(isinstance(text, str))\n",
    "    return text + \"appended_text\"\n",
    "\n",
    "print(append_to_string(\"123\"))\n",
    "append_to_string(1.0)\n"
   ]
  },
  {
   "cell_type": "markdown",
   "metadata": {},
   "source": [
    "But this is not considered idiomatic Python and is not feasible in the long term, since the developer has to insert these type assertions everywhere in the code.\n",
    "\n",
    "One might think that this is not a problem since the language was designed to be dynamically typed and there is no need for type checking since bugs and variables of the wrong types will be discovered while using the program. Before responding to this let me mention one more thing."
   ]
  },
  {
   "cell_type": "markdown",
   "metadata": {},
   "source": [
    "## *Intermission*: \"Old\" statically typed languages\n",
    "\n",
    "Usually people had a bad experience with statically typed and compiled languages like C, C++, and Fortran. (e.g. strange and long compiler messages, long compile times, frustrating debugging sessions). Because of these experiences they consider a type system a burden and nuisance instead of helping hand. I cannot really blame them. Take a look at the example below written in C++:"
   ]
  },
  {
   "cell_type": "markdown",
   "metadata": {},
   "source": [
    "```c++\n",
    "vector<int> v = {1, 2, 3};\n",
    "for (vector<int>::iterator i = v.begin(); i != v.end(); ++i) {\n",
    "   // ... use *i ...\n",
    "}\n",
    "```"
   ]
  },
  {
   "cell_type": "markdown",
   "metadata": {},
   "source": [
    "Here we iterate over the elements of variable `v`. Let's look at the same example in Python:"
   ]
  },
  {
   "cell_type": "markdown",
   "metadata": {},
   "source": [
    "```python\n",
    "v = [1, 2, 3]\n",
    "\n",
    "for elem in v:\n",
    "    # use elem\n",
    "```"
   ]
  },
  {
   "cell_type": "markdown",
   "metadata": {},
   "source": [
    "This is much more clear and readable. Two things to mention here:\n",
    "\n",
    "1. Compiled languages have come a long way, so the same `for` loop written in modern C++ is almost as clear as the one written in Python.\n",
    "2. The type annotations I will touch upon are much lighter than then type system of \"old\" C++.\n",
    "\n",
    "This was just an example of how bad experiences with older compiled languages could leave a sour taste regarding statically enforced types.\n",
    "\n",
    "## *Intermission* over"
   ]
  },
  {
   "cell_type": "markdown",
   "metadata": {},
   "source": [
    "Back to the issue at hand. Why wouldy we want to use statically checked types in Python. Many libraries have beent written without them and they seem to work fine. It seems to be te case that adding a some kind of type system to Python would be detrimental, until:\n",
    "\n",
    "- you have written a Python library with more than 500-1000 SLOC (source lines of code, the number of lines in the source files that are code, i.e. not comment or empty line)\n",
    "- try to refactor said Python library source code (i.e. rename a function, variable or change the behaviour of a code block)\n",
    "- try to figure out the arguments to a function, or the order of arguments of a function while trying to use / call said function\n",
    "\n",
    "There are a quite a few number of cases where declaring the type of your variables and function arguments, can be really useful. Indeed many cases in the documentation Python libraries the authors have refered to the type of function arguments (see the example from numpy below). Before Python 3.5 this was the only way to add type hints."
   ]
  },
  {
   "cell_type": "code",
   "execution_count": 6,
   "metadata": {
    "scrolled": true
   },
   "outputs": [
    {
     "name": "stdout",
     "output_type": "stream",
     "text": [
      "Help on function asarray in module numpy:\n",
      "\n",
      "asarray(a, dtype=None, order=None)\n",
      "    Convert the input to an array.\n",
      "    \n",
      "    Parameters\n",
      "    ----------\n",
      "    a : array_like\n",
      "        Input data, in any form that can be converted to an array.  This\n",
      "        includes lists, lists of tuples, tuples, tuples of tuples, tuples\n",
      "        of lists and ndarrays.\n",
      "    dtype : data-type, optional\n",
      "        By default, the data-type is inferred from the input data.\n",
      "    order : {'C', 'F'}, optional\n",
      "        Whether to use row-major (C-style) or\n",
      "        column-major (Fortran-style) memory representation.\n",
      "        Defaults to 'C'.\n",
      "    \n",
      "    Returns\n",
      "    -------\n",
      "    out : ndarray\n",
      "        Array interpretation of `a`.  No copy is performed if the input\n",
      "        is already an ndarray with matching dtype and order.  If `a` is a\n",
      "        subclass of ndarray, a base class ndarray is returned.\n",
      "    \n",
      "    See Also\n",
      "    --------\n",
      "    asanyarray : Similar function which passes through subclasses.\n",
      "    ascontiguousarray : Convert input to a contiguous array.\n",
      "    asfarray : Convert input to a floating point ndarray.\n",
      "    asfortranarray : Convert input to an ndarray with column-major\n",
      "                     memory order.\n",
      "    asarray_chkfinite : Similar function which checks input for NaNs and Infs.\n",
      "    fromiter : Create an array from an iterator.\n",
      "    fromfunction : Construct an array by executing a function on grid\n",
      "                   positions.\n",
      "    \n",
      "    Examples\n",
      "    --------\n",
      "    Convert a list into an array:\n",
      "    \n",
      "    >>> a = [1, 2]\n",
      "    >>> np.asarray(a)\n",
      "    array([1, 2])\n",
      "    \n",
      "    Existing arrays are not copied:\n",
      "    \n",
      "    >>> a = np.array([1, 2])\n",
      "    >>> np.asarray(a) is a\n",
      "    True\n",
      "    \n",
      "    If `dtype` is set, array is copied only if dtype does not match:\n",
      "    \n",
      "    >>> a = np.array([1, 2], dtype=np.float32)\n",
      "    >>> np.asarray(a, dtype=np.float32) is a\n",
      "    True\n",
      "    >>> np.asarray(a, dtype=np.float64) is a\n",
      "    False\n",
      "    \n",
      "    Contrary to `asanyarray`, ndarray subclasses are not passed through:\n",
      "    \n",
      "    >>> issubclass(np.recarray, np.ndarray)\n",
      "    True\n",
      "    >>> a = np.array([(1.0, 2), (3.0, 4)], dtype='f4,i4').view(np.recarray)\n",
      "    >>> np.asarray(a) is a\n",
      "    False\n",
      "    >>> np.asanyarray(a) is a\n",
      "    True\n",
      "\n"
     ]
    }
   ],
   "source": [
    "import numpy as np\n",
    "help(np.asarray)"
   ]
  },
  {
   "cell_type": "markdown",
   "metadata": {},
   "source": [
    "Python 3.5 introduced so-called [type annotations](https://www.python.org/dev/peps/pep-0484/). These annotations can be used to give hints to the user of what kind of arguments are expected to functions. I will demonstrate using the example from the start."
   ]
  },
  {
   "cell_type": "code",
   "execution_count": 7,
   "metadata": {},
   "outputs": [],
   "source": [
    "def append_to_string(text: str) -> str:\n",
    "    return text + \"appended_text\""
   ]
  },
  {
   "cell_type": "markdown",
   "metadata": {},
   "source": [
    "The expected type of the argument `text` is signified with the typename (`str` in our case) written after the colon (`:`).  Since the start of the function block is also signified by the colon character, the return type of the function can be signified by the arrow \"symbol\" (`->`) which is made up of characters `-`, and `>`.\n",
    "\n",
    "Let's try it out!"
   ]
  },
  {
   "cell_type": "code",
   "execution_count": 8,
   "metadata": {},
   "outputs": [
    {
     "data": {
      "text/plain": [
       "'abcappended_text'"
      ]
     },
     "execution_count": 8,
     "metadata": {},
     "output_type": "execute_result"
    }
   ],
   "source": [
    "append_to_string(\"abc\")"
   ]
  },
  {
   "cell_type": "code",
   "execution_count": 9,
   "metadata": {},
   "outputs": [
    {
     "ename": "TypeError",
     "evalue": "unsupported operand type(s) for +: 'float' and 'str'",
     "output_type": "error",
     "traceback": [
      "\u001b[0;31m---------------------------------------------------------------------------\u001b[0m",
      "\u001b[0;31mTypeError\u001b[0m                                 Traceback (most recent call last)",
      "\u001b[0;32m<ipython-input-9-e62f88d64d3a>\u001b[0m in \u001b[0;36m<module>\u001b[0;34m\u001b[0m\n\u001b[0;32m----> 1\u001b[0;31m \u001b[0mappend_to_string\u001b[0m\u001b[0;34m(\u001b[0m\u001b[0;36m1.0\u001b[0m\u001b[0;34m)\u001b[0m\u001b[0;34m\u001b[0m\u001b[0;34m\u001b[0m\u001b[0m\n\u001b[0m",
      "\u001b[0;32m<ipython-input-7-cc9be1024446>\u001b[0m in \u001b[0;36mappend_to_string\u001b[0;34m(text)\u001b[0m\n\u001b[1;32m      1\u001b[0m \u001b[0;32mdef\u001b[0m \u001b[0mappend_to_string\u001b[0m\u001b[0;34m(\u001b[0m\u001b[0mtext\u001b[0m\u001b[0;34m:\u001b[0m \u001b[0mstr\u001b[0m\u001b[0;34m)\u001b[0m \u001b[0;34m->\u001b[0m \u001b[0mstr\u001b[0m\u001b[0;34m:\u001b[0m\u001b[0;34m\u001b[0m\u001b[0;34m\u001b[0m\u001b[0m\n\u001b[0;32m----> 2\u001b[0;31m     \u001b[0;32mreturn\u001b[0m \u001b[0mtext\u001b[0m \u001b[0;34m+\u001b[0m \u001b[0;34m\"appended_text\"\u001b[0m\u001b[0;34m\u001b[0m\u001b[0;34m\u001b[0m\u001b[0m\n\u001b[0m",
      "\u001b[0;31mTypeError\u001b[0m: unsupported operand type(s) for +: 'float' and 'str'"
     ]
    }
   ],
   "source": [
    "append_to_string(1.0)"
   ]
  },
  {
   "cell_type": "markdown",
   "metadata": {},
   "source": [
    "It looks like we did not get any typechecks or warnings.\n",
    "\n",
    "It is important to note, that these annotations do not yield in any actual runtime or compile time type checks and also do not decrease runtime performance.\n",
    "\n",
    "So how can these help?"
   ]
  },
  {
   "cell_type": "markdown",
   "metadata": {},
   "source": [
    "First of all, types help with documenting our code and functions as they show up in the built-in Python help:"
   ]
  },
  {
   "cell_type": "code",
   "execution_count": 10,
   "metadata": {},
   "outputs": [
    {
     "name": "stdout",
     "output_type": "stream",
     "text": [
      "Help on function append_to_string in module __main__:\n",
      "\n",
      "append_to_string(text: str) -> str\n",
      "\n"
     ]
    }
   ],
   "source": [
    "help(append_to_string)"
   ]
  },
  {
   "cell_type": "markdown",
   "metadata": {},
   "source": [
    "Second, there are a couple of external tools that can use type information to check if we passed the variables with the right types to function arguments:\n",
    "\n",
    "- [mypy](http://mypy-lang.org/) is probably oldest of Python static type checkers. It works similar to a compiler, you give ot a filename and it checks for the correctness of types\n",
    "- [pyre](https://pyre-check.org/) is a relatively new tool, that is more performant than mypy and it also includes linting capabalities\n",
    "- [pyright](https://github.com/microsoft/pyright) is a type checker from Microsoft that supports both a command line and a [language server](https://langserver.org/) mode\n",
    "\n",
    "## *Intermission*: Code linting\n",
    "\n",
    "I would really recommend using some kind of linter. Not just when writing Python code, generally when writing code. A linter is a tool that checks for syntax and other kind of errors in the source code file. It can detect bad coding style, missing variables, and other gotchas.\n",
    "\n",
    "Usually they are command line programs that write their output to the terminal, but nowadays there are plenty of extensions for mainstream text editors that integrate them. This means that you do not have to jump back and forth between your text editor and command line to see the warnings given by the linter. Instead the text editor will display errors and warnings next to the relevant line.\n",
    "\n",
    "A widely used editor is [Visual Studio Code](https://code.visualstudio.com/) (note: this is different from Visual Studio, the proprietary IDE) that supports pretty much all programming languages and many Python linters.\n",
    "\n",
    "If you decide to use VS Code, consider checking out the [VSCodium](https://vscodium.com/) as an alternative. This version does not have built-in telemetry that sends your editing data to Microsoft.\n",
    "\n",
    "## *Intermission* over"
   ]
  },
  {
   "cell_type": "markdown",
   "metadata": {},
   "source": [
    "## New style classes, `dataclass` and `NamedTuple`\n",
    "\n",
    "Now that we have looked at type annotations let's see where else would they be useful. One of the most basic building blocks of programs are structures or classes. Note that a structure in C is different from a class in Python, they are completely different concepts, here I am referring to structures and classes as entities that aggregate or group together different types of variables, that usually belong together."
   ]
  },
  {
   "cell_type": "markdown",
   "metadata": {},
   "source": [
    "### Creating Python classes the hard way\n",
    "\n",
    "For many years, defining a Python class usually required a lot of biolerplate code (i.e. code that is repeated often). Let's take a look at a simple example. Below the class `MinMax` is defined. It aggregates two variables `min` and `max`."
   ]
  },
  {
   "cell_type": "code",
   "execution_count": 4,
   "metadata": {},
   "outputs": [],
   "source": [
    "class MinMax(object):\n",
    "    def __init__(self, min, max):\n",
    "        self.min, self.max = min, max\n",
    "        # sanity check that they are indeed minimum and\n",
    "        # maximum values\n",
    "        assert self.min < self.max\n",
    "    \n",
    "    # a simple function to shift both values\n",
    "    def shift(self, val):\n",
    "        self.min += val\n",
    "        self.max += val"
   ]
  },
  {
   "cell_type": "markdown",
   "metadata": {},
   "source": [
    "Let's create an instance of this class."
   ]
  },
  {
   "cell_type": "code",
   "execution_count": 5,
   "metadata": {},
   "outputs": [],
   "source": [
    "m = MinMax(min=1.0, max=2.0)"
   ]
  },
  {
   "cell_type": "markdown",
   "metadata": {},
   "source": [
    "Check out whether shitfing shifting works."
   ]
  },
  {
   "cell_type": "code",
   "execution_count": 6,
   "metadata": {},
   "outputs": [],
   "source": [
    "m.shift(5.0)"
   ]
  },
  {
   "cell_type": "markdown",
   "metadata": {},
   "source": [
    "Print the value of `m`."
   ]
  },
  {
   "cell_type": "code",
   "execution_count": 7,
   "metadata": {},
   "outputs": [
    {
     "name": "stdout",
     "output_type": "stream",
     "text": [
      "<__main__.MinMax object at 0x7fe7002b57c0>\n"
     ]
    }
   ],
   "source": [
    "print(m)"
   ]
  },
  {
   "cell_type": "markdown",
   "metadata": {},
   "source": [
    "This is not really helpful. Be default Python only prints the name of class and the pointer value that points to the memory block that houses our object.\n",
    "\n",
    "We can implement custom printing by defining a \"special\" `__str__` method."
   ]
  },
  {
   "cell_type": "code",
   "execution_count": 16,
   "metadata": {},
   "outputs": [],
   "source": [
    "class MinMax(object):\n",
    "    def __init__(self, min, max):\n",
    "        self.min, self.max = min, max\n",
    "    \n",
    "    def __str__(self):\n",
    "        return \"MinMax(min=%s, max=%s)\" % (self.min, self.max)\n",
    "    \n",
    "    def shift(self, val):\n",
    "        self.min += val\n",
    "        self.max += val"
   ]
  },
  {
   "cell_type": "code",
   "execution_count": 9,
   "metadata": {},
   "outputs": [],
   "source": [
    "m = MinMax(min=1.0, max=2.0)"
   ]
  },
  {
   "cell_type": "markdown",
   "metadata": {},
   "source": [
    "Try printing the value of `m`."
   ]
  },
  {
   "cell_type": "code",
   "execution_count": 10,
   "metadata": {},
   "outputs": [
    {
     "name": "stdout",
     "output_type": "stream",
     "text": [
      "MinMax(min=1.0, max=2.0)\n"
     ]
    }
   ],
   "source": [
    "print(m)"
   ]
  },
  {
   "cell_type": "markdown",
   "metadata": {},
   "source": [
    "It works! There is nothing exceptional about the `__str__` method defined for our class. It is the same kind of method as `shift`. The only difference is that its name starts and ends with double underscores (in short they are called \"dunder\" methods). The print function recognizes that our object has this method and uses it to format the value of it during printing."
   ]
  },
  {
   "cell_type": "code",
   "execution_count": 19,
   "metadata": {},
   "outputs": [],
   "source": [
    "m.shift(0.5)"
   ]
  },
  {
   "cell_type": "code",
   "execution_count": 20,
   "metadata": {},
   "outputs": [
    {
     "data": {
      "text/plain": [
       "MinMax(min=1.5, max=2.5)"
      ]
     },
     "execution_count": 20,
     "metadata": {},
     "output_type": "execute_result"
    }
   ],
   "source": [
    "m"
   ]
  },
  {
   "cell_type": "markdown",
   "metadata": {},
   "source": [
    "Our `shift` method works too.\n",
    "\n",
    "This has been relatively simple. But what happens if another class has more than two member fields? Than we have to implement the `__str__` method again for that class, paying attention so we do not make a mistake and forget to include one of the fields of the class.\n",
    "\n",
    "Worse, `__str__` method is not the only special method we can implement for a class. For example there is a `__eq__` special method that lets us compare instances of the class like so: `MinMax(min=1.5, max=2.5) == MinMax(min=1.5, max=2.3)`. This should evaluate to `False`.\n",
    "\n",
    "Imagine implementing all these methods for every class you define in your program or library. It is quite a boring and cumbersome task, and when a task is boring and cumbersome, not to mention repetitive, people executing these task generally make mistakes. These mistakes can be costly as implementing the method that enables comparing two objects the wrong way can cause serious problems in the program down the line.\n",
    "\n",
    "Naturally programmers do not like doing repetitive tasks, so there is a solution to this. But before we dwell into that I would like to show another problem with our class and introduce a concept."
   ]
  },
  {
   "cell_type": "markdown",
   "metadata": {},
   "source": [
    "### Mutability and immutability\n",
    "\n",
    "Lets say that we would like to use the `MinMax` class to represent where continents and oceans start and end in the horizontal dimension (i.e. an instance of `MinMax` represents the minimum and maximum `x` coordinate value of each of these components).\n",
    "\n",
    "For the sake of simplicity we will have two `MinMax` instances. One representing the `x` dimensions of a continent the other representing the ocean's extent in the `x` axis. We assume that we measure distance in kilometres."
   ]
  },
  {
   "cell_type": "markdown",
   "metadata": {},
   "source": [
    "In this example we will have a setup where the continent extends from 0 to 100 km and the ocean from 100 to 300 km."
   ]
  },
  {
   "cell_type": "code",
   "execution_count": 23,
   "metadata": {},
   "outputs": [],
   "source": [
    "continent = MinMax(min=0.0, max=100.0)\n",
    "ocean = MinMax(min=100.0, max=300.0)"
   ]
  },
  {
   "cell_type": "markdown",
   "metadata": {},
   "source": [
    "Say we want to setup another model where the continent goes from 0 to 250 km and ocean from 250 to 450 km."
   ]
  },
  {
   "cell_type": "code",
   "execution_count": 24,
   "metadata": {},
   "outputs": [],
   "source": [
    "continent2 = continent\n",
    "continent2.max = 250.0\n",
    "\n",
    "ocean2 = ocean\n",
    "ocean2.min = 250.0\n",
    "ocean2.max = 450.0"
   ]
  },
  {
   "cell_type": "markdown",
   "metadata": {},
   "source": [
    "Okay we set up the second case. Let's print the values to check whether we have the right x coordinates."
   ]
  },
  {
   "cell_type": "code",
   "execution_count": 25,
   "metadata": {},
   "outputs": [
    {
     "name": "stdout",
     "output_type": "stream",
     "text": [
      "MinMax(min=0.0, max=250.0) MinMax(min=250.0, max=450.0)\n"
     ]
    }
   ],
   "source": [
    "print(continent2, ocean2)"
   ]
  },
  {
   "cell_type": "markdown",
   "metadata": {},
   "source": [
    "This seems right. Now let's check the first case:"
   ]
  },
  {
   "cell_type": "code",
   "execution_count": 26,
   "metadata": {},
   "outputs": [
    {
     "name": "stdout",
     "output_type": "stream",
     "text": [
      "MinMax(min=0.0, max=250.0) MinMax(min=250.0, max=450.0)\n"
     ]
    }
   ],
   "source": [
    "print(continent, ocean)"
   ]
  },
  {
   "cell_type": "markdown",
   "metadata": {},
   "source": [
    "We have overwritten the values defined for our first case. This is because  when we assigned the value of `continent` to `continent2` we did not make a copy of the original value. `continent2` is just a reference to `continent` (to be precise the variable `continent` is also just a reference, you can think of it as a pointer of you come from the C world) so changing member variable values for `continent2` also changes the member variable values of `continent`. This is because `continent` is mutable. This means we can change it's member variable value and since `continent2` is just a reference to it, we do that through `continent2`.\n",
    "\n",
    "The opposite of mutable is immutable. When a variable is immutable it's value cannot be changed. In Python there are types that are mutable and other types that are mutable. The classic example is lists and tuples.\n",
    "\n",
    "The contents of a list can change:"
   ]
  },
  {
   "cell_type": "code",
   "execution_count": 11,
   "metadata": {},
   "outputs": [
    {
     "name": "stdout",
     "output_type": "stream",
     "text": [
      "Original:  [0, 2, 4]\n",
      "Changed:  [0, 2, 4.5]\n"
     ]
    }
   ],
   "source": [
    "a_list = [0, 2, 4]\n",
    "print(\"Original: \", a_list)\n",
    "a_list[2] = 4.5\n",
    "print(\"Changed: \", a_list)"
   ]
  },
  {
   "cell_type": "markdown",
   "metadata": {},
   "source": [
    "The contents of a tuple cannot change:"
   ]
  },
  {
   "cell_type": "code",
   "execution_count": 2,
   "metadata": {},
   "outputs": [
    {
     "name": "stdout",
     "output_type": "stream",
     "text": [
      "(1, 2, 3)\n"
     ]
    },
    {
     "ename": "TypeError",
     "evalue": "'tuple' object does not support item assignment",
     "output_type": "error",
     "traceback": [
      "\u001b[0;31m---------------------------------------------------------------------------\u001b[0m",
      "\u001b[0;31mTypeError\u001b[0m                                 Traceback (most recent call last)",
      "\u001b[0;32m<ipython-input-2-fa786594c5ec>\u001b[0m in \u001b[0;36m<module>\u001b[0;34m\u001b[0m\n\u001b[1;32m      1\u001b[0m \u001b[0ma_tuple\u001b[0m \u001b[0;34m=\u001b[0m \u001b[0;34m(\u001b[0m\u001b[0;36m1\u001b[0m\u001b[0;34m,\u001b[0m \u001b[0;36m2\u001b[0m\u001b[0;34m,\u001b[0m \u001b[0;36m3\u001b[0m\u001b[0;34m)\u001b[0m\u001b[0;34m\u001b[0m\u001b[0;34m\u001b[0m\u001b[0m\n\u001b[1;32m      2\u001b[0m \u001b[0mprint\u001b[0m\u001b[0;34m(\u001b[0m\u001b[0ma_tuple\u001b[0m\u001b[0;34m)\u001b[0m\u001b[0;34m\u001b[0m\u001b[0;34m\u001b[0m\u001b[0m\n\u001b[0;32m----> 3\u001b[0;31m \u001b[0ma_tuple\u001b[0m\u001b[0;34m[\u001b[0m\u001b[0;36m0\u001b[0m\u001b[0;34m]\u001b[0m \u001b[0;34m=\u001b[0m \u001b[0;36m2.0\u001b[0m\u001b[0;34m\u001b[0m\u001b[0;34m\u001b[0m\u001b[0m\n\u001b[0m",
      "\u001b[0;31mTypeError\u001b[0m: 'tuple' object does not support item assignment"
     ]
    }
   ],
   "source": [
    "a_tuple = (1, 2, 3)\n",
    "print(a_tuple)\n",
    "a_tuple[0] = 2.0"
   ]
  },
  {
   "cell_type": "markdown",
   "metadata": {},
   "source": [
    "Another example is strings:"
   ]
  },
  {
   "cell_type": "code",
   "execution_count": 3,
   "metadata": {},
   "outputs": [
    {
     "ename": "TypeError",
     "evalue": "'str' object does not support item assignment",
     "output_type": "error",
     "traceback": [
      "\u001b[0;31m---------------------------------------------------------------------------\u001b[0m",
      "\u001b[0;31mTypeError\u001b[0m                                 Traceback (most recent call last)",
      "\u001b[0;32m<ipython-input-3-6cc6883ebc94>\u001b[0m in \u001b[0;36m<module>\u001b[0;34m\u001b[0m\n\u001b[1;32m      1\u001b[0m \u001b[0ma_str\u001b[0m \u001b[0;34m=\u001b[0m \u001b[0;34m\"abc\"\u001b[0m\u001b[0;34m\u001b[0m\u001b[0;34m\u001b[0m\u001b[0m\n\u001b[0;32m----> 2\u001b[0;31m \u001b[0ma_str\u001b[0m\u001b[0;34m[\u001b[0m\u001b[0;36m0\u001b[0m\u001b[0;34m]\u001b[0m \u001b[0;34m=\u001b[0m \u001b[0;34m\"b\"\u001b[0m\u001b[0;34m\u001b[0m\u001b[0;34m\u001b[0m\u001b[0m\n\u001b[0m",
      "\u001b[0;31mTypeError\u001b[0m: 'str' object does not support item assignment"
     ]
    }
   ],
   "source": [
    "a_str = \"abc\"\n",
    "a_str[0] = \"b\""
   ]
  },
  {
   "cell_type": "markdown",
   "metadata": {},
   "source": [
    "Unfortunately in Python there is no indicator that could tell you whether a variable is immutable or mutable, you have to keep in mind what kind of variables are mutable and what are immutable.\n",
    "\n",
    "Back to our example. You might say, that the example with the continent and ocean extents does not highlight an issue since we can clearly see that the problem with our code is easily identifiable. This is of course true, but in the real world we have codes that are more than 5 or 10 lines long. In a codebase that is hundreds or perhaps thousands of lines of code, tracing down these side effects can be a real pain.\n",
    "\n",
    "So generally I would avoid using mutable variables. But how can we do that when we have seen that the class we have defined is clearly mutable. This brings us to next section. You can read more about immutability through this link: https://en.wikipedia.org/wiki/Immutable_object."
   ]
  },
  {
   "cell_type": "markdown",
   "metadata": {},
   "source": [
    "### Creating Python classes the new way\n",
    "\n",
    "Here I would like to show a better way of implementing Python classes. Python 3.5 introduced the `typing` module (https://docs.python.org/3/library/typing.html) to help with type annotations. This module contains a class called `NamedTuple`, which can be used to create new Python classes. Let's use it to implement our `MinMax` class.\n",
    "\n",
    "#### `NamedTuple`, the immutable solution"
   ]
  },
  {
   "cell_type": "code",
   "execution_count": 4,
   "metadata": {},
   "outputs": [],
   "source": [
    "from typing import NamedTuple\n",
    "\n",
    "class MinMax(NamedTuple):\n",
    "    min: float\n",
    "    max: float"
   ]
  },
  {
   "cell_type": "code",
   "execution_count": 5,
   "metadata": {},
   "outputs": [],
   "source": [
    "m = MinMax(min=0.0, max=100.0)"
   ]
  },
  {
   "cell_type": "markdown",
   "metadata": {},
   "source": [
    "So far this is not too exciting. We did not have to define the `__init__` function manuallay but nothing else. Now let's try to print the of `m`."
   ]
  },
  {
   "cell_type": "code",
   "execution_count": 7,
   "metadata": {},
   "outputs": [
    {
     "name": "stdout",
     "output_type": "stream",
     "text": [
      "MinMax(min=0.0, max=100.0)\n"
     ]
    }
   ],
   "source": [
    "print(m)"
   ]
  },
  {
   "cell_type": "markdown",
   "metadata": {},
   "source": [
    "By inheriting from `NamedTuple`, several special methods were automaticall generated. We can even try the equality operator:"
   ]
  },
  {
   "cell_type": "code",
   "execution_count": 8,
   "metadata": {},
   "outputs": [
    {
     "data": {
      "text/plain": [
       "False"
      ]
     },
     "execution_count": 8,
     "metadata": {},
     "output_type": "execute_result"
    }
   ],
   "source": [
    "MinMax(min=0.1, max=0.25) == MinMax(min=0.0, max=0.12)"
   ]
  },
  {
   "cell_type": "code",
   "execution_count": 9,
   "metadata": {},
   "outputs": [
    {
     "data": {
      "text/plain": [
       "True"
      ]
     },
     "execution_count": 9,
     "metadata": {},
     "output_type": "execute_result"
    }
   ],
   "source": [
    "MinMax(min=0.1, max=0.25) == MinMax(min=0.1, max=0.25)"
   ]
  },
  {
   "cell_type": "markdown",
   "metadata": {},
   "source": [
    "It works! But how does this helps us regarding the problem of immutability. Let's try to change the `min` value of `m`."
   ]
  },
  {
   "cell_type": "code",
   "execution_count": 10,
   "metadata": {},
   "outputs": [
    {
     "ename": "AttributeError",
     "evalue": "can't set attribute",
     "output_type": "error",
     "traceback": [
      "\u001b[0;31m---------------------------------------------------------------------------\u001b[0m",
      "\u001b[0;31mAttributeError\u001b[0m                            Traceback (most recent call last)",
      "\u001b[0;32m<ipython-input-10-6c48981d1feb>\u001b[0m in \u001b[0;36m<module>\u001b[0;34m\u001b[0m\n\u001b[0;32m----> 1\u001b[0;31m \u001b[0mm\u001b[0m\u001b[0;34m.\u001b[0m\u001b[0mmin\u001b[0m \u001b[0;34m=\u001b[0m \u001b[0;36m5.0\u001b[0m\u001b[0;34m\u001b[0m\u001b[0;34m\u001b[0m\u001b[0m\n\u001b[0m",
      "\u001b[0;31mAttributeError\u001b[0m: can't set attribute"
     ]
    }
   ],
   "source": [
    "m.min = 5.0"
   ]
  },
  {
   "cell_type": "markdown",
   "metadata": {},
   "source": [
    "We get an error. That is because we defined our class using `NamedTuple`. We discussed briefly that the values of tuples cannot be changed. So what does `NamedTuple` has to do with tuple? Well a tuple is just a collection of variables, that can be indexed. If we think about it, a class in it's simplest form is just a collection of variables as well. A named tuple is just a tuple where we use names or labels, `min` and `max` in our case, to access the different variables stored in it.\n",
    "\n",
    "If we want to, we can transform our `MinMax` object into a plain old Python tuple."
   ]
  },
  {
   "cell_type": "code",
   "execution_count": 12,
   "metadata": {},
   "outputs": [
    {
     "data": {
      "text/plain": [
       "(0.0, 100.0)"
      ]
     },
     "execution_count": 12,
     "metadata": {},
     "output_type": "execute_result"
    }
   ],
   "source": [
    "tuple(m)"
   ]
  },
  {
   "cell_type": "markdown",
   "metadata": {},
   "source": [
    "Or, as it is possible with Python tuples, destructure it's member variables into distinct variables:"
   ]
  },
  {
   "cell_type": "code",
   "execution_count": 14,
   "metadata": {},
   "outputs": [
    {
     "name": "stdout",
     "output_type": "stream",
     "text": [
      "0.0 100.0\n"
     ]
    }
   ],
   "source": [
    "Min, Max = m\n",
    "print(Min, Max)"
   ]
  },
  {
   "cell_type": "markdown",
   "metadata": {},
   "source": [
    "Of course in many cases we would like to change the value stored at member variables of a class. `NamedTuple` creates a special method for our class `_replace` that we can use to do that."
   ]
  },
  {
   "cell_type": "code",
   "execution_count": 16,
   "metadata": {},
   "outputs": [
    {
     "name": "stdout",
     "output_type": "stream",
     "text": [
      "MinMax(min=0.0, max=100.0) MinMax(min=10.0, max=100.0)\n"
     ]
    }
   ],
   "source": [
    "m2 = m._replace(min=10.0)\n",
    "print(m, m2)"
   ]
  },
  {
   "cell_type": "markdown",
   "metadata": {},
   "source": [
    "Notice, how the original variable `m` did not change. Instead `m2` is a new instance of the `MinMax` class, independent of `m`. Well almost independent. In Python every variable has a unique ID associated with it. If two variables have the same ID, then they refer to the same object. Let's check the ID of the `max` member variables."
   ]
  },
  {
   "cell_type": "code",
   "execution_count": 18,
   "metadata": {},
   "outputs": [
    {
     "data": {
      "text/plain": [
       "True"
      ]
     },
     "execution_count": 18,
     "metadata": {},
     "output_type": "execute_result"
    }
   ],
   "source": [
    "id(m.max) == id(m2.max)"
   ]
  },
  {
   "cell_type": "markdown",
   "metadata": {},
   "source": [
    "Indeed in the case of `m` and `m2` the `max` variable refers to the same object. This way they share memory with each other. The good thing is, that the value of `max` cannot be changed as we have seen before, so there is no danger of overwriting it's value and changing it for `m` and `m2`.\n",
    "\n",
    "Let's use our new `MinMax` class to solve our previous problem with the setup of continent and ocean boundaries."
   ]
  },
  {
   "cell_type": "code",
   "execution_count": 20,
   "metadata": {},
   "outputs": [],
   "source": [
    "continent = MinMax(min=0.0, max=100.0)\n",
    "ocean = MinMax(min=100.0, max=300.0)"
   ]
  },
  {
   "cell_type": "code",
   "execution_count": 21,
   "metadata": {},
   "outputs": [],
   "source": [
    "continent2 = continent._replace(max=250.0)\n",
    "ocean2 = ocean._replace(min=250.0, max=450.0)"
   ]
  },
  {
   "cell_type": "code",
   "execution_count": 22,
   "metadata": {},
   "outputs": [
    {
     "name": "stdout",
     "output_type": "stream",
     "text": [
      "MinMax(min=0.0, max=100.0) MinMax(min=100.0, max=300.0)\n",
      "MinMax(min=0.0, max=250.0) MinMax(min=250.0, max=450.0)\n"
     ]
    }
   ],
   "source": [
    "print(continent, ocean)\n",
    "print(continent2, ocean2)"
   ]
  },
  {
   "cell_type": "markdown",
   "metadata": {},
   "source": [
    "Now we have preserved the original values of the first continent and ocean setup.\n",
    "\n",
    "#### `dataclass`, the mutable solution\n",
    "\n",
    "There is another way of defining \"new style\" classes, using the `dataclasses` module."
   ]
  },
  {
   "cell_type": "code",
   "execution_count": 24,
   "metadata": {},
   "outputs": [],
   "source": [
    "from dataclasses import dataclass\n",
    "\n",
    "@dataclass\n",
    "class MinMax:\n",
    "    min: float\n",
    "    max: float"
   ]
  },
  {
   "cell_type": "code",
   "execution_count": 25,
   "metadata": {},
   "outputs": [
    {
     "data": {
      "text/plain": [
       "MinMax(min=-22.1, max=45.1)"
      ]
     },
     "execution_count": 25,
     "metadata": {},
     "output_type": "execute_result"
    }
   ],
   "source": [
    "m = MinMax(min=-22.1, max=45.1)\n",
    "m"
   ]
  },
  {
   "cell_type": "markdown",
   "metadata": {},
   "source": [
    "The main difference here if that `m` is mutable."
   ]
  },
  {
   "cell_type": "code",
   "execution_count": 26,
   "metadata": {},
   "outputs": [
    {
     "data": {
      "text/plain": [
       "MinMax(min=1.0, max=45.1)"
      ]
     },
     "execution_count": 26,
     "metadata": {},
     "output_type": "execute_result"
    }
   ],
   "source": [
    "m.min = 1.0\n",
    "m"
   ]
  },
  {
   "cell_type": "markdown",
   "metadata": {},
   "source": [
    "We can make it immutable again by passing an argument to the `@dataclass` decorator call."
   ]
  },
  {
   "cell_type": "code",
   "execution_count": 27,
   "metadata": {},
   "outputs": [
    {
     "ename": "FrozenInstanceError",
     "evalue": "cannot assign to field 'min'",
     "output_type": "error",
     "traceback": [
      "\u001b[0;31m---------------------------------------------------------------------------\u001b[0m",
      "\u001b[0;31mFrozenInstanceError\u001b[0m                       Traceback (most recent call last)",
      "\u001b[0;32m<ipython-input-27-56df54c6954a>\u001b[0m in \u001b[0;36m<module>\u001b[0;34m\u001b[0m\n\u001b[1;32m      5\u001b[0m \u001b[0;34m\u001b[0m\u001b[0m\n\u001b[1;32m      6\u001b[0m \u001b[0mm\u001b[0m \u001b[0;34m=\u001b[0m \u001b[0mMinMax\u001b[0m\u001b[0;34m(\u001b[0m\u001b[0mmin\u001b[0m\u001b[0;34m=\u001b[0m\u001b[0;36m1.0\u001b[0m\u001b[0;34m,\u001b[0m \u001b[0mmax\u001b[0m\u001b[0;34m=\u001b[0m\u001b[0;36m2.23\u001b[0m\u001b[0;34m)\u001b[0m\u001b[0;34m\u001b[0m\u001b[0;34m\u001b[0m\u001b[0m\n\u001b[0;32m----> 7\u001b[0;31m \u001b[0mm\u001b[0m\u001b[0;34m.\u001b[0m\u001b[0mmin\u001b[0m \u001b[0;34m=\u001b[0m \u001b[0;34m-\u001b[0m\u001b[0;36m34.0\u001b[0m\u001b[0;34m\u001b[0m\u001b[0;34m\u001b[0m\u001b[0m\n\u001b[0m",
      "\u001b[0;32m<string>\u001b[0m in \u001b[0;36m__setattr__\u001b[0;34m(self, name, value)\u001b[0m\n",
      "\u001b[0;31mFrozenInstanceError\u001b[0m: cannot assign to field 'min'"
     ]
    }
   ],
   "source": [
    "@dataclass(frozen=True)\n",
    "class MinMax:\n",
    "    min: float\n",
    "    max: float\n",
    "\n",
    "m = MinMax(min=1.0, max=2.23)\n",
    "m.min = -34.0"
   ]
  },
  {
   "cell_type": "markdown",
   "metadata": {},
   "source": [
    "Personally I think the `NamedTuple` solution is cleaner, and an adequate solution for most cases. The `dataclass` way of defining new class is more customizable however. For the details check out the Python website here: https://www.python.org/dev/peps/pep-0557/.\n",
    "\n",
    "There are many things I have not mentioned (e.g. generics, interfaces), but I think this is more than enough for a short introduction to the new type annotation syntax introduced for Python.\n",
    "\n",
    "The main takeaways are:\n",
    "- type annotations are a new feature introduced to Python that allows annotationg a type of variables so that they can be checked, usually, by a third-party program\n",
    "- type annotations by themselves do not ensure type safety, they do not impose a penalty on runtime performance\n",
    "- types are helpful tools and can help in documenting the code and communicating our intent to the users of our code (which in is most cases is just the person who wrote the code, so essentially it helps us to maintain and understand the code we write)\n",
    "- immutability and mutability are important concepts and are worth considering when designing and using modules\n",
    "- I would argue that in most cases immutability is preferred and when we cannot avoid it, we should make it explicit through documentation and code examples\n",
    "- I would encourage using classes to group together different variables that belong together\n",
    "- for defining classes `NamedTuple` and `dataclass` are useful since they generate much of the biolerplate code that is generally required for a fully functioning class."
   ]
  }
 ],
 "metadata": {
  "kernelspec": {
   "display_name": "Python 3",
   "language": "python",
   "name": "python3"
  },
  "language_info": {
   "codemirror_mode": {
    "name": "ipython",
    "version": 3
   },
   "file_extension": ".py",
   "mimetype": "text/x-python",
   "name": "python",
   "nbconvert_exporter": "python",
   "pygments_lexer": "ipython3",
   "version": "3.8.5"
  }
 },
 "nbformat": 4,
 "nbformat_minor": 4
}
