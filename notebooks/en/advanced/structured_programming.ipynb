{
 "cells": [
  {
   "cell_type": "markdown",
   "metadata": {},
   "source": [
    "# \"Rediscovering\" [structured](https://en.wikipedia.org/wiki/Structured_programming) programming \n",
    "\n",
    "... or how to organize your (Python) code and not lose your sanity\n",
    "\n",
    "## Introduction\n",
    "\n",
    "I am using the expression \"structured programming\" a bit loosely here, but I think it is not entirely irrelevant to the topic I wish to discuss. I would like to argue for a certain way of organising source code that I believe will make it more readable more modular and more extensible. What I mean by these terms hopefully will be clear by the end.\n",
    "\n",
    "I will use a funtion (and its evolution) I have written for plotting model variables (density, composition) from `hdf5` datafiles. The code is written in Python but the concepts can be generalized to any programming language."
   ]
  },
  {
   "cell_type": "markdown",
   "metadata": {},
   "source": [
    "## A motivating example\n",
    "\n"
   ]
  },
  {
   "cell_type": "code",
   "execution_count": 5,
   "metadata": {},
   "outputs": [],
   "source": [
    "import os.path as path\n",
    "from glob import iglob\n",
    "\n",
    "# (1)\n",
    "def plot_figures(model, variable, step, overwrite=False):\n",
    "    fpath = path.join(model.figures, variable.name)\n",
    "    \n",
    "    # globbing for datafiles and ordering them by filename (2)\n",
    "    files = sorted(iglob(path.join(model.root, \"*.gzip.h5\")))\n",
    "    \n",
    "    for ii, datafile in enumerate(files):\n",
    "        if step != -1 and ii % step:\n",
    "            continue\n",
    "        \n",
    "        # output filename\n",
    "        out = os.path.join(fpath, \"luca%d.png\" % ii)\n",
    "        \n",
    "        # (3)\n",
    "        if not newer_than(datafile, out) or not overwrite:\n",
    "            continue\n",
    "        \n",
    "        # (4)\n",
    "        plot_variable(variable, datafile, out)"
   ]
  },
  {
   "cell_type": "markdown",
   "metadata": {},
   "source": [
    "Explanations:\n",
    "1. Here I assume that the arguments for the function stand for:\n",
    "    - `model`: has fields:\n",
    "        - `figure`: a path to the directory where figures are stored\n",
    "        - `root`: path to the directory where datafiles can be found\n",
    "    - `variable`: has fields:\n",
    "        - `name`: the name of the variable we want to plot\n",
    "2. `iglob(path.join(model.root, \"luca*.gzip.h5\"))` similar to executing the bash\n",
    "command `ls /path/to/model/luca*.gzip.h5` terminal\n",
    "\n",
    "On a relatively unrelated note, I recommend checking out the `os.path` module of the Python standard library. It has many useful functions for manipulating filepaths and can replace most of the shell functionalities in a cross-platform way (i.e. it works on Windows, Linux, Mac).\n",
    "\n",
    "If you are willing to sacrifice backward compatibility, the `pathlib` (available since Python 3.4) module is, in my opinion, a better replacement of the `os.path` functions.\n",
    "\n",
    "You can do this:"
   ]
  },
  {
   "cell_type": "code",
   "execution_count": 83,
   "metadata": {},
   "outputs": [
    {
     "data": {
      "text/plain": [
       "(PosixPath('/home/istvan/packages/src/github.com/bozso/python_course/notebooks/en/file_io_exceptions.ipynb'),\n",
       " PosixPath('/home/istvan/packages/src/github.com/bozso/python_course/notebooks/en/object_oriented_programming.ipynb'),\n",
       " PosixPath('/home/istvan/packages/src/github.com/bozso/python_course/notebooks/en/structured_programming.ipynb'))"
      ]
     },
     "execution_count": 83,
     "metadata": {},
     "output_type": "execute_result"
    }
   ],
   "source": [
    "from pathlib import Path\n",
    "\n",
    "p = Path.cwd().absolute().glob(\"*.ipynb\")\n",
    "tuple(p)[:3]"
   ]
  },
  {
   "cell_type": "markdown",
   "metadata": {},
   "source": [
    "Instead of doing this:"
   ]
  },
  {
   "cell_type": "code",
   "execution_count": 89,
   "metadata": {},
   "outputs": [
    {
     "data": {
      "text/plain": [
       "('/home/istvan/packages/src/github.com/bozso/python_course/notebooks/en/file_io_exceptions.ipynb',\n",
       " '/home/istvan/packages/src/github.com/bozso/python_course/notebooks/en/object_oriented_programming.ipynb',\n",
       " '/home/istvan/packages/src/github.com/bozso/python_course/notebooks/en/structured_programming.ipynb')"
      ]
     },
     "execution_count": 89,
     "metadata": {},
     "output_type": "execute_result"
    }
   ],
   "source": [
    "import os\n",
    "\n",
    "p = iglob(path.join(path.abspath(os.getcwd()), \"*.ipynb\"))\n",
    "tuple(p)[:3]"
   ]
  },
  {
   "cell_type": "code",
   "execution_count": 10,
   "metadata": {},
   "outputs": [],
   "source": [
    "def plot_figures_extra_check(model, variable, step, name, overwrite=False, ext=\"png\"):\n",
    "    fpath = path.join(model.figures, variable.name)\n",
    "    \n",
    "    # globbing for datafiles and ordering them by filename (2)\n",
    "    files = sorted(iglob(path.join(model.root, \"*.gzip.h5\" % name)))\n",
    "    \n",
    "    for ii, datafile in enumerate(files):\n",
    "        if step != -1 and ii % step:\n",
    "            continue\n",
    "        \n",
    "        # add extra check...\n",
    "        \n",
    "        # output filename\n",
    "        out = os.path.join(fpath, \"%s%d.%s\" % (ii, name, ext))\n",
    "        \n",
    "        # (3)\n",
    "        if not newer_than(datafile, out) or not overwrite:\n",
    "            continue\n",
    "        \n",
    "        # (4)\n",
    "        plot_variable(variable, datafile, out)"
   ]
  },
  {
   "cell_type": "markdown",
   "metadata": {},
   "source": [
    "## Interfaces and why you should care about them\n",
    "\n",
    "Just a reminder of how our main function looks like at the moment:"
   ]
  },
  {
   "cell_type": "code",
   "execution_count": 91,
   "metadata": {},
   "outputs": [],
   "source": [
    "def plot_figures_extra_check(model, variable, step, name, overwrite=False,\n",
    "                             ext=\"png\", check=None):\n",
    "    fpath = path.join(model.figures, variable.name)\n",
    "    \n",
    "    # globbing for datafiles and ordering them by filename (2)\n",
    "    files = sorted(iglob(path.join(model.root, \"%s*.gzip.h5\" % name)))\n",
    "    \n",
    "    for ii, datafile in enumerate(files):\n",
    "        if step != -1 and ii % step:\n",
    "            continue\n",
    "        \n",
    "        # add extra check...\n",
    "        if check is not None and not check(datafile):\n",
    "            continue\n",
    "        \n",
    "        # output filename\n",
    "        out = os.path.join(fpath, \"%s%d.%s\" % (ii, name, ext))\n",
    "        \n",
    "        # (3)\n",
    "        if not newer_than(datafile, out) or not overwrite:\n",
    "            continue\n",
    "        \n",
    "        # (4)\n",
    "        plot_variable(variable, datafile, out)"
   ]
  },
  {
   "cell_type": "markdown",
   "metadata": {},
   "source": [
    "The first thing that is worth noticing is that we have a bunch of semi related variables as fuction arguments. E.g. `model` is needed for globbing for the datafiles and building up the output filename; `step`, `check`, and `overwrite` are used for deciding whether to use or skip a given datafile.\n",
    "\n",
    "One note reagarding the number of arguments is that its too high. It is usually recommended to limit the number of arguments a function takes to 2 or 3. Perhaps more importantly, as mentioned in the previous paragraph, we have \"overlapping\" arguments. By overlapping I mean that they relate to the same functionality."
   ]
  },
  {
   "cell_type": "markdown",
   "metadata": {},
   "source": [
    "So how can we improve the situation? First of all we should think about what our function does and how it achieves its intended goals.\n",
    "\n",
    "We can separate several distinct steps in:\n",
    "1. Querying the datafiles (i.e globbing for `*.h5` files in the model root directory).\n",
    "2. Generating filepaths of the output files.\n",
    "3. Filtering out datafiles we do not want to use for plotting. This can be separated into two steps, checking if the plotfile needs to be updated and other filtering.\n",
    "4. Plotting the selected datafiles."
   ]
  },
  {
   "cell_type": "markdown",
   "metadata": {},
   "source": [
    "Each of these 4 steps can be represented by an *interface*. But what is an interface? We can think of it as a concept. A concept that describes what a variable we use in our program can do. Since there is no type checking in Python there is no definitive way of defining an interface, but I have come up with the following:"
   ]
  },
  {
   "cell_type": "code",
   "execution_count": 98,
   "metadata": {},
   "outputs": [],
   "source": [
    "from typing import Tuple\n",
    "\n",
    "class Globber(object):\n",
    "    \"\"\"\n",
    "    An object that can query a list of paths.\n",
    "    \"\"\"\n",
    "    def glob(self) -> Tuple[str]:\n",
    "        \"\"\"\n",
    "        Returns a tuple of strings that represent filepaths.\n",
    "        \"\"\"\n",
    "        pass"
   ]
  },
  {
   "cell_type": "markdown",
   "metadata": {},
   "source": [
    "Notice that **nowhere** in this class have I implemented **any** functionality. An interface, at least as I use them, is **not** supposed to contain **details of implementation**, it only **describes** what a variable, that implements said interface, can do.\n",
    "\n",
    "An interface is only half of the story. The other half is the actual class(es) that implement(s) it. Let's implement the Globber interface:"
   ]
  },
  {
   "cell_type": "code",
   "execution_count": 109,
   "metadata": {},
   "outputs": [],
   "source": [
    "class GlobData(NamedTuple):\n",
    "    # root directory where look for datafiles\n",
    "    root: str\n",
    "    # name of the datafile pattern\n",
    "    name: str\n",
    "    # extension of datafiles\n",
    "    extension: str\n",
    "\n",
    "    def glob(self) -> Tuple[str]:\n",
    "        return tuple(\n",
    "            iglob(path.join(self.root, \"%s*.%s\" % (self.name, self.extension)))\n",
    "        )"
   ]
  },
  {
   "cell_type": "markdown",
   "metadata": {},
   "source": [
    "At first glance this does not help too much. We only \"hid\" the call to `iglob` inside a class. Fair enough, but I would encourage reading on to see what happens when we separate our other steps into classes.\n",
    "\n",
    "Next we \"declare\" the interface for filtering files:"
   ]
  },
  {
   "cell_type": "code",
   "execution_count": 101,
   "metadata": {},
   "outputs": [],
   "source": [
    "class Filterer(object):\n",
    "    \"\"\"\n",
    "    An object that can select datapaths that we want to use.\n",
    "    \"\"\"\n",
    "    def filter(self, datapath: str, out: str) -> bool:\n",
    "        \"\"\"Returns False if datafile needs to be skipped.\"\"\"\n",
    "        pass"
   ]
  },
  {
   "cell_type": "markdown",
   "metadata": {},
   "source": [
    "For the sake of simplicity let's assume we just want to check if the plotted imagefile needs to be updated and implement the interface accordingly:"
   ]
  },
  {
   "cell_type": "code",
   "execution_count": 104,
   "metadata": {},
   "outputs": [],
   "source": [
    "class NeedsUpdate(NamedTuple):\n",
    "    overwrite: bool\n",
    "    \n",
    "    def filter(self, datapath: str, out: str) -> bool:\n",
    "        return newer_than(datafile, out) or self.overwrite"
   ]
  },
  {
   "cell_type": "markdown",
   "metadata": {},
   "source": [
    "Finally we declare the interface for building paths for output image files."
   ]
  },
  {
   "cell_type": "code",
   "execution_count": 100,
   "metadata": {},
   "outputs": [],
   "source": [
    "class Transformer(object):\n",
    "    \"\"\"\n",
    "    An object that generates the output path corresponding to a datafile.\n",
    "    \"\"\"\n",
    "    def transform(self, filepath: str) -> str:\n",
    "        pass"
   ]
  },
  {
   "cell_type": "markdown",
   "metadata": {},
   "source": [
    "A possible implementation of it:"
   ]
  },
  {
   "cell_type": "code",
   "execution_count": 105,
   "metadata": {},
   "outputs": [],
   "source": [
    "class Variable(NamedTuple):\n",
    "    name: str"
   ]
  },
  {
   "cell_type": "code",
   "execution_count": 107,
   "metadata": {},
   "outputs": [],
   "source": [
    "class OutName(NamedTuple):\n",
    "    # the variable we want to plot\n",
    "    var: Variable\n",
    "    # path to the output directory\n",
    "    figures: str\n",
    "    # default value can be given\n",
    "    extension: str = \"png\"\n",
    "        \n",
    "    def transform(self, datafile: str) -> str:\n",
    "        # e.g. this will transform \"model/luca001.gzip.h5\" into\n",
    "        # {figures}/{var.name}/luca001.png\n",
    "        \n",
    "        # get the filename without the extension\n",
    "        name = path.basename(datafile).split(\".\")[0]\n",
    "        \n",
    "        return path.join(\n",
    "            self.figures, var.name, \"%s.%s\" % (name, self.extension)\n",
    "        )"
   ]
  },
  {
   "cell_type": "markdown",
   "metadata": {},
   "source": [
    "Just for the sake of completeness I also declare the plotter, but will not implement it."
   ]
  },
  {
   "cell_type": "code",
   "execution_count": 66,
   "metadata": {},
   "outputs": [],
   "source": [
    "class Plotter(object):\n",
    "    def plot(self, data: str, out: str):\n",
    "        pass"
   ]
  },
  {
   "cell_type": "markdown",
   "metadata": {},
   "source": [
    "After all this we can also create a class for managing plotting:"
   ]
  },
  {
   "cell_type": "code",
   "execution_count": 125,
   "metadata": {},
   "outputs": [],
   "source": [
    "class Plotter(NamedTuple):\n",
    "    globber: Globber\n",
    "    filterer: Filterer\n",
    "    transformer: Transformer\n",
    "    plotter: Plotter\n",
    "    \n",
    "    def make_plots(self):\n",
    "        # get the list of datafiles\n",
    "        datafiles = self.globber.glob()\n",
    "        \n",
    "        # create the list of output files\n",
    "        outs = [self.transformer.transform(file) for file in datafiles]\n",
    "        \n",
    "        # filter the files we want to use\n",
    "        files = [\n",
    "            (data, out)\n",
    "            for data, out in zip(datafiles, outs)\n",
    "            if self.filterer.filter(data, out)\n",
    "        ]\n",
    "        \n",
    "        # finally plot our data\n",
    "        for data, out in files:\n",
    "            self.plotter.plot(data, out)"
   ]
  },
  {
   "cell_type": "markdown",
   "metadata": {},
   "source": [
    "Explain: comprehensions"
   ]
  },
  {
   "cell_type": "markdown",
   "metadata": {},
   "source": [
    "I will show an example of how these new classes can be used:"
   ]
  },
  {
   "cell_type": "code",
   "execution_count": 114,
   "metadata": {},
   "outputs": [],
   "source": [
    "class Model(NamedTuple):\n",
    "    root: str\n",
    "    figures: str"
   ]
  },
  {
   "cell_type": "code",
   "execution_count": 118,
   "metadata": {},
   "outputs": [],
   "source": [
    "# mock variable and model\n",
    "density = Variable(name=\"density\")\n",
    "model = Model(root=\"~\", figures=\"/home/user/figures\")"
   ]
  },
  {
   "cell_type": "code",
   "execution_count": 128,
   "metadata": {},
   "outputs": [],
   "source": [
    "p = Plotter(\n",
    "    globber = GlobData(root=model.root, name=\"luca\", extension=\".gzip.h5\"),\n",
    "    filterer = NeedsUpdate(overwrite=False),\n",
    "    transformer=OutName(var=density, extension=\"png\", figures=model.figures),\n",
    "    # here we would pass the object that implements the Plotter interface\n",
    "    plotter = None\n",
    ")\n",
    "\n",
    "# this will not work of course, it is just here for demonstration purposes\n",
    "p.make_plots()"
   ]
  },
  {
   "cell_type": "markdown",
   "metadata": {},
   "source": [
    "What advantages did we gain?\n",
    "\n",
    "Now it is more easy to distinguish the different parts of the our plotting algorithm. We clearly separeted different responsibilities into different classes and different variables. An added bonus that these separate little classes that implement the necessary interfaces can be reused in other modeules or even in different cases of Plotter uses.\n",
    "\n",
    "Another advantage may not be obvious, but perhaps it is the most important one. We made our plotting mechanism much more flexible. Let me demonstrate this with an example."
   ]
  },
  {
   "cell_type": "markdown",
   "metadata": {},
   "source": [
    "Say we want to use only every fifth datafile for plotting. Now we do not have to copy paste the entire `make_plots` function, we only have to create a new class that implements the `Filterer` interface and pass an object of that class to the `filterer` argument of `Plotter`. Let's see a simple solution of this:"
   ]
  },
  {
   "cell_type": "code",
   "execution_count": 135,
   "metadata": {},
   "outputs": [],
   "source": [
    "class EveryNth(NamedTuple):\n",
    "    skip: int\n",
    "        \n",
    "    def filter(self, datafile: str, out: str) -> bool:\n",
    "        # assume extract_index is implemented somewhere and returns\n",
    "        # the index of a datafile, e.g. in the case of \"data029.gzip.h5\"\n",
    "        # it returns 29\n",
    "        return not (extract_index(path.basename(datafile)) % self.skip)"
   ]
  },
  {
   "cell_type": "code",
   "execution_count": 136,
   "metadata": {},
   "outputs": [],
   "source": [
    "# we can reuse the Plotter object from before\n",
    "# remember we can replace members individually using _replace\n",
    "p_new = p._replace(filterer=EveryNth(skip=5))\n",
    "\n",
    "# now we have a plotter that will plot every fifth datafile\n",
    "p_new.make_plots()"
   ]
  },
  {
   "cell_type": "markdown",
   "metadata": {},
   "source": [
    "1. We apply the unix philisophy: Design programs (or classes in our case) that do one thing but they do it right. This helps the readers of our source code (most of the times that is us). "
   ]
  }
 ],
 "metadata": {
  "kernelspec": {
   "display_name": "Python 3",
   "language": "python",
   "name": "python3"
  },
  "language_info": {
   "codemirror_mode": {
    "name": "ipython",
    "version": 3
   },
   "file_extension": ".py",
   "mimetype": "text/x-python",
   "name": "python",
   "nbconvert_exporter": "python",
   "pygments_lexer": "ipython3",
   "version": "3.6.9"
  }
 },
 "nbformat": 4,
 "nbformat_minor": 4
}
